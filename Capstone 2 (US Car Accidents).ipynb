{
 "cells": [
  {
   "cell_type": "code",
   "execution_count": 1,
   "metadata": {},
   "outputs": [],
   "source": [
    "import pandas as pd\n",
    "import numpy as np\n",
    "import dask.dataframe as dd\n",
    "from datetime import datetime\n"
   ]
  },
  {
   "cell_type": "code",
   "execution_count": 2,
   "metadata": {},
   "outputs": [],
   "source": [
    "d = dd.read_csv(r\"C:\\Users\\toshiba\\Documents\\Datasets\\archive\\US_Accidents_Dec20.csv\",usecols=['Start_Time','State','Timezone'])"
   ]
  },
  {
   "cell_type": "code",
   "execution_count": 3,
   "metadata": {},
   "outputs": [
    {
     "data": {
      "text/plain": [
       "(Delayed('int-53a04880-0b74-4356-a37c-03294fe63c12'), 3)"
      ]
     },
     "execution_count": 3,
     "metadata": {},
     "output_type": "execute_result"
    }
   ],
   "source": [
    "d.shape"
   ]
  },
  {
   "cell_type": "code",
   "execution_count": 4,
   "metadata": {},
   "outputs": [
    {
     "data": {
      "text/html": [
       "<div>\n",
       "<style scoped>\n",
       "    .dataframe tbody tr th:only-of-type {\n",
       "        vertical-align: middle;\n",
       "    }\n",
       "\n",
       "    .dataframe tbody tr th {\n",
       "        vertical-align: top;\n",
       "    }\n",
       "\n",
       "    .dataframe thead th {\n",
       "        text-align: right;\n",
       "    }\n",
       "</style>\n",
       "<table border=\"1\" class=\"dataframe\">\n",
       "  <thead>\n",
       "    <tr style=\"text-align: right;\">\n",
       "      <th></th>\n",
       "      <th>Start_Time</th>\n",
       "      <th>State</th>\n",
       "      <th>Timezone</th>\n",
       "    </tr>\n",
       "  </thead>\n",
       "  <tbody>\n",
       "    <tr>\n",
       "      <th>0</th>\n",
       "      <td>2016-02-08 05:46:00</td>\n",
       "      <td>OH</td>\n",
       "      <td>US/Eastern</td>\n",
       "    </tr>\n",
       "    <tr>\n",
       "      <th>1</th>\n",
       "      <td>2016-02-08 06:07:59</td>\n",
       "      <td>OH</td>\n",
       "      <td>US/Eastern</td>\n",
       "    </tr>\n",
       "    <tr>\n",
       "      <th>2</th>\n",
       "      <td>2016-02-08 06:49:27</td>\n",
       "      <td>OH</td>\n",
       "      <td>US/Eastern</td>\n",
       "    </tr>\n",
       "    <tr>\n",
       "      <th>3</th>\n",
       "      <td>2016-02-08 07:23:34</td>\n",
       "      <td>OH</td>\n",
       "      <td>US/Eastern</td>\n",
       "    </tr>\n",
       "    <tr>\n",
       "      <th>4</th>\n",
       "      <td>2016-02-08 07:39:07</td>\n",
       "      <td>OH</td>\n",
       "      <td>US/Eastern</td>\n",
       "    </tr>\n",
       "  </tbody>\n",
       "</table>\n",
       "</div>"
      ],
      "text/plain": [
       "            Start_Time State    Timezone\n",
       "0  2016-02-08 05:46:00    OH  US/Eastern\n",
       "1  2016-02-08 06:07:59    OH  US/Eastern\n",
       "2  2016-02-08 06:49:27    OH  US/Eastern\n",
       "3  2016-02-08 07:23:34    OH  US/Eastern\n",
       "4  2016-02-08 07:39:07    OH  US/Eastern"
      ]
     },
     "execution_count": 4,
     "metadata": {},
     "output_type": "execute_result"
    }
   ],
   "source": [
    "d.head()"
   ]
  },
  {
   "cell_type": "code",
   "execution_count": 5,
   "metadata": {},
   "outputs": [],
   "source": [
    "d=d.rename(columns={\"Start_Time\": \"Date\"})"
   ]
  },
  {
   "cell_type": "code",
   "execution_count": 6,
   "metadata": {},
   "outputs": [],
   "source": [
    "d['Date'] = d['Date'].str.split(' ').str[0]"
   ]
  },
  {
   "cell_type": "code",
   "execution_count": 7,
   "metadata": {},
   "outputs": [
    {
     "data": {
      "text/html": [
       "<div>\n",
       "<style scoped>\n",
       "    .dataframe tbody tr th:only-of-type {\n",
       "        vertical-align: middle;\n",
       "    }\n",
       "\n",
       "    .dataframe tbody tr th {\n",
       "        vertical-align: top;\n",
       "    }\n",
       "\n",
       "    .dataframe thead th {\n",
       "        text-align: right;\n",
       "    }\n",
       "</style>\n",
       "<table border=\"1\" class=\"dataframe\">\n",
       "  <thead>\n",
       "    <tr style=\"text-align: right;\">\n",
       "      <th></th>\n",
       "      <th>Date</th>\n",
       "      <th>State</th>\n",
       "      <th>Timezone</th>\n",
       "    </tr>\n",
       "  </thead>\n",
       "  <tbody>\n",
       "    <tr>\n",
       "      <th>0</th>\n",
       "      <td>2016-02-08</td>\n",
       "      <td>OH</td>\n",
       "      <td>US/Eastern</td>\n",
       "    </tr>\n",
       "    <tr>\n",
       "      <th>1</th>\n",
       "      <td>2016-02-08</td>\n",
       "      <td>OH</td>\n",
       "      <td>US/Eastern</td>\n",
       "    </tr>\n",
       "    <tr>\n",
       "      <th>2</th>\n",
       "      <td>2016-02-08</td>\n",
       "      <td>OH</td>\n",
       "      <td>US/Eastern</td>\n",
       "    </tr>\n",
       "    <tr>\n",
       "      <th>3</th>\n",
       "      <td>2016-02-08</td>\n",
       "      <td>OH</td>\n",
       "      <td>US/Eastern</td>\n",
       "    </tr>\n",
       "    <tr>\n",
       "      <th>4</th>\n",
       "      <td>2016-02-08</td>\n",
       "      <td>OH</td>\n",
       "      <td>US/Eastern</td>\n",
       "    </tr>\n",
       "  </tbody>\n",
       "</table>\n",
       "</div>"
      ],
      "text/plain": [
       "         Date State    Timezone\n",
       "0  2016-02-08    OH  US/Eastern\n",
       "1  2016-02-08    OH  US/Eastern\n",
       "2  2016-02-08    OH  US/Eastern\n",
       "3  2016-02-08    OH  US/Eastern\n",
       "4  2016-02-08    OH  US/Eastern"
      ]
     },
     "execution_count": 7,
     "metadata": {},
     "output_type": "execute_result"
    }
   ],
   "source": [
    "d.head()"
   ]
  },
  {
   "cell_type": "code",
   "execution_count": 8,
   "metadata": {},
   "outputs": [],
   "source": [
    "d['Date'] = d['Date'].astype('datetime64[ns]')"
   ]
  },
  {
   "cell_type": "code",
   "execution_count": 9,
   "metadata": {},
   "outputs": [],
   "source": [
    "import datetime"
   ]
  },
  {
   "cell_type": "code",
   "execution_count": 10,
   "metadata": {},
   "outputs": [],
   "source": [
    "#create a dataframe with the daylight saving days from 2016-2019\n",
    "#The entry for 2020 was not included since Covid-19 changed traffic patterns\n",
    "l=[datetime.datetime(2016, 3, 13),datetime.datetime(2017, 3, 12),datetime.datetime(2018, 3, 11),datetime.datetime(2019, 3, 10)]\n",
    "ds=pd.DataFrame(l,columns=['DS'])"
   ]
  },
  {
   "cell_type": "code",
   "execution_count": 11,
   "metadata": {},
   "outputs": [],
   "source": [
    "from datetime import timedelta"
   ]
  },
  {
   "cell_type": "code",
   "execution_count": 12,
   "metadata": {},
   "outputs": [],
   "source": [
    "ds['DS1']=\"\"\n",
    "ds['DS2']=\"\"\n",
    "ds['DS3']=\"\"\n",
    "ds['DS4']=\"\"\n",
    "ds['DS5']=\"\"\n",
    "ds['DS6']=\"\""
   ]
  },
  {
   "cell_type": "code",
   "execution_count": 13,
   "metadata": {},
   "outputs": [],
   "source": [
    "#fill the dataframe with the 6 subsequent days to get the full the week of Daylight Saving\n",
    "for i in range(4):\n",
    "    for j in range (1,7):\n",
    "        ds.loc[i,'DS'+str(j)]=ds.loc[i,'DS']+timedelta(days=j)"
   ]
  },
  {
   "cell_type": "code",
   "execution_count": 14,
   "metadata": {},
   "outputs": [
    {
     "data": {
      "text/html": [
       "<div>\n",
       "<style scoped>\n",
       "    .dataframe tbody tr th:only-of-type {\n",
       "        vertical-align: middle;\n",
       "    }\n",
       "\n",
       "    .dataframe tbody tr th {\n",
       "        vertical-align: top;\n",
       "    }\n",
       "\n",
       "    .dataframe thead th {\n",
       "        text-align: right;\n",
       "    }\n",
       "</style>\n",
       "<table border=\"1\" class=\"dataframe\">\n",
       "  <thead>\n",
       "    <tr style=\"text-align: right;\">\n",
       "      <th></th>\n",
       "      <th>DS</th>\n",
       "      <th>DS1</th>\n",
       "      <th>DS2</th>\n",
       "      <th>DS3</th>\n",
       "      <th>DS4</th>\n",
       "      <th>DS5</th>\n",
       "      <th>DS6</th>\n",
       "    </tr>\n",
       "  </thead>\n",
       "  <tbody>\n",
       "    <tr>\n",
       "      <th>0</th>\n",
       "      <td>2016-03-13</td>\n",
       "      <td>2016-03-14 00:00:00</td>\n",
       "      <td>2016-03-15 00:00:00</td>\n",
       "      <td>2016-03-16 00:00:00</td>\n",
       "      <td>2016-03-17 00:00:00</td>\n",
       "      <td>2016-03-18 00:00:00</td>\n",
       "      <td>2016-03-19 00:00:00</td>\n",
       "    </tr>\n",
       "    <tr>\n",
       "      <th>1</th>\n",
       "      <td>2017-03-12</td>\n",
       "      <td>2017-03-13 00:00:00</td>\n",
       "      <td>2017-03-14 00:00:00</td>\n",
       "      <td>2017-03-15 00:00:00</td>\n",
       "      <td>2017-03-16 00:00:00</td>\n",
       "      <td>2017-03-17 00:00:00</td>\n",
       "      <td>2017-03-18 00:00:00</td>\n",
       "    </tr>\n",
       "    <tr>\n",
       "      <th>2</th>\n",
       "      <td>2018-03-11</td>\n",
       "      <td>2018-03-12 00:00:00</td>\n",
       "      <td>2018-03-13 00:00:00</td>\n",
       "      <td>2018-03-14 00:00:00</td>\n",
       "      <td>2018-03-15 00:00:00</td>\n",
       "      <td>2018-03-16 00:00:00</td>\n",
       "      <td>2018-03-17 00:00:00</td>\n",
       "    </tr>\n",
       "    <tr>\n",
       "      <th>3</th>\n",
       "      <td>2019-03-10</td>\n",
       "      <td>2019-03-11 00:00:00</td>\n",
       "      <td>2019-03-12 00:00:00</td>\n",
       "      <td>2019-03-13 00:00:00</td>\n",
       "      <td>2019-03-14 00:00:00</td>\n",
       "      <td>2019-03-15 00:00:00</td>\n",
       "      <td>2019-03-16 00:00:00</td>\n",
       "    </tr>\n",
       "  </tbody>\n",
       "</table>\n",
       "</div>"
      ],
      "text/plain": [
       "          DS                  DS1                  DS2                  DS3  \\\n",
       "0 2016-03-13  2016-03-14 00:00:00  2016-03-15 00:00:00  2016-03-16 00:00:00   \n",
       "1 2017-03-12  2017-03-13 00:00:00  2017-03-14 00:00:00  2017-03-15 00:00:00   \n",
       "2 2018-03-11  2018-03-12 00:00:00  2018-03-13 00:00:00  2018-03-14 00:00:00   \n",
       "3 2019-03-10  2019-03-11 00:00:00  2019-03-12 00:00:00  2019-03-13 00:00:00   \n",
       "\n",
       "                   DS4                  DS5                  DS6  \n",
       "0  2016-03-17 00:00:00  2016-03-18 00:00:00  2016-03-19 00:00:00  \n",
       "1  2017-03-16 00:00:00  2017-03-17 00:00:00  2017-03-18 00:00:00  \n",
       "2  2018-03-15 00:00:00  2018-03-16 00:00:00  2018-03-17 00:00:00  \n",
       "3  2019-03-14 00:00:00  2019-03-15 00:00:00  2019-03-16 00:00:00  "
      ]
     },
     "execution_count": 14,
     "metadata": {},
     "output_type": "execute_result"
    }
   ],
   "source": [
    "ds"
   ]
  },
  {
   "cell_type": "code",
   "execution_count": 15,
   "metadata": {},
   "outputs": [
    {
     "data": {
      "text/html": [
       "<div>\n",
       "<style scoped>\n",
       "    .dataframe tbody tr th:only-of-type {\n",
       "        vertical-align: middle;\n",
       "    }\n",
       "\n",
       "    .dataframe tbody tr th {\n",
       "        vertical-align: top;\n",
       "    }\n",
       "\n",
       "    .dataframe thead th {\n",
       "        text-align: right;\n",
       "    }\n",
       "</style>\n",
       "<table border=\"1\" class=\"dataframe\">\n",
       "  <thead>\n",
       "    <tr style=\"text-align: right;\">\n",
       "      <th></th>\n",
       "      <th>WB</th>\n",
       "      <th>WB1</th>\n",
       "      <th>WB2</th>\n",
       "      <th>WB3</th>\n",
       "      <th>WB4</th>\n",
       "      <th>WB5</th>\n",
       "      <th>WB6</th>\n",
       "    </tr>\n",
       "  </thead>\n",
       "  <tbody>\n",
       "    <tr>\n",
       "      <th>2016</th>\n",
       "      <td>2016-03-06</td>\n",
       "      <td>2016-03-07 00:00:00</td>\n",
       "      <td>2016-03-08 00:00:00</td>\n",
       "      <td>2016-03-09 00:00:00</td>\n",
       "      <td>2016-03-10 00:00:00</td>\n",
       "      <td>2016-03-11 00:00:00</td>\n",
       "      <td>2016-03-12 00:00:00</td>\n",
       "    </tr>\n",
       "    <tr>\n",
       "      <th>2017</th>\n",
       "      <td>2017-03-05</td>\n",
       "      <td>2017-03-06 00:00:00</td>\n",
       "      <td>2017-03-07 00:00:00</td>\n",
       "      <td>2017-03-08 00:00:00</td>\n",
       "      <td>2017-03-09 00:00:00</td>\n",
       "      <td>2017-03-10 00:00:00</td>\n",
       "      <td>2017-03-11 00:00:00</td>\n",
       "    </tr>\n",
       "    <tr>\n",
       "      <th>2018</th>\n",
       "      <td>2018-03-04</td>\n",
       "      <td>2018-03-05 00:00:00</td>\n",
       "      <td>2018-03-06 00:00:00</td>\n",
       "      <td>2018-03-07 00:00:00</td>\n",
       "      <td>2018-03-08 00:00:00</td>\n",
       "      <td>2018-03-09 00:00:00</td>\n",
       "      <td>2018-03-10 00:00:00</td>\n",
       "    </tr>\n",
       "    <tr>\n",
       "      <th>2019</th>\n",
       "      <td>2019-03-03</td>\n",
       "      <td>2019-03-04 00:00:00</td>\n",
       "      <td>2019-03-05 00:00:00</td>\n",
       "      <td>2019-03-06 00:00:00</td>\n",
       "      <td>2019-03-07 00:00:00</td>\n",
       "      <td>2019-03-08 00:00:00</td>\n",
       "      <td>2019-03-09 00:00:00</td>\n",
       "    </tr>\n",
       "  </tbody>\n",
       "</table>\n",
       "</div>"
      ],
      "text/plain": [
       "             WB                  WB1                  WB2  \\\n",
       "2016 2016-03-06  2016-03-07 00:00:00  2016-03-08 00:00:00   \n",
       "2017 2017-03-05  2017-03-06 00:00:00  2017-03-07 00:00:00   \n",
       "2018 2018-03-04  2018-03-05 00:00:00  2018-03-06 00:00:00   \n",
       "2019 2019-03-03  2019-03-04 00:00:00  2019-03-05 00:00:00   \n",
       "\n",
       "                      WB3                  WB4                  WB5  \\\n",
       "2016  2016-03-09 00:00:00  2016-03-10 00:00:00  2016-03-11 00:00:00   \n",
       "2017  2017-03-08 00:00:00  2017-03-09 00:00:00  2017-03-10 00:00:00   \n",
       "2018  2018-03-07 00:00:00  2018-03-08 00:00:00  2018-03-09 00:00:00   \n",
       "2019  2019-03-06 00:00:00  2019-03-07 00:00:00  2019-03-08 00:00:00   \n",
       "\n",
       "                      WB6  \n",
       "2016  2016-03-12 00:00:00  \n",
       "2017  2017-03-11 00:00:00  \n",
       "2018  2018-03-10 00:00:00  \n",
       "2019  2019-03-09 00:00:00  "
      ]
     },
     "execution_count": 15,
     "metadata": {},
     "output_type": "execute_result"
    }
   ],
   "source": [
    "#create the Datframe of the entries for the week before daylight saving\n",
    "wb=ds.copy(deep=True)\n",
    "wb=ds+timedelta(days=-7)\n",
    "wb.rename(columns={\"DS\": \"WB\", \"DS1\": \"WB1\", \"DS2\": \"WB2\", \"DS3\": \"WB3\", \"DS4\": \"WB4\", \"DS5\": \"WB5\", \"DS6\": \"WB6\"},inplace=True)\n",
    "wb.rename(index={0: \"2016\", 1: \"2017\", 2: \"2018\",3: \"2019\"})"
   ]
  },
  {
   "cell_type": "code",
   "execution_count": 16,
   "metadata": {},
   "outputs": [
    {
     "data": {
      "text/html": [
       "<div>\n",
       "<style scoped>\n",
       "    .dataframe tbody tr th:only-of-type {\n",
       "        vertical-align: middle;\n",
       "    }\n",
       "\n",
       "    .dataframe tbody tr th {\n",
       "        vertical-align: top;\n",
       "    }\n",
       "\n",
       "    .dataframe thead th {\n",
       "        text-align: right;\n",
       "    }\n",
       "</style>\n",
       "<table border=\"1\" class=\"dataframe\">\n",
       "  <thead>\n",
       "    <tr style=\"text-align: right;\">\n",
       "      <th></th>\n",
       "      <th>WA</th>\n",
       "      <th>WA1</th>\n",
       "      <th>WA2</th>\n",
       "      <th>WA3</th>\n",
       "      <th>WA4</th>\n",
       "      <th>WA5</th>\n",
       "      <th>WA6</th>\n",
       "    </tr>\n",
       "  </thead>\n",
       "  <tbody>\n",
       "    <tr>\n",
       "      <th>2016</th>\n",
       "      <td>2016-03-20</td>\n",
       "      <td>2016-03-21 00:00:00</td>\n",
       "      <td>2016-03-22 00:00:00</td>\n",
       "      <td>2016-03-23 00:00:00</td>\n",
       "      <td>2016-03-24 00:00:00</td>\n",
       "      <td>2016-03-25 00:00:00</td>\n",
       "      <td>2016-03-26 00:00:00</td>\n",
       "    </tr>\n",
       "    <tr>\n",
       "      <th>2017</th>\n",
       "      <td>2017-03-19</td>\n",
       "      <td>2017-03-20 00:00:00</td>\n",
       "      <td>2017-03-21 00:00:00</td>\n",
       "      <td>2017-03-22 00:00:00</td>\n",
       "      <td>2017-03-23 00:00:00</td>\n",
       "      <td>2017-03-24 00:00:00</td>\n",
       "      <td>2017-03-25 00:00:00</td>\n",
       "    </tr>\n",
       "    <tr>\n",
       "      <th>2018</th>\n",
       "      <td>2018-03-18</td>\n",
       "      <td>2018-03-19 00:00:00</td>\n",
       "      <td>2018-03-20 00:00:00</td>\n",
       "      <td>2018-03-21 00:00:00</td>\n",
       "      <td>2018-03-22 00:00:00</td>\n",
       "      <td>2018-03-23 00:00:00</td>\n",
       "      <td>2018-03-24 00:00:00</td>\n",
       "    </tr>\n",
       "    <tr>\n",
       "      <th>2019</th>\n",
       "      <td>2019-03-17</td>\n",
       "      <td>2019-03-18 00:00:00</td>\n",
       "      <td>2019-03-19 00:00:00</td>\n",
       "      <td>2019-03-20 00:00:00</td>\n",
       "      <td>2019-03-21 00:00:00</td>\n",
       "      <td>2019-03-22 00:00:00</td>\n",
       "      <td>2019-03-23 00:00:00</td>\n",
       "    </tr>\n",
       "  </tbody>\n",
       "</table>\n",
       "</div>"
      ],
      "text/plain": [
       "             WA                  WA1                  WA2  \\\n",
       "2016 2016-03-20  2016-03-21 00:00:00  2016-03-22 00:00:00   \n",
       "2017 2017-03-19  2017-03-20 00:00:00  2017-03-21 00:00:00   \n",
       "2018 2018-03-18  2018-03-19 00:00:00  2018-03-20 00:00:00   \n",
       "2019 2019-03-17  2019-03-18 00:00:00  2019-03-19 00:00:00   \n",
       "\n",
       "                      WA3                  WA4                  WA5  \\\n",
       "2016  2016-03-23 00:00:00  2016-03-24 00:00:00  2016-03-25 00:00:00   \n",
       "2017  2017-03-22 00:00:00  2017-03-23 00:00:00  2017-03-24 00:00:00   \n",
       "2018  2018-03-21 00:00:00  2018-03-22 00:00:00  2018-03-23 00:00:00   \n",
       "2019  2019-03-20 00:00:00  2019-03-21 00:00:00  2019-03-22 00:00:00   \n",
       "\n",
       "                      WA6  \n",
       "2016  2016-03-26 00:00:00  \n",
       "2017  2017-03-25 00:00:00  \n",
       "2018  2018-03-24 00:00:00  \n",
       "2019  2019-03-23 00:00:00  "
      ]
     },
     "execution_count": 16,
     "metadata": {},
     "output_type": "execute_result"
    }
   ],
   "source": [
    "#create the Dataframe of the entreies for the week after daylight saving\n",
    "wa=ds.copy(deep=True)\n",
    "wa=ds+timedelta(days=7)\n",
    "wa.rename(columns={\"DS\": \"WA\", \"DS1\": \"WA1\", \"DS2\": \"WA2\", \"DS3\": \"WA3\", \"DS4\": \"WA4\", \"DS5\": \"WA5\", \"DS6\": \"WA6\"},inplace=True)\n",
    "wa.rename(index={0: \"2016\", 1: \"2017\", 2: \"2018\",3: \"2019\"})"
   ]
  },
  {
   "cell_type": "code",
   "execution_count": 17,
   "metadata": {},
   "outputs": [
    {
     "data": {
      "text/html": [
       "<div>\n",
       "<style scoped>\n",
       "    .dataframe tbody tr th:only-of-type {\n",
       "        vertical-align: middle;\n",
       "    }\n",
       "\n",
       "    .dataframe tbody tr th {\n",
       "        vertical-align: top;\n",
       "    }\n",
       "\n",
       "    .dataframe thead th {\n",
       "        text-align: right;\n",
       "    }\n",
       "</style>\n",
       "<table border=\"1\" class=\"dataframe\">\n",
       "  <thead>\n",
       "    <tr style=\"text-align: right;\">\n",
       "      <th></th>\n",
       "      <th>2WB</th>\n",
       "      <th>2WB1</th>\n",
       "      <th>2WB2</th>\n",
       "      <th>2WB3</th>\n",
       "      <th>2WB4</th>\n",
       "      <th>2WB5</th>\n",
       "      <th>2WB6</th>\n",
       "    </tr>\n",
       "  </thead>\n",
       "  <tbody>\n",
       "    <tr>\n",
       "      <th>2016</th>\n",
       "      <td>2016-02-28</td>\n",
       "      <td>2016-02-29 00:00:00</td>\n",
       "      <td>2016-03-01 00:00:00</td>\n",
       "      <td>2016-03-02 00:00:00</td>\n",
       "      <td>2016-03-03 00:00:00</td>\n",
       "      <td>2016-03-04 00:00:00</td>\n",
       "      <td>2016-03-05 00:00:00</td>\n",
       "    </tr>\n",
       "    <tr>\n",
       "      <th>2017</th>\n",
       "      <td>2017-02-26</td>\n",
       "      <td>2017-02-27 00:00:00</td>\n",
       "      <td>2017-02-28 00:00:00</td>\n",
       "      <td>2017-03-01 00:00:00</td>\n",
       "      <td>2017-03-02 00:00:00</td>\n",
       "      <td>2017-03-03 00:00:00</td>\n",
       "      <td>2017-03-04 00:00:00</td>\n",
       "    </tr>\n",
       "    <tr>\n",
       "      <th>2018</th>\n",
       "      <td>2018-02-25</td>\n",
       "      <td>2018-02-26 00:00:00</td>\n",
       "      <td>2018-02-27 00:00:00</td>\n",
       "      <td>2018-02-28 00:00:00</td>\n",
       "      <td>2018-03-01 00:00:00</td>\n",
       "      <td>2018-03-02 00:00:00</td>\n",
       "      <td>2018-03-03 00:00:00</td>\n",
       "    </tr>\n",
       "    <tr>\n",
       "      <th>2019</th>\n",
       "      <td>2019-02-24</td>\n",
       "      <td>2019-02-25 00:00:00</td>\n",
       "      <td>2019-02-26 00:00:00</td>\n",
       "      <td>2019-02-27 00:00:00</td>\n",
       "      <td>2019-02-28 00:00:00</td>\n",
       "      <td>2019-03-01 00:00:00</td>\n",
       "      <td>2019-03-02 00:00:00</td>\n",
       "    </tr>\n",
       "  </tbody>\n",
       "</table>\n",
       "</div>"
      ],
      "text/plain": [
       "            2WB                 2WB1                 2WB2  \\\n",
       "2016 2016-02-28  2016-02-29 00:00:00  2016-03-01 00:00:00   \n",
       "2017 2017-02-26  2017-02-27 00:00:00  2017-02-28 00:00:00   \n",
       "2018 2018-02-25  2018-02-26 00:00:00  2018-02-27 00:00:00   \n",
       "2019 2019-02-24  2019-02-25 00:00:00  2019-02-26 00:00:00   \n",
       "\n",
       "                     2WB3                 2WB4                 2WB5  \\\n",
       "2016  2016-03-02 00:00:00  2016-03-03 00:00:00  2016-03-04 00:00:00   \n",
       "2017  2017-03-01 00:00:00  2017-03-02 00:00:00  2017-03-03 00:00:00   \n",
       "2018  2018-02-28 00:00:00  2018-03-01 00:00:00  2018-03-02 00:00:00   \n",
       "2019  2019-02-27 00:00:00  2019-02-28 00:00:00  2019-03-01 00:00:00   \n",
       "\n",
       "                     2WB6  \n",
       "2016  2016-03-05 00:00:00  \n",
       "2017  2017-03-04 00:00:00  \n",
       "2018  2018-03-03 00:00:00  \n",
       "2019  2019-03-02 00:00:00  "
      ]
     },
     "execution_count": 17,
     "metadata": {},
     "output_type": "execute_result"
    }
   ],
   "source": [
    "#create the Datframe of the entries for two weeks before daylight saving\n",
    "two_wb=ds.copy(deep=True)\n",
    "two_wb=ds+timedelta(days=-14)\n",
    "two_wb.rename(columns={\"DS\": \"2WB\", \"DS1\": \"2WB1\", \"DS2\": \"2WB2\", \"DS3\": \"2WB3\", \"DS4\": \"2WB4\", \"DS5\": \"2WB5\", \"DS6\": \"2WB6\"},inplace=True)\n",
    "two_wb.rename(index={0: \"2016\", 1: \"2017\", 2: \"2018\",3: \"2019\"})"
   ]
  },
  {
   "cell_type": "code",
   "execution_count": 18,
   "metadata": {},
   "outputs": [
    {
     "data": {
      "text/html": [
       "<div>\n",
       "<style scoped>\n",
       "    .dataframe tbody tr th:only-of-type {\n",
       "        vertical-align: middle;\n",
       "    }\n",
       "\n",
       "    .dataframe tbody tr th {\n",
       "        vertical-align: top;\n",
       "    }\n",
       "\n",
       "    .dataframe thead th {\n",
       "        text-align: right;\n",
       "    }\n",
       "</style>\n",
       "<table border=\"1\" class=\"dataframe\">\n",
       "  <thead>\n",
       "    <tr style=\"text-align: right;\">\n",
       "      <th></th>\n",
       "      <th>2WA</th>\n",
       "      <th>2WA1</th>\n",
       "      <th>2WA2</th>\n",
       "      <th>2WA3</th>\n",
       "      <th>2WA4</th>\n",
       "      <th>2WA5</th>\n",
       "      <th>2WA6</th>\n",
       "    </tr>\n",
       "  </thead>\n",
       "  <tbody>\n",
       "    <tr>\n",
       "      <th>2016</th>\n",
       "      <td>2016-03-27</td>\n",
       "      <td>2016-03-28 00:00:00</td>\n",
       "      <td>2016-03-29 00:00:00</td>\n",
       "      <td>2016-03-30 00:00:00</td>\n",
       "      <td>2016-03-31 00:00:00</td>\n",
       "      <td>2016-04-01 00:00:00</td>\n",
       "      <td>2016-04-02 00:00:00</td>\n",
       "    </tr>\n",
       "    <tr>\n",
       "      <th>2017</th>\n",
       "      <td>2017-03-26</td>\n",
       "      <td>2017-03-27 00:00:00</td>\n",
       "      <td>2017-03-28 00:00:00</td>\n",
       "      <td>2017-03-29 00:00:00</td>\n",
       "      <td>2017-03-30 00:00:00</td>\n",
       "      <td>2017-03-31 00:00:00</td>\n",
       "      <td>2017-04-01 00:00:00</td>\n",
       "    </tr>\n",
       "    <tr>\n",
       "      <th>2018</th>\n",
       "      <td>2018-03-25</td>\n",
       "      <td>2018-03-26 00:00:00</td>\n",
       "      <td>2018-03-27 00:00:00</td>\n",
       "      <td>2018-03-28 00:00:00</td>\n",
       "      <td>2018-03-29 00:00:00</td>\n",
       "      <td>2018-03-30 00:00:00</td>\n",
       "      <td>2018-03-31 00:00:00</td>\n",
       "    </tr>\n",
       "    <tr>\n",
       "      <th>2019</th>\n",
       "      <td>2019-03-24</td>\n",
       "      <td>2019-03-25 00:00:00</td>\n",
       "      <td>2019-03-26 00:00:00</td>\n",
       "      <td>2019-03-27 00:00:00</td>\n",
       "      <td>2019-03-28 00:00:00</td>\n",
       "      <td>2019-03-29 00:00:00</td>\n",
       "      <td>2019-03-30 00:00:00</td>\n",
       "    </tr>\n",
       "  </tbody>\n",
       "</table>\n",
       "</div>"
      ],
      "text/plain": [
       "            2WA                 2WA1                 2WA2  \\\n",
       "2016 2016-03-27  2016-03-28 00:00:00  2016-03-29 00:00:00   \n",
       "2017 2017-03-26  2017-03-27 00:00:00  2017-03-28 00:00:00   \n",
       "2018 2018-03-25  2018-03-26 00:00:00  2018-03-27 00:00:00   \n",
       "2019 2019-03-24  2019-03-25 00:00:00  2019-03-26 00:00:00   \n",
       "\n",
       "                     2WA3                 2WA4                 2WA5  \\\n",
       "2016  2016-03-30 00:00:00  2016-03-31 00:00:00  2016-04-01 00:00:00   \n",
       "2017  2017-03-29 00:00:00  2017-03-30 00:00:00  2017-03-31 00:00:00   \n",
       "2018  2018-03-28 00:00:00  2018-03-29 00:00:00  2018-03-30 00:00:00   \n",
       "2019  2019-03-27 00:00:00  2019-03-28 00:00:00  2019-03-29 00:00:00   \n",
       "\n",
       "                     2WA6  \n",
       "2016  2016-04-02 00:00:00  \n",
       "2017  2017-04-01 00:00:00  \n",
       "2018  2018-03-31 00:00:00  \n",
       "2019  2019-03-30 00:00:00  "
      ]
     },
     "execution_count": 18,
     "metadata": {},
     "output_type": "execute_result"
    }
   ],
   "source": [
    "#create the Datframe of the entries for two weeks after daylight saving\n",
    "two_wa=ds.copy(deep=True)\n",
    "two_wa=ds+timedelta(days=14)\n",
    "two_wa.rename(columns={\"DS\": \"2WA\", \"DS1\": \"2WA1\", \"DS2\": \"2WA2\", \"DS3\": \"2WA3\", \"DS4\": \"2WA4\", \"DS5\": \"2WA5\", \"DS6\": \"2WA6\"},inplace=True)\n",
    "two_wa.rename(index={0: \"2016\", 1: \"2017\", 2: \"2018\",3: \"2019\"})"
   ]
  },
  {
   "cell_type": "code",
   "execution_count": 19,
   "metadata": {},
   "outputs": [],
   "source": [
    "d=d.compute()"
   ]
  },
  {
   "cell_type": "code",
   "execution_count": 20,
   "metadata": {},
   "outputs": [
    {
     "data": {
      "text/html": [
       "<div>\n",
       "<style scoped>\n",
       "    .dataframe tbody tr th:only-of-type {\n",
       "        vertical-align: middle;\n",
       "    }\n",
       "\n",
       "    .dataframe tbody tr th {\n",
       "        vertical-align: top;\n",
       "    }\n",
       "\n",
       "    .dataframe thead th {\n",
       "        text-align: right;\n",
       "    }\n",
       "</style>\n",
       "<table border=\"1\" class=\"dataframe\">\n",
       "  <thead>\n",
       "    <tr style=\"text-align: right;\">\n",
       "      <th></th>\n",
       "      <th>Date</th>\n",
       "      <th>State</th>\n",
       "      <th>Timezone</th>\n",
       "    </tr>\n",
       "  </thead>\n",
       "  <tbody>\n",
       "    <tr>\n",
       "      <th>0</th>\n",
       "      <td>2016-02-08</td>\n",
       "      <td>OH</td>\n",
       "      <td>US/Eastern</td>\n",
       "    </tr>\n",
       "    <tr>\n",
       "      <th>1</th>\n",
       "      <td>2016-02-08</td>\n",
       "      <td>OH</td>\n",
       "      <td>US/Eastern</td>\n",
       "    </tr>\n",
       "    <tr>\n",
       "      <th>2</th>\n",
       "      <td>2016-02-08</td>\n",
       "      <td>OH</td>\n",
       "      <td>US/Eastern</td>\n",
       "    </tr>\n",
       "    <tr>\n",
       "      <th>3</th>\n",
       "      <td>2016-02-08</td>\n",
       "      <td>OH</td>\n",
       "      <td>US/Eastern</td>\n",
       "    </tr>\n",
       "    <tr>\n",
       "      <th>4</th>\n",
       "      <td>2016-02-08</td>\n",
       "      <td>OH</td>\n",
       "      <td>US/Eastern</td>\n",
       "    </tr>\n",
       "  </tbody>\n",
       "</table>\n",
       "</div>"
      ],
      "text/plain": [
       "        Date State    Timezone\n",
       "0 2016-02-08    OH  US/Eastern\n",
       "1 2016-02-08    OH  US/Eastern\n",
       "2 2016-02-08    OH  US/Eastern\n",
       "3 2016-02-08    OH  US/Eastern\n",
       "4 2016-02-08    OH  US/Eastern"
      ]
     },
     "execution_count": 20,
     "metadata": {},
     "output_type": "execute_result"
    }
   ],
   "source": [
    "d.head()"
   ]
  },
  {
   "cell_type": "code",
   "execution_count": 21,
   "metadata": {},
   "outputs": [
    {
     "data": {
      "text/plain": [
       "(4232541, 3)"
      ]
     },
     "execution_count": 21,
     "metadata": {},
     "output_type": "execute_result"
    }
   ],
   "source": [
    "d.shape"
   ]
  },
  {
   "cell_type": "code",
   "execution_count": 22,
   "metadata": {},
   "outputs": [],
   "source": [
    "df=d[((d['Date']>=two_wb['2WB'][0])&(d['Date']<=two_wa['2WA6'][0]))|((d['Date']>=two_wb['2WB'][1])&(d['Date']<=two_wa['2WA6'][1]))|((d['Date']>=two_wb['2WB'][2])&(d['Date']<=two_wa['2WA6'][2]))|((d['Date']>=two_wb['2WB'][3])&(d['Date']<=two_wa['2WA6'][3]))]"
   ]
  },
  {
   "cell_type": "code",
   "execution_count": 23,
   "metadata": {},
   "outputs": [
    {
     "data": {
      "text/plain": [
       "(237465, 3)"
      ]
     },
     "execution_count": 23,
     "metadata": {},
     "output_type": "execute_result"
    }
   ],
   "source": [
    "df.shape"
   ]
  },
  {
   "cell_type": "code",
   "execution_count": 24,
   "metadata": {},
   "outputs": [
    {
     "data": {
      "text/html": [
       "<div>\n",
       "<style scoped>\n",
       "    .dataframe tbody tr th:only-of-type {\n",
       "        vertical-align: middle;\n",
       "    }\n",
       "\n",
       "    .dataframe tbody tr th {\n",
       "        vertical-align: top;\n",
       "    }\n",
       "\n",
       "    .dataframe thead th {\n",
       "        text-align: right;\n",
       "    }\n",
       "</style>\n",
       "<table border=\"1\" class=\"dataframe\">\n",
       "  <thead>\n",
       "    <tr style=\"text-align: right;\">\n",
       "      <th></th>\n",
       "      <th>Date</th>\n",
       "      <th>State</th>\n",
       "      <th>Timezone</th>\n",
       "    </tr>\n",
       "  </thead>\n",
       "  <tbody>\n",
       "    <tr>\n",
       "      <th>403</th>\n",
       "      <td>2016-02-28</td>\n",
       "      <td>OH</td>\n",
       "      <td>US/Eastern</td>\n",
       "    </tr>\n",
       "    <tr>\n",
       "      <th>404</th>\n",
       "      <td>2016-02-28</td>\n",
       "      <td>OH</td>\n",
       "      <td>US/Eastern</td>\n",
       "    </tr>\n",
       "    <tr>\n",
       "      <th>405</th>\n",
       "      <td>2016-02-29</td>\n",
       "      <td>OH</td>\n",
       "      <td>US/Eastern</td>\n",
       "    </tr>\n",
       "    <tr>\n",
       "      <th>406</th>\n",
       "      <td>2016-02-29</td>\n",
       "      <td>OH</td>\n",
       "      <td>US/Eastern</td>\n",
       "    </tr>\n",
       "    <tr>\n",
       "      <th>407</th>\n",
       "      <td>2016-02-29</td>\n",
       "      <td>OH</td>\n",
       "      <td>US/Eastern</td>\n",
       "    </tr>\n",
       "  </tbody>\n",
       "</table>\n",
       "</div>"
      ],
      "text/plain": [
       "          Date State    Timezone\n",
       "403 2016-02-28    OH  US/Eastern\n",
       "404 2016-02-28    OH  US/Eastern\n",
       "405 2016-02-29    OH  US/Eastern\n",
       "406 2016-02-29    OH  US/Eastern\n",
       "407 2016-02-29    OH  US/Eastern"
      ]
     },
     "execution_count": 24,
     "metadata": {},
     "output_type": "execute_result"
    }
   ],
   "source": [
    "df.head()"
   ]
  },
  {
   "cell_type": "code",
   "execution_count": 25,
   "metadata": {},
   "outputs": [],
   "source": [
    "#Exclude entries from the State of Arizona since Arizona does not use daylight saving time\n",
    "#create a seperate dataframe for the entries from Arizona for reference\n",
    "az=df[df['State']=='AZ'].copy(deep=True)\n",
    "df=df[df['State']!='AZ'].copy(deep=True)"
   ]
  },
  {
   "cell_type": "code",
   "execution_count": 26,
   "metadata": {},
   "outputs": [],
   "source": [
    "x=df[df['Date']==datetime.datetime(2019, 3, 23)]"
   ]
  },
  {
   "cell_type": "code",
   "execution_count": 27,
   "metadata": {},
   "outputs": [],
   "source": [
    "x=df[df['Date']==wa['WA6'][3]]"
   ]
  },
  {
   "cell_type": "code",
   "execution_count": 28,
   "metadata": {},
   "outputs": [
    {
     "data": {
      "text/plain": [
       "(1055, 3)"
      ]
     },
     "execution_count": 28,
     "metadata": {},
     "output_type": "execute_result"
    }
   ],
   "source": [
    "x.shape"
   ]
  },
  {
   "cell_type": "code",
   "execution_count": 29,
   "metadata": {},
   "outputs": [
    {
     "data": {
      "text/plain": [
       "1055"
      ]
     },
     "execution_count": 29,
     "metadata": {},
     "output_type": "execute_result"
    }
   ],
   "source": [
    "len(x)"
   ]
  },
  {
   "cell_type": "code",
   "execution_count": 30,
   "metadata": {},
   "outputs": [],
   "source": [
    "count_ds=ds.copy(deep=True)\n",
    "count_wa=wa.copy(deep=True)\n",
    "count_wb=wb.copy(deep=True)"
   ]
  },
  {
   "cell_type": "code",
   "execution_count": 31,
   "metadata": {},
   "outputs": [],
   "source": [
    "count_2wa=two_wa.copy(deep=True)\n",
    "count_2wb=two_wb.copy(deep=True)"
   ]
  },
  {
   "cell_type": "code",
   "execution_count": 32,
   "metadata": {},
   "outputs": [],
   "source": [
    "#count the number of accidents for the Daylight savings week data frame\n",
    "for i in range(4):\n",
    "    for j in ds.columns:\n",
    "        count_ds.loc[i,j]=len(df[df['Date']==ds.loc[i,j]])"
   ]
  },
  {
   "cell_type": "code",
   "execution_count": 33,
   "metadata": {},
   "outputs": [
    {
     "data": {
      "text/html": [
       "<div>\n",
       "<style scoped>\n",
       "    .dataframe tbody tr th:only-of-type {\n",
       "        vertical-align: middle;\n",
       "    }\n",
       "\n",
       "    .dataframe tbody tr th {\n",
       "        vertical-align: top;\n",
       "    }\n",
       "\n",
       "    .dataframe thead th {\n",
       "        text-align: right;\n",
       "    }\n",
       "</style>\n",
       "<table border=\"1\" class=\"dataframe\">\n",
       "  <thead>\n",
       "    <tr style=\"text-align: right;\">\n",
       "      <th></th>\n",
       "      <th>DS</th>\n",
       "      <th>DS1</th>\n",
       "      <th>DS2</th>\n",
       "      <th>DS3</th>\n",
       "      <th>DS4</th>\n",
       "      <th>DS5</th>\n",
       "      <th>DS6</th>\n",
       "    </tr>\n",
       "  </thead>\n",
       "  <tbody>\n",
       "    <tr>\n",
       "      <th>0</th>\n",
       "      <td>9</td>\n",
       "      <td>45</td>\n",
       "      <td>46</td>\n",
       "      <td>44</td>\n",
       "      <td>53</td>\n",
       "      <td>53</td>\n",
       "      <td>11</td>\n",
       "    </tr>\n",
       "    <tr>\n",
       "      <th>1</th>\n",
       "      <td>704</td>\n",
       "      <td>2530</td>\n",
       "      <td>2332</td>\n",
       "      <td>1953</td>\n",
       "      <td>2168</td>\n",
       "      <td>2328</td>\n",
       "      <td>865</td>\n",
       "    </tr>\n",
       "    <tr>\n",
       "      <th>2</th>\n",
       "      <td>783</td>\n",
       "      <td>3158</td>\n",
       "      <td>3387</td>\n",
       "      <td>3221</td>\n",
       "      <td>3370</td>\n",
       "      <td>3095</td>\n",
       "      <td>970</td>\n",
       "    </tr>\n",
       "    <tr>\n",
       "      <th>3</th>\n",
       "      <td>946</td>\n",
       "      <td>2369</td>\n",
       "      <td>2718</td>\n",
       "      <td>2781</td>\n",
       "      <td>2507</td>\n",
       "      <td>2593</td>\n",
       "      <td>907</td>\n",
       "    </tr>\n",
       "  </tbody>\n",
       "</table>\n",
       "</div>"
      ],
      "text/plain": [
       "    DS   DS1   DS2   DS3   DS4   DS5  DS6\n",
       "0    9    45    46    44    53    53   11\n",
       "1  704  2530  2332  1953  2168  2328  865\n",
       "2  783  3158  3387  3221  3370  3095  970\n",
       "3  946  2369  2718  2781  2507  2593  907"
      ]
     },
     "execution_count": 33,
     "metadata": {},
     "output_type": "execute_result"
    }
   ],
   "source": [
    "count_ds"
   ]
  },
  {
   "cell_type": "code",
   "execution_count": 34,
   "metadata": {},
   "outputs": [],
   "source": [
    "#count the number of accidents for the Week Before Daylight savings week data frame\n",
    "for i in range(4):\n",
    "    for j in wb.columns:\n",
    "        count_wb.loc[i,j]=len(df[df['Date']==wb.loc[i,j]])"
   ]
  },
  {
   "cell_type": "code",
   "execution_count": 35,
   "metadata": {},
   "outputs": [],
   "source": [
    "#count the number of accidents for the Week After Daylight savings week data frame\n",
    "for i in range(4):\n",
    "    for j in wa.columns:\n",
    "        count_wa.loc[i,(j)]=len(df[df['Date']==wa.loc[i,j]])"
   ]
  },
  {
   "cell_type": "code",
   "execution_count": 36,
   "metadata": {},
   "outputs": [],
   "source": [
    "#count the number of accidents for the Week 2 weeks Before Daylight savings data frame\n",
    "for i in range(4):\n",
    "    for j in two_wb.columns:\n",
    "        count_2wb.loc[i,j]=len(df[df['Date']==two_wb.loc[i,j]])"
   ]
  },
  {
   "cell_type": "code",
   "execution_count": 37,
   "metadata": {},
   "outputs": [],
   "source": [
    "#count the number of accidents for the Week 2 weeks After Daylight savings data frame\n",
    "for i in range(4):\n",
    "    for j in two_wa.columns:\n",
    "        count_2wa.loc[i,j]=len(df[df['Date']==two_wa.loc[i,j]])"
   ]
  },
  {
   "cell_type": "code",
   "execution_count": 38,
   "metadata": {},
   "outputs": [
    {
     "data": {
      "text/html": [
       "<div>\n",
       "<style scoped>\n",
       "    .dataframe tbody tr th:only-of-type {\n",
       "        vertical-align: middle;\n",
       "    }\n",
       "\n",
       "    .dataframe tbody tr th {\n",
       "        vertical-align: top;\n",
       "    }\n",
       "\n",
       "    .dataframe thead th {\n",
       "        text-align: right;\n",
       "    }\n",
       "</style>\n",
       "<table border=\"1\" class=\"dataframe\">\n",
       "  <thead>\n",
       "    <tr style=\"text-align: right;\">\n",
       "      <th></th>\n",
       "      <th>2WA</th>\n",
       "      <th>2WA1</th>\n",
       "      <th>2WA2</th>\n",
       "      <th>2WA3</th>\n",
       "      <th>2WA4</th>\n",
       "      <th>2WA5</th>\n",
       "      <th>2WA6</th>\n",
       "    </tr>\n",
       "  </thead>\n",
       "  <tbody>\n",
       "    <tr>\n",
       "      <th>0</th>\n",
       "      <td>263</td>\n",
       "      <td>652</td>\n",
       "      <td>723</td>\n",
       "      <td>828</td>\n",
       "      <td>678</td>\n",
       "      <td>878</td>\n",
       "      <td>260</td>\n",
       "    </tr>\n",
       "    <tr>\n",
       "      <th>1</th>\n",
       "      <td>601</td>\n",
       "      <td>1939</td>\n",
       "      <td>2191</td>\n",
       "      <td>2280</td>\n",
       "      <td>2134</td>\n",
       "      <td>2118</td>\n",
       "      <td>667</td>\n",
       "    </tr>\n",
       "    <tr>\n",
       "      <th>2</th>\n",
       "      <td>795</td>\n",
       "      <td>3104</td>\n",
       "      <td>2948</td>\n",
       "      <td>1768</td>\n",
       "      <td>3324</td>\n",
       "      <td>2853</td>\n",
       "      <td>693</td>\n",
       "    </tr>\n",
       "    <tr>\n",
       "      <th>3</th>\n",
       "      <td>865</td>\n",
       "      <td>2543</td>\n",
       "      <td>2744</td>\n",
       "      <td>2866</td>\n",
       "      <td>2742</td>\n",
       "      <td>2731</td>\n",
       "      <td>1056</td>\n",
       "    </tr>\n",
       "  </tbody>\n",
       "</table>\n",
       "</div>"
      ],
      "text/plain": [
       "   2WA  2WA1  2WA2  2WA3  2WA4  2WA5  2WA6\n",
       "0  263   652   723   828   678   878   260\n",
       "1  601  1939  2191  2280  2134  2118   667\n",
       "2  795  3104  2948  1768  3324  2853   693\n",
       "3  865  2543  2744  2866  2742  2731  1056"
      ]
     },
     "execution_count": 38,
     "metadata": {},
     "output_type": "execute_result"
    }
   ],
   "source": [
    "count_2wa"
   ]
  },
  {
   "cell_type": "code",
   "execution_count": 39,
   "metadata": {},
   "outputs": [
    {
     "data": {
      "text/html": [
       "<div>\n",
       "<style scoped>\n",
       "    .dataframe tbody tr th:only-of-type {\n",
       "        vertical-align: middle;\n",
       "    }\n",
       "\n",
       "    .dataframe tbody tr th {\n",
       "        vertical-align: top;\n",
       "    }\n",
       "\n",
       "    .dataframe thead th {\n",
       "        text-align: right;\n",
       "    }\n",
       "</style>\n",
       "<table border=\"1\" class=\"dataframe\">\n",
       "  <thead>\n",
       "    <tr style=\"text-align: right;\">\n",
       "      <th></th>\n",
       "      <th>WA</th>\n",
       "      <th>WA1</th>\n",
       "      <th>WA2</th>\n",
       "      <th>WA3</th>\n",
       "      <th>WA4</th>\n",
       "      <th>WA5</th>\n",
       "      <th>WA6</th>\n",
       "    </tr>\n",
       "  </thead>\n",
       "  <tbody>\n",
       "    <tr>\n",
       "      <th>0</th>\n",
       "      <td>7</td>\n",
       "      <td>49</td>\n",
       "      <td>82</td>\n",
       "      <td>704</td>\n",
       "      <td>822</td>\n",
       "      <td>504</td>\n",
       "      <td>251</td>\n",
       "    </tr>\n",
       "    <tr>\n",
       "      <th>1</th>\n",
       "      <td>763</td>\n",
       "      <td>2300</td>\n",
       "      <td>2229</td>\n",
       "      <td>2180</td>\n",
       "      <td>2028</td>\n",
       "      <td>2429</td>\n",
       "      <td>809</td>\n",
       "    </tr>\n",
       "    <tr>\n",
       "      <th>2</th>\n",
       "      <td>729</td>\n",
       "      <td>2797</td>\n",
       "      <td>3419</td>\n",
       "      <td>3472</td>\n",
       "      <td>3447</td>\n",
       "      <td>3251</td>\n",
       "      <td>808</td>\n",
       "    </tr>\n",
       "    <tr>\n",
       "      <th>3</th>\n",
       "      <td>769</td>\n",
       "      <td>2515</td>\n",
       "      <td>2737</td>\n",
       "      <td>3024</td>\n",
       "      <td>2848</td>\n",
       "      <td>2852</td>\n",
       "      <td>1055</td>\n",
       "    </tr>\n",
       "  </tbody>\n",
       "</table>\n",
       "</div>"
      ],
      "text/plain": [
       "    WA   WA1   WA2   WA3   WA4   WA5   WA6\n",
       "0    7    49    82   704   822   504   251\n",
       "1  763  2300  2229  2180  2028  2429   809\n",
       "2  729  2797  3419  3472  3447  3251   808\n",
       "3  769  2515  2737  3024  2848  2852  1055"
      ]
     },
     "execution_count": 39,
     "metadata": {},
     "output_type": "execute_result"
    }
   ],
   "source": [
    "count_wa"
   ]
  },
  {
   "cell_type": "code",
   "execution_count": 40,
   "metadata": {},
   "outputs": [
    {
     "data": {
      "text/html": [
       "<div>\n",
       "<style scoped>\n",
       "    .dataframe tbody tr th:only-of-type {\n",
       "        vertical-align: middle;\n",
       "    }\n",
       "\n",
       "    .dataframe tbody tr th {\n",
       "        vertical-align: top;\n",
       "    }\n",
       "\n",
       "    .dataframe thead th {\n",
       "        text-align: right;\n",
       "    }\n",
       "</style>\n",
       "<table border=\"1\" class=\"dataframe\">\n",
       "  <thead>\n",
       "    <tr style=\"text-align: right;\">\n",
       "      <th></th>\n",
       "      <th>WB</th>\n",
       "      <th>WB1</th>\n",
       "      <th>WB2</th>\n",
       "      <th>WB3</th>\n",
       "      <th>WB4</th>\n",
       "      <th>WB5</th>\n",
       "      <th>WB6</th>\n",
       "    </tr>\n",
       "  </thead>\n",
       "  <tbody>\n",
       "    <tr>\n",
       "      <th>0</th>\n",
       "      <td>4</td>\n",
       "      <td>41</td>\n",
       "      <td>51</td>\n",
       "      <td>42</td>\n",
       "      <td>72</td>\n",
       "      <td>61</td>\n",
       "      <td>10</td>\n",
       "    </tr>\n",
       "    <tr>\n",
       "      <th>1</th>\n",
       "      <td>711</td>\n",
       "      <td>2146</td>\n",
       "      <td>2165</td>\n",
       "      <td>2093</td>\n",
       "      <td>2117</td>\n",
       "      <td>2325</td>\n",
       "      <td>780</td>\n",
       "    </tr>\n",
       "    <tr>\n",
       "      <th>2</th>\n",
       "      <td>706</td>\n",
       "      <td>2859</td>\n",
       "      <td>3072</td>\n",
       "      <td>2445</td>\n",
       "      <td>1214</td>\n",
       "      <td>3103</td>\n",
       "      <td>944</td>\n",
       "    </tr>\n",
       "    <tr>\n",
       "      <th>3</th>\n",
       "      <td>900</td>\n",
       "      <td>2796</td>\n",
       "      <td>3014</td>\n",
       "      <td>3051</td>\n",
       "      <td>2936</td>\n",
       "      <td>2969</td>\n",
       "      <td>1018</td>\n",
       "    </tr>\n",
       "  </tbody>\n",
       "</table>\n",
       "</div>"
      ],
      "text/plain": [
       "    WB   WB1   WB2   WB3   WB4   WB5   WB6\n",
       "0    4    41    51    42    72    61    10\n",
       "1  711  2146  2165  2093  2117  2325   780\n",
       "2  706  2859  3072  2445  1214  3103   944\n",
       "3  900  2796  3014  3051  2936  2969  1018"
      ]
     },
     "execution_count": 40,
     "metadata": {},
     "output_type": "execute_result"
    }
   ],
   "source": [
    "count_wb"
   ]
  },
  {
   "cell_type": "code",
   "execution_count": 41,
   "metadata": {},
   "outputs": [
    {
     "data": {
      "text/html": [
       "<div>\n",
       "<style scoped>\n",
       "    .dataframe tbody tr th:only-of-type {\n",
       "        vertical-align: middle;\n",
       "    }\n",
       "\n",
       "    .dataframe tbody tr th {\n",
       "        vertical-align: top;\n",
       "    }\n",
       "\n",
       "    .dataframe thead th {\n",
       "        text-align: right;\n",
       "    }\n",
       "</style>\n",
       "<table border=\"1\" class=\"dataframe\">\n",
       "  <thead>\n",
       "    <tr style=\"text-align: right;\">\n",
       "      <th></th>\n",
       "      <th>DS</th>\n",
       "      <th>DS1</th>\n",
       "      <th>DS2</th>\n",
       "      <th>DS3</th>\n",
       "      <th>DS4</th>\n",
       "      <th>DS5</th>\n",
       "      <th>DS6</th>\n",
       "    </tr>\n",
       "  </thead>\n",
       "  <tbody>\n",
       "    <tr>\n",
       "      <th>0</th>\n",
       "      <td>9</td>\n",
       "      <td>45</td>\n",
       "      <td>46</td>\n",
       "      <td>44</td>\n",
       "      <td>53</td>\n",
       "      <td>53</td>\n",
       "      <td>11</td>\n",
       "    </tr>\n",
       "    <tr>\n",
       "      <th>1</th>\n",
       "      <td>704</td>\n",
       "      <td>2530</td>\n",
       "      <td>2332</td>\n",
       "      <td>1953</td>\n",
       "      <td>2168</td>\n",
       "      <td>2328</td>\n",
       "      <td>865</td>\n",
       "    </tr>\n",
       "    <tr>\n",
       "      <th>2</th>\n",
       "      <td>783</td>\n",
       "      <td>3158</td>\n",
       "      <td>3387</td>\n",
       "      <td>3221</td>\n",
       "      <td>3370</td>\n",
       "      <td>3095</td>\n",
       "      <td>970</td>\n",
       "    </tr>\n",
       "    <tr>\n",
       "      <th>3</th>\n",
       "      <td>946</td>\n",
       "      <td>2369</td>\n",
       "      <td>2718</td>\n",
       "      <td>2781</td>\n",
       "      <td>2507</td>\n",
       "      <td>2593</td>\n",
       "      <td>907</td>\n",
       "    </tr>\n",
       "  </tbody>\n",
       "</table>\n",
       "</div>"
      ],
      "text/plain": [
       "    DS   DS1   DS2   DS3   DS4   DS5  DS6\n",
       "0    9    45    46    44    53    53   11\n",
       "1  704  2530  2332  1953  2168  2328  865\n",
       "2  783  3158  3387  3221  3370  3095  970\n",
       "3  946  2369  2718  2781  2507  2593  907"
      ]
     },
     "execution_count": 41,
     "metadata": {},
     "output_type": "execute_result"
    }
   ],
   "source": [
    "count_ds"
   ]
  },
  {
   "cell_type": "code",
   "execution_count": 42,
   "metadata": {},
   "outputs": [
    {
     "data": {
      "text/html": [
       "<div>\n",
       "<style scoped>\n",
       "    .dataframe tbody tr th:only-of-type {\n",
       "        vertical-align: middle;\n",
       "    }\n",
       "\n",
       "    .dataframe tbody tr th {\n",
       "        vertical-align: top;\n",
       "    }\n",
       "\n",
       "    .dataframe thead th {\n",
       "        text-align: right;\n",
       "    }\n",
       "</style>\n",
       "<table border=\"1\" class=\"dataframe\">\n",
       "  <thead>\n",
       "    <tr style=\"text-align: right;\">\n",
       "      <th></th>\n",
       "      <th>2WB</th>\n",
       "      <th>2WB1</th>\n",
       "      <th>2WB2</th>\n",
       "      <th>2WB3</th>\n",
       "      <th>2WB4</th>\n",
       "      <th>2WB5</th>\n",
       "      <th>2WB6</th>\n",
       "    </tr>\n",
       "  </thead>\n",
       "  <tbody>\n",
       "    <tr>\n",
       "      <th>0</th>\n",
       "      <td>7</td>\n",
       "      <td>36</td>\n",
       "      <td>55</td>\n",
       "      <td>40</td>\n",
       "      <td>64</td>\n",
       "      <td>58</td>\n",
       "      <td>7</td>\n",
       "    </tr>\n",
       "    <tr>\n",
       "      <th>1</th>\n",
       "      <td>720</td>\n",
       "      <td>2043</td>\n",
       "      <td>2266</td>\n",
       "      <td>2366</td>\n",
       "      <td>2254</td>\n",
       "      <td>2303</td>\n",
       "      <td>743</td>\n",
       "    </tr>\n",
       "    <tr>\n",
       "      <th>2</th>\n",
       "      <td>811</td>\n",
       "      <td>3099</td>\n",
       "      <td>3065</td>\n",
       "      <td>2931</td>\n",
       "      <td>3211</td>\n",
       "      <td>2943</td>\n",
       "      <td>897</td>\n",
       "    </tr>\n",
       "    <tr>\n",
       "      <th>3</th>\n",
       "      <td>964</td>\n",
       "      <td>3083</td>\n",
       "      <td>3099</td>\n",
       "      <td>3422</td>\n",
       "      <td>2814</td>\n",
       "      <td>3127</td>\n",
       "      <td>810</td>\n",
       "    </tr>\n",
       "  </tbody>\n",
       "</table>\n",
       "</div>"
      ],
      "text/plain": [
       "   2WB  2WB1  2WB2  2WB3  2WB4  2WB5 2WB6\n",
       "0    7    36    55    40    64    58    7\n",
       "1  720  2043  2266  2366  2254  2303  743\n",
       "2  811  3099  3065  2931  3211  2943  897\n",
       "3  964  3083  3099  3422  2814  3127  810"
      ]
     },
     "execution_count": 42,
     "metadata": {},
     "output_type": "execute_result"
    }
   ],
   "source": [
    "count_2wb"
   ]
  },
  {
   "cell_type": "code",
   "execution_count": 43,
   "metadata": {},
   "outputs": [],
   "source": [
    "#Convert the entries to integers so that we can perform calculations on the dataframe\n",
    "count_wb=count_wb.apply(pd.to_numeric)\n",
    "count_ds=count_ds.apply(pd.to_numeric)\n",
    "count_wa=count_wa.apply(pd.to_numeric)"
   ]
  },
  {
   "cell_type": "code",
   "execution_count": 44,
   "metadata": {},
   "outputs": [],
   "source": [
    "count_2wb=count_2wb.apply(pd.to_numeric)\n",
    "count_2wa=count_2wa.apply(pd.to_numeric)"
   ]
  },
  {
   "cell_type": "code",
   "execution_count": 45,
   "metadata": {},
   "outputs": [],
   "source": [
    "#Create a total column to find the sum of all accidents for a given week\n",
    "count_wb['Total']=count_wb.sum(axis=1)\n",
    "count_ds['Total']=count_ds.sum(axis=1)\n",
    "count_wa['Total']=count_wa.sum(axis=1)"
   ]
  },
  {
   "cell_type": "code",
   "execution_count": 46,
   "metadata": {},
   "outputs": [],
   "source": [
    "count_2wb['Total']=count_2wb.sum(axis=1)\n",
    "count_2wa['Total']=count_2wa.sum(axis=1)"
   ]
  },
  {
   "cell_type": "code",
   "execution_count": 47,
   "metadata": {},
   "outputs": [],
   "source": [
    "#Drop the 2016 entries since there isn't enough data during this year\n",
    "count_2wb=count_2wb[1:4].copy(deep=True)\n",
    "count_wb=count_wb[1:4].copy(deep=True)\n",
    "count_ds=count_ds[1:4].copy(deep=True)\n",
    "count_wa=count_wa[1:4].copy(deep=True)\n",
    "count_2wa=count_2wa[1:4].copy(deep=True)"
   ]
  },
  {
   "cell_type": "code",
   "execution_count": null,
   "metadata": {},
   "outputs": [],
   "source": []
  },
  {
   "cell_type": "code",
   "execution_count": 48,
   "metadata": {},
   "outputs": [],
   "source": [
    "count_wb.loc['mean'] = count_wb.mean()\n",
    "count_ds.loc['mean'] = count_ds.mean()\n",
    "count_wa.loc['mean'] = count_wa.mean()\n",
    "count_2wb.loc['mean'] = count_2wb.mean()\n",
    "count_2wa.loc['mean'] = count_2wa.mean()"
   ]
  },
  {
   "cell_type": "code",
   "execution_count": 53,
   "metadata": {},
   "outputs": [
    {
     "data": {
      "text/html": [
       "<div>\n",
       "<style scoped>\n",
       "    .dataframe tbody tr th:only-of-type {\n",
       "        vertical-align: middle;\n",
       "    }\n",
       "\n",
       "    .dataframe tbody tr th {\n",
       "        vertical-align: top;\n",
       "    }\n",
       "\n",
       "    .dataframe thead th {\n",
       "        text-align: right;\n",
       "    }\n",
       "</style>\n",
       "<table border=\"1\" class=\"dataframe\">\n",
       "  <thead>\n",
       "    <tr style=\"text-align: right;\">\n",
       "      <th></th>\n",
       "      <th>WB</th>\n",
       "      <th>WB1</th>\n",
       "      <th>WB2</th>\n",
       "      <th>WB3</th>\n",
       "      <th>WB4</th>\n",
       "      <th>WB5</th>\n",
       "      <th>WB6</th>\n",
       "      <th>Total</th>\n",
       "    </tr>\n",
       "  </thead>\n",
       "  <tbody>\n",
       "    <tr>\n",
       "      <th>1</th>\n",
       "      <td>711.000000</td>\n",
       "      <td>2146.000000</td>\n",
       "      <td>2165.000000</td>\n",
       "      <td>2093.000000</td>\n",
       "      <td>2117.0</td>\n",
       "      <td>2325.0</td>\n",
       "      <td>780.0</td>\n",
       "      <td>12337.000000</td>\n",
       "    </tr>\n",
       "    <tr>\n",
       "      <th>2</th>\n",
       "      <td>706.000000</td>\n",
       "      <td>2859.000000</td>\n",
       "      <td>3072.000000</td>\n",
       "      <td>2445.000000</td>\n",
       "      <td>1214.0</td>\n",
       "      <td>3103.0</td>\n",
       "      <td>944.0</td>\n",
       "      <td>14343.000000</td>\n",
       "    </tr>\n",
       "    <tr>\n",
       "      <th>3</th>\n",
       "      <td>900.000000</td>\n",
       "      <td>2796.000000</td>\n",
       "      <td>3014.000000</td>\n",
       "      <td>3051.000000</td>\n",
       "      <td>2936.0</td>\n",
       "      <td>2969.0</td>\n",
       "      <td>1018.0</td>\n",
       "      <td>16684.000000</td>\n",
       "    </tr>\n",
       "    <tr>\n",
       "      <th>mean</th>\n",
       "      <td>772.333333</td>\n",
       "      <td>2600.333333</td>\n",
       "      <td>2750.333333</td>\n",
       "      <td>2529.666667</td>\n",
       "      <td>2089.0</td>\n",
       "      <td>2799.0</td>\n",
       "      <td>914.0</td>\n",
       "      <td>14454.666667</td>\n",
       "    </tr>\n",
       "  </tbody>\n",
       "</table>\n",
       "</div>"
      ],
      "text/plain": [
       "              WB          WB1          WB2          WB3     WB4     WB5  \\\n",
       "1     711.000000  2146.000000  2165.000000  2093.000000  2117.0  2325.0   \n",
       "2     706.000000  2859.000000  3072.000000  2445.000000  1214.0  3103.0   \n",
       "3     900.000000  2796.000000  3014.000000  3051.000000  2936.0  2969.0   \n",
       "mean  772.333333  2600.333333  2750.333333  2529.666667  2089.0  2799.0   \n",
       "\n",
       "         WB6         Total  \n",
       "1      780.0  12337.000000  \n",
       "2      944.0  14343.000000  \n",
       "3     1018.0  16684.000000  \n",
       "mean   914.0  14454.666667  "
      ]
     },
     "execution_count": 53,
     "metadata": {},
     "output_type": "execute_result"
    }
   ],
   "source": [
    "count_wb"
   ]
  },
  {
   "cell_type": "code",
   "execution_count": 54,
   "metadata": {},
   "outputs": [
    {
     "data": {
      "text/html": [
       "<div>\n",
       "<style scoped>\n",
       "    .dataframe tbody tr th:only-of-type {\n",
       "        vertical-align: middle;\n",
       "    }\n",
       "\n",
       "    .dataframe tbody tr th {\n",
       "        vertical-align: top;\n",
       "    }\n",
       "\n",
       "    .dataframe thead th {\n",
       "        text-align: right;\n",
       "    }\n",
       "</style>\n",
       "<table border=\"1\" class=\"dataframe\">\n",
       "  <thead>\n",
       "    <tr style=\"text-align: right;\">\n",
       "      <th></th>\n",
       "      <th>DS</th>\n",
       "      <th>DS1</th>\n",
       "      <th>DS2</th>\n",
       "      <th>DS3</th>\n",
       "      <th>DS4</th>\n",
       "      <th>DS5</th>\n",
       "      <th>DS6</th>\n",
       "      <th>Total</th>\n",
       "    </tr>\n",
       "  </thead>\n",
       "  <tbody>\n",
       "    <tr>\n",
       "      <th>1</th>\n",
       "      <td>704.0</td>\n",
       "      <td>2530.000000</td>\n",
       "      <td>2332.000000</td>\n",
       "      <td>1953.000000</td>\n",
       "      <td>2168.000000</td>\n",
       "      <td>2328.0</td>\n",
       "      <td>865.0</td>\n",
       "      <td>12880.000000</td>\n",
       "    </tr>\n",
       "    <tr>\n",
       "      <th>2</th>\n",
       "      <td>783.0</td>\n",
       "      <td>3158.000000</td>\n",
       "      <td>3387.000000</td>\n",
       "      <td>3221.000000</td>\n",
       "      <td>3370.000000</td>\n",
       "      <td>3095.0</td>\n",
       "      <td>970.0</td>\n",
       "      <td>17984.000000</td>\n",
       "    </tr>\n",
       "    <tr>\n",
       "      <th>3</th>\n",
       "      <td>946.0</td>\n",
       "      <td>2369.000000</td>\n",
       "      <td>2718.000000</td>\n",
       "      <td>2781.000000</td>\n",
       "      <td>2507.000000</td>\n",
       "      <td>2593.0</td>\n",
       "      <td>907.0</td>\n",
       "      <td>14821.000000</td>\n",
       "    </tr>\n",
       "    <tr>\n",
       "      <th>mean</th>\n",
       "      <td>811.0</td>\n",
       "      <td>2685.666667</td>\n",
       "      <td>2812.333333</td>\n",
       "      <td>2651.666667</td>\n",
       "      <td>2681.666667</td>\n",
       "      <td>2672.0</td>\n",
       "      <td>914.0</td>\n",
       "      <td>15228.333333</td>\n",
       "    </tr>\n",
       "  </tbody>\n",
       "</table>\n",
       "</div>"
      ],
      "text/plain": [
       "         DS          DS1          DS2          DS3          DS4     DS5  \\\n",
       "1     704.0  2530.000000  2332.000000  1953.000000  2168.000000  2328.0   \n",
       "2     783.0  3158.000000  3387.000000  3221.000000  3370.000000  3095.0   \n",
       "3     946.0  2369.000000  2718.000000  2781.000000  2507.000000  2593.0   \n",
       "mean  811.0  2685.666667  2812.333333  2651.666667  2681.666667  2672.0   \n",
       "\n",
       "        DS6         Total  \n",
       "1     865.0  12880.000000  \n",
       "2     970.0  17984.000000  \n",
       "3     907.0  14821.000000  \n",
       "mean  914.0  15228.333333  "
      ]
     },
     "execution_count": 54,
     "metadata": {},
     "output_type": "execute_result"
    }
   ],
   "source": [
    "count_ds"
   ]
  },
  {
   "cell_type": "code",
   "execution_count": 55,
   "metadata": {},
   "outputs": [
    {
     "data": {
      "text/html": [
       "<div>\n",
       "<style scoped>\n",
       "    .dataframe tbody tr th:only-of-type {\n",
       "        vertical-align: middle;\n",
       "    }\n",
       "\n",
       "    .dataframe tbody tr th {\n",
       "        vertical-align: top;\n",
       "    }\n",
       "\n",
       "    .dataframe thead th {\n",
       "        text-align: right;\n",
       "    }\n",
       "</style>\n",
       "<table border=\"1\" class=\"dataframe\">\n",
       "  <thead>\n",
       "    <tr style=\"text-align: right;\">\n",
       "      <th></th>\n",
       "      <th>WA</th>\n",
       "      <th>WA1</th>\n",
       "      <th>WA2</th>\n",
       "      <th>WA3</th>\n",
       "      <th>WA4</th>\n",
       "      <th>WA5</th>\n",
       "      <th>WA6</th>\n",
       "      <th>Total</th>\n",
       "    </tr>\n",
       "  </thead>\n",
       "  <tbody>\n",
       "    <tr>\n",
       "      <th>1</th>\n",
       "      <td>763.000000</td>\n",
       "      <td>2300.000000</td>\n",
       "      <td>2229.0</td>\n",
       "      <td>2180.0</td>\n",
       "      <td>2028.000000</td>\n",
       "      <td>2429.0</td>\n",
       "      <td>809.000000</td>\n",
       "      <td>12738.0</td>\n",
       "    </tr>\n",
       "    <tr>\n",
       "      <th>2</th>\n",
       "      <td>729.000000</td>\n",
       "      <td>2797.000000</td>\n",
       "      <td>3419.0</td>\n",
       "      <td>3472.0</td>\n",
       "      <td>3447.000000</td>\n",
       "      <td>3251.0</td>\n",
       "      <td>808.000000</td>\n",
       "      <td>17923.0</td>\n",
       "    </tr>\n",
       "    <tr>\n",
       "      <th>3</th>\n",
       "      <td>769.000000</td>\n",
       "      <td>2515.000000</td>\n",
       "      <td>2737.0</td>\n",
       "      <td>3024.0</td>\n",
       "      <td>2848.000000</td>\n",
       "      <td>2852.0</td>\n",
       "      <td>1055.000000</td>\n",
       "      <td>15800.0</td>\n",
       "    </tr>\n",
       "    <tr>\n",
       "      <th>mean</th>\n",
       "      <td>753.666667</td>\n",
       "      <td>2537.333333</td>\n",
       "      <td>2795.0</td>\n",
       "      <td>2892.0</td>\n",
       "      <td>2774.333333</td>\n",
       "      <td>2844.0</td>\n",
       "      <td>890.666667</td>\n",
       "      <td>15487.0</td>\n",
       "    </tr>\n",
       "  </tbody>\n",
       "</table>\n",
       "</div>"
      ],
      "text/plain": [
       "              WA          WA1     WA2     WA3          WA4     WA5  \\\n",
       "1     763.000000  2300.000000  2229.0  2180.0  2028.000000  2429.0   \n",
       "2     729.000000  2797.000000  3419.0  3472.0  3447.000000  3251.0   \n",
       "3     769.000000  2515.000000  2737.0  3024.0  2848.000000  2852.0   \n",
       "mean  753.666667  2537.333333  2795.0  2892.0  2774.333333  2844.0   \n",
       "\n",
       "              WA6    Total  \n",
       "1      809.000000  12738.0  \n",
       "2      808.000000  17923.0  \n",
       "3     1055.000000  15800.0  \n",
       "mean   890.666667  15487.0  "
      ]
     },
     "execution_count": 55,
     "metadata": {},
     "output_type": "execute_result"
    }
   ],
   "source": [
    "count_wa"
   ]
  },
  {
   "cell_type": "code",
   "execution_count": 56,
   "metadata": {},
   "outputs": [
    {
     "data": {
      "text/html": [
       "<div>\n",
       "<style scoped>\n",
       "    .dataframe tbody tr th:only-of-type {\n",
       "        vertical-align: middle;\n",
       "    }\n",
       "\n",
       "    .dataframe tbody tr th {\n",
       "        vertical-align: top;\n",
       "    }\n",
       "\n",
       "    .dataframe thead th {\n",
       "        text-align: right;\n",
       "    }\n",
       "</style>\n",
       "<table border=\"1\" class=\"dataframe\">\n",
       "  <thead>\n",
       "    <tr style=\"text-align: right;\">\n",
       "      <th></th>\n",
       "      <th>Date</th>\n",
       "      <th>State</th>\n",
       "      <th>Timezone</th>\n",
       "    </tr>\n",
       "  </thead>\n",
       "  <tbody>\n",
       "    <tr>\n",
       "      <th>31135</th>\n",
       "      <td>2016-03-23</td>\n",
       "      <td>CA</td>\n",
       "      <td>NaN</td>\n",
       "    </tr>\n",
       "    <tr>\n",
       "      <th>3211</th>\n",
       "      <td>2017-03-08</td>\n",
       "      <td>CA</td>\n",
       "      <td>NaN</td>\n",
       "    </tr>\n",
       "    <tr>\n",
       "      <th>3990</th>\n",
       "      <td>2017-03-14</td>\n",
       "      <td>CA</td>\n",
       "      <td>NaN</td>\n",
       "    </tr>\n",
       "    <tr>\n",
       "      <th>4090</th>\n",
       "      <td>2017-03-15</td>\n",
       "      <td>CA</td>\n",
       "      <td>NaN</td>\n",
       "    </tr>\n",
       "    <tr>\n",
       "      <th>20755</th>\n",
       "      <td>2017-03-10</td>\n",
       "      <td>FL</td>\n",
       "      <td>NaN</td>\n",
       "    </tr>\n",
       "    <tr>\n",
       "      <th>...</th>\n",
       "      <td>...</td>\n",
       "      <td>...</td>\n",
       "      <td>...</td>\n",
       "    </tr>\n",
       "    <tr>\n",
       "      <th>43078</th>\n",
       "      <td>2018-03-19</td>\n",
       "      <td>FL</td>\n",
       "      <td>NaN</td>\n",
       "    </tr>\n",
       "    <tr>\n",
       "      <th>43827</th>\n",
       "      <td>2018-03-20</td>\n",
       "      <td>OR</td>\n",
       "      <td>NaN</td>\n",
       "    </tr>\n",
       "    <tr>\n",
       "      <th>44332</th>\n",
       "      <td>2018-03-21</td>\n",
       "      <td>UT</td>\n",
       "      <td>NaN</td>\n",
       "    </tr>\n",
       "    <tr>\n",
       "      <th>45761</th>\n",
       "      <td>2018-03-25</td>\n",
       "      <td>SC</td>\n",
       "      <td>NaN</td>\n",
       "    </tr>\n",
       "    <tr>\n",
       "      <th>46349</th>\n",
       "      <td>2018-03-26</td>\n",
       "      <td>CA</td>\n",
       "      <td>NaN</td>\n",
       "    </tr>\n",
       "  </tbody>\n",
       "</table>\n",
       "<p>279 rows × 3 columns</p>\n",
       "</div>"
      ],
      "text/plain": [
       "            Date State Timezone\n",
       "31135 2016-03-23    CA      NaN\n",
       "3211  2017-03-08    CA      NaN\n",
       "3990  2017-03-14    CA      NaN\n",
       "4090  2017-03-15    CA      NaN\n",
       "20755 2017-03-10    FL      NaN\n",
       "...          ...   ...      ...\n",
       "43078 2018-03-19    FL      NaN\n",
       "43827 2018-03-20    OR      NaN\n",
       "44332 2018-03-21    UT      NaN\n",
       "45761 2018-03-25    SC      NaN\n",
       "46349 2018-03-26    CA      NaN\n",
       "\n",
       "[279 rows x 3 columns]"
      ]
     },
     "execution_count": 56,
     "metadata": {},
     "output_type": "execute_result"
    }
   ],
   "source": [
    "#The Timezone has NaN entries due to the timezone changing and we can't segment solely based on Timezone\n",
    "df[(df['Timezone']!='US/Eastern')&(df['Timezone']!='US/Pacific')&(df['Timezone']!='US/Central')&(df['Timezone']!='US/Mountain')]"
   ]
  },
  {
   "cell_type": "code",
   "execution_count": 57,
   "metadata": {},
   "outputs": [
    {
     "data": {
      "text/plain": [
       "array(['CA', 'FL', 'SC', 'TX', 'UT', 'IL', 'OR', 'MD', 'LA'], dtype=object)"
      ]
     },
     "execution_count": 57,
     "metadata": {},
     "output_type": "execute_result"
    }
   ],
   "source": [
    "df[(df['Timezone']!='US/Eastern')&(df['Timezone']!='US/Pacific')&(df['Timezone']!='US/Central')&(df['Timezone']!='US/Mountain')].State.unique()"
   ]
  },
  {
   "cell_type": "code",
   "execution_count": 58,
   "metadata": {},
   "outputs": [
    {
     "data": {
      "text/plain": [
       "array(['US/Eastern', 'US/Pacific', nan, 'US/Central', 'US/Mountain'],\n",
       "      dtype=object)"
      ]
     },
     "execution_count": 58,
     "metadata": {},
     "output_type": "execute_result"
    }
   ],
   "source": [
    "df.Timezone.unique()"
   ]
  },
  {
   "cell_type": "code",
   "execution_count": 59,
   "metadata": {},
   "outputs": [],
   "source": [
    "#looking at the pacific timezone\n",
    "pacific=df[(df['Timezone']=='US/Pacific')|(df['State']=='CA')|(df['State']=='OR')].copy(deep=True)"
   ]
  },
  {
   "cell_type": "code",
   "execution_count": 60,
   "metadata": {},
   "outputs": [],
   "source": [
    "pac_count_ds=ds.copy(deep=True)\n",
    "pac_count_wa=wa.copy(deep=True)\n",
    "pac_count_wb=wb.copy(deep=True)\n",
    "pac_count_2wa=two_wa.copy(deep=True)\n",
    "pac_count_2wb=two_wb.copy(deep=True)"
   ]
  },
  {
   "cell_type": "code",
   "execution_count": 61,
   "metadata": {},
   "outputs": [],
   "source": [
    "#count the number of accidents for the Week Before Daylight savings week  \n",
    "for i in range(4):\n",
    "    for j in wb.columns:\n",
    "        pac_count_wb.loc[i,j]=len(pacific[pacific['Date']==wb.loc[i,j]])"
   ]
  },
  {
   "cell_type": "code",
   "execution_count": 62,
   "metadata": {},
   "outputs": [],
   "source": [
    "#count the number of accidents for the Daylight savings week \n",
    "for i in range(4):\n",
    "    for j in ds.columns:\n",
    "        pac_count_ds.loc[i,j]=len(pacific[pacific['Date']==ds.loc[i,j]])"
   ]
  },
  {
   "cell_type": "code",
   "execution_count": 63,
   "metadata": {},
   "outputs": [],
   "source": [
    "#count the number of accidents for the Week After Daylight savings\n",
    "for i in range(4):\n",
    "    for j in wa.columns:\n",
    "        pac_count_wa.loc[i,(j)]=len(pacific[pacific['Date']==wa.loc[i,j]])"
   ]
  },
  {
   "cell_type": "code",
   "execution_count": 64,
   "metadata": {},
   "outputs": [],
   "source": [
    "#count the number of accidents for the Week 2 weeks Before Daylight savings\n",
    "for i in range(4):\n",
    "    for j in two_wb.columns:\n",
    "        pac_count_2wb.loc[i,j]=len(pacific[pacific['Date']==two_wb.loc[i,j]])"
   ]
  },
  {
   "cell_type": "code",
   "execution_count": 65,
   "metadata": {},
   "outputs": [],
   "source": [
    "#count the number of accidents for the Week 2 weeks After Daylight savings\n",
    "for i in range(4):\n",
    "    for j in two_wa.columns:\n",
    "        pac_count_2wa.loc[i,j]=len(pacific[pacific['Date']==two_wa.loc[i,j]])"
   ]
  },
  {
   "cell_type": "code",
   "execution_count": 66,
   "metadata": {},
   "outputs": [],
   "source": [
    "#Convert the entries to integers so that we can perform calculations on the dataframe\n",
    "pac_count_wb=pac_count_wb.apply(pd.to_numeric)\n",
    "pac_count_ds=pac_count_ds.apply(pd.to_numeric)\n",
    "pac_count_wa=pac_count_wa.apply(pd.to_numeric)\n",
    "pac_count_2wa=pac_count_2wa.apply(pd.to_numeric)\n",
    "pac_count_2wb=pac_count_2wb.apply(pd.to_numeric)\n",
    "#Create a total column to find the sum of all accidents for a given week\n",
    "pac_count_wb['Total']=pac_count_wb.sum(axis=1)\n",
    "pac_count_ds['Total']=pac_count_ds.sum(axis=1)\n",
    "pac_count_wa['Total']=pac_count_wa.sum(axis=1)\n",
    "pac_count_2wb['Total']=pac_count_2wb.sum(axis=1)\n",
    "pac_count_2wa['Total']=pac_count_2wa.sum(axis=1)"
   ]
  },
  {
   "cell_type": "code",
   "execution_count": 67,
   "metadata": {},
   "outputs": [],
   "source": [
    "pac_count_2wa=pac_count_2wa.loc[[1,2,3],:].copy(deep=True)\n",
    "pac_count_wa=pac_count_wa.loc[[1,2,3],:].copy(deep=True)\n",
    "pac_count_ds=pac_count_ds.loc[[1,2,3],:].copy(deep=True)\n",
    "pac_count_wb=pac_count_wb.loc[[1,2,3],:].copy(deep=True)\n",
    "pac_count_2wb=pac_count_2wb.loc[[1,2,3],:].copy(deep=True)"
   ]
  },
  {
   "cell_type": "code",
   "execution_count": 68,
   "metadata": {},
   "outputs": [],
   "source": [
    "pac_count_wb.loc['mean'] = pac_count_wb.mean()\n",
    "pac_count_ds.loc['mean'] = pac_count_ds.mean()\n",
    "pac_count_wa.loc['mean'] = pac_count_wa.mean()\n",
    "pac_count_2wb.loc['mean'] = pac_count_2wb.mean()\n",
    "pac_count_2wa.loc['mean'] = pac_count_2wa.mean()"
   ]
  },
  {
   "cell_type": "code",
   "execution_count": 69,
   "metadata": {},
   "outputs": [
    {
     "data": {
      "text/html": [
       "<div>\n",
       "<style scoped>\n",
       "    .dataframe tbody tr th:only-of-type {\n",
       "        vertical-align: middle;\n",
       "    }\n",
       "\n",
       "    .dataframe tbody tr th {\n",
       "        vertical-align: top;\n",
       "    }\n",
       "\n",
       "    .dataframe thead th {\n",
       "        text-align: right;\n",
       "    }\n",
       "</style>\n",
       "<table border=\"1\" class=\"dataframe\">\n",
       "  <thead>\n",
       "    <tr style=\"text-align: right;\">\n",
       "      <th></th>\n",
       "      <th>2WB</th>\n",
       "      <th>2WB1</th>\n",
       "      <th>2WB2</th>\n",
       "      <th>2WB3</th>\n",
       "      <th>2WB4</th>\n",
       "      <th>2WB5</th>\n",
       "      <th>2WB6</th>\n",
       "      <th>Total</th>\n",
       "    </tr>\n",
       "  </thead>\n",
       "  <tbody>\n",
       "    <tr>\n",
       "      <th>1</th>\n",
       "      <td>321.0</td>\n",
       "      <td>645.0</td>\n",
       "      <td>557.0</td>\n",
       "      <td>605.000000</td>\n",
       "      <td>603.000000</td>\n",
       "      <td>593.000000</td>\n",
       "      <td>299.000000</td>\n",
       "      <td>3623.000000</td>\n",
       "    </tr>\n",
       "    <tr>\n",
       "      <th>2</th>\n",
       "      <td>270.0</td>\n",
       "      <td>777.0</td>\n",
       "      <td>698.0</td>\n",
       "      <td>640.000000</td>\n",
       "      <td>776.000000</td>\n",
       "      <td>743.000000</td>\n",
       "      <td>371.000000</td>\n",
       "      <td>4275.000000</td>\n",
       "    </tr>\n",
       "    <tr>\n",
       "      <th>3</th>\n",
       "      <td>531.0</td>\n",
       "      <td>1158.0</td>\n",
       "      <td>836.0</td>\n",
       "      <td>803.000000</td>\n",
       "      <td>678.000000</td>\n",
       "      <td>582.000000</td>\n",
       "      <td>253.000000</td>\n",
       "      <td>4841.000000</td>\n",
       "    </tr>\n",
       "    <tr>\n",
       "      <th>mean</th>\n",
       "      <td>374.0</td>\n",
       "      <td>860.0</td>\n",
       "      <td>697.0</td>\n",
       "      <td>682.666667</td>\n",
       "      <td>685.666667</td>\n",
       "      <td>639.333333</td>\n",
       "      <td>307.666667</td>\n",
       "      <td>4246.333333</td>\n",
       "    </tr>\n",
       "  </tbody>\n",
       "</table>\n",
       "</div>"
      ],
      "text/plain": [
       "        2WB    2WB1   2WB2        2WB3        2WB4        2WB5        2WB6  \\\n",
       "1     321.0   645.0  557.0  605.000000  603.000000  593.000000  299.000000   \n",
       "2     270.0   777.0  698.0  640.000000  776.000000  743.000000  371.000000   \n",
       "3     531.0  1158.0  836.0  803.000000  678.000000  582.000000  253.000000   \n",
       "mean  374.0   860.0  697.0  682.666667  685.666667  639.333333  307.666667   \n",
       "\n",
       "            Total  \n",
       "1     3623.000000  \n",
       "2     4275.000000  \n",
       "3     4841.000000  \n",
       "mean  4246.333333  "
      ]
     },
     "execution_count": 69,
     "metadata": {},
     "output_type": "execute_result"
    }
   ],
   "source": [
    "pac_count_2wb"
   ]
  },
  {
   "cell_type": "code",
   "execution_count": 70,
   "metadata": {},
   "outputs": [
    {
     "data": {
      "text/html": [
       "<div>\n",
       "<style scoped>\n",
       "    .dataframe tbody tr th:only-of-type {\n",
       "        vertical-align: middle;\n",
       "    }\n",
       "\n",
       "    .dataframe tbody tr th {\n",
       "        vertical-align: top;\n",
       "    }\n",
       "\n",
       "    .dataframe thead th {\n",
       "        text-align: right;\n",
       "    }\n",
       "</style>\n",
       "<table border=\"1\" class=\"dataframe\">\n",
       "  <thead>\n",
       "    <tr style=\"text-align: right;\">\n",
       "      <th></th>\n",
       "      <th>WB</th>\n",
       "      <th>WB1</th>\n",
       "      <th>WB2</th>\n",
       "      <th>WB3</th>\n",
       "      <th>WB4</th>\n",
       "      <th>WB5</th>\n",
       "      <th>WB6</th>\n",
       "      <th>Total</th>\n",
       "    </tr>\n",
       "  </thead>\n",
       "  <tbody>\n",
       "    <tr>\n",
       "      <th>1</th>\n",
       "      <td>281.0</td>\n",
       "      <td>553.000000</td>\n",
       "      <td>546.000000</td>\n",
       "      <td>534.000000</td>\n",
       "      <td>629.000000</td>\n",
       "      <td>664.000000</td>\n",
       "      <td>329.0</td>\n",
       "      <td>3536.000000</td>\n",
       "    </tr>\n",
       "    <tr>\n",
       "      <th>2</th>\n",
       "      <td>231.0</td>\n",
       "      <td>654.000000</td>\n",
       "      <td>590.000000</td>\n",
       "      <td>480.000000</td>\n",
       "      <td>362.000000</td>\n",
       "      <td>572.000000</td>\n",
       "      <td>323.0</td>\n",
       "      <td>3212.000000</td>\n",
       "    </tr>\n",
       "    <tr>\n",
       "      <th>3</th>\n",
       "      <td>292.0</td>\n",
       "      <td>672.000000</td>\n",
       "      <td>716.000000</td>\n",
       "      <td>763.000000</td>\n",
       "      <td>676.000000</td>\n",
       "      <td>791.000000</td>\n",
       "      <td>371.0</td>\n",
       "      <td>4281.000000</td>\n",
       "    </tr>\n",
       "    <tr>\n",
       "      <th>mean</th>\n",
       "      <td>268.0</td>\n",
       "      <td>626.333333</td>\n",
       "      <td>617.333333</td>\n",
       "      <td>592.333333</td>\n",
       "      <td>555.666667</td>\n",
       "      <td>675.666667</td>\n",
       "      <td>341.0</td>\n",
       "      <td>3676.333333</td>\n",
       "    </tr>\n",
       "  </tbody>\n",
       "</table>\n",
       "</div>"
      ],
      "text/plain": [
       "         WB         WB1         WB2         WB3         WB4         WB5  \\\n",
       "1     281.0  553.000000  546.000000  534.000000  629.000000  664.000000   \n",
       "2     231.0  654.000000  590.000000  480.000000  362.000000  572.000000   \n",
       "3     292.0  672.000000  716.000000  763.000000  676.000000  791.000000   \n",
       "mean  268.0  626.333333  617.333333  592.333333  555.666667  675.666667   \n",
       "\n",
       "        WB6        Total  \n",
       "1     329.0  3536.000000  \n",
       "2     323.0  3212.000000  \n",
       "3     371.0  4281.000000  \n",
       "mean  341.0  3676.333333  "
      ]
     },
     "execution_count": 70,
     "metadata": {},
     "output_type": "execute_result"
    }
   ],
   "source": [
    "pac_count_wb"
   ]
  },
  {
   "cell_type": "code",
   "execution_count": 71,
   "metadata": {},
   "outputs": [
    {
     "data": {
      "text/html": [
       "<div>\n",
       "<style scoped>\n",
       "    .dataframe tbody tr th:only-of-type {\n",
       "        vertical-align: middle;\n",
       "    }\n",
       "\n",
       "    .dataframe tbody tr th {\n",
       "        vertical-align: top;\n",
       "    }\n",
       "\n",
       "    .dataframe thead th {\n",
       "        text-align: right;\n",
       "    }\n",
       "</style>\n",
       "<table border=\"1\" class=\"dataframe\">\n",
       "  <thead>\n",
       "    <tr style=\"text-align: right;\">\n",
       "      <th></th>\n",
       "      <th>DS</th>\n",
       "      <th>DS1</th>\n",
       "      <th>DS2</th>\n",
       "      <th>DS3</th>\n",
       "      <th>DS4</th>\n",
       "      <th>DS5</th>\n",
       "      <th>DS6</th>\n",
       "      <th>Total</th>\n",
       "    </tr>\n",
       "  </thead>\n",
       "  <tbody>\n",
       "    <tr>\n",
       "      <th>1</th>\n",
       "      <td>295.0</td>\n",
       "      <td>470.000000</td>\n",
       "      <td>499.000000</td>\n",
       "      <td>541.0</td>\n",
       "      <td>549.000000</td>\n",
       "      <td>651.0</td>\n",
       "      <td>315.000000</td>\n",
       "      <td>3320.0</td>\n",
       "    </tr>\n",
       "    <tr>\n",
       "      <th>2</th>\n",
       "      <td>268.0</td>\n",
       "      <td>731.000000</td>\n",
       "      <td>765.000000</td>\n",
       "      <td>701.0</td>\n",
       "      <td>790.000000</td>\n",
       "      <td>726.0</td>\n",
       "      <td>374.000000</td>\n",
       "      <td>4355.0</td>\n",
       "    </tr>\n",
       "    <tr>\n",
       "      <th>3</th>\n",
       "      <td>322.0</td>\n",
       "      <td>504.000000</td>\n",
       "      <td>628.000000</td>\n",
       "      <td>594.0</td>\n",
       "      <td>574.000000</td>\n",
       "      <td>630.0</td>\n",
       "      <td>341.000000</td>\n",
       "      <td>3593.0</td>\n",
       "    </tr>\n",
       "    <tr>\n",
       "      <th>mean</th>\n",
       "      <td>295.0</td>\n",
       "      <td>568.333333</td>\n",
       "      <td>630.666667</td>\n",
       "      <td>612.0</td>\n",
       "      <td>637.666667</td>\n",
       "      <td>669.0</td>\n",
       "      <td>343.333333</td>\n",
       "      <td>3756.0</td>\n",
       "    </tr>\n",
       "  </tbody>\n",
       "</table>\n",
       "</div>"
      ],
      "text/plain": [
       "         DS         DS1         DS2    DS3         DS4    DS5         DS6  \\\n",
       "1     295.0  470.000000  499.000000  541.0  549.000000  651.0  315.000000   \n",
       "2     268.0  731.000000  765.000000  701.0  790.000000  726.0  374.000000   \n",
       "3     322.0  504.000000  628.000000  594.0  574.000000  630.0  341.000000   \n",
       "mean  295.0  568.333333  630.666667  612.0  637.666667  669.0  343.333333   \n",
       "\n",
       "       Total  \n",
       "1     3320.0  \n",
       "2     4355.0  \n",
       "3     3593.0  \n",
       "mean  3756.0  "
      ]
     },
     "execution_count": 71,
     "metadata": {},
     "output_type": "execute_result"
    }
   ],
   "source": [
    "pac_count_ds"
   ]
  },
  {
   "cell_type": "code",
   "execution_count": 72,
   "metadata": {},
   "outputs": [
    {
     "data": {
      "text/html": [
       "<div>\n",
       "<style scoped>\n",
       "    .dataframe tbody tr th:only-of-type {\n",
       "        vertical-align: middle;\n",
       "    }\n",
       "\n",
       "    .dataframe tbody tr th {\n",
       "        vertical-align: top;\n",
       "    }\n",
       "\n",
       "    .dataframe thead th {\n",
       "        text-align: right;\n",
       "    }\n",
       "</style>\n",
       "<table border=\"1\" class=\"dataframe\">\n",
       "  <thead>\n",
       "    <tr style=\"text-align: right;\">\n",
       "      <th></th>\n",
       "      <th>WA</th>\n",
       "      <th>WA1</th>\n",
       "      <th>WA2</th>\n",
       "      <th>WA3</th>\n",
       "      <th>WA4</th>\n",
       "      <th>WA5</th>\n",
       "      <th>WA6</th>\n",
       "      <th>Total</th>\n",
       "    </tr>\n",
       "  </thead>\n",
       "  <tbody>\n",
       "    <tr>\n",
       "      <th>1</th>\n",
       "      <td>265.000000</td>\n",
       "      <td>624.0</td>\n",
       "      <td>640.0</td>\n",
       "      <td>721.0</td>\n",
       "      <td>578.000000</td>\n",
       "      <td>849.0</td>\n",
       "      <td>270.000000</td>\n",
       "      <td>3947.000000</td>\n",
       "    </tr>\n",
       "    <tr>\n",
       "      <th>2</th>\n",
       "      <td>270.000000</td>\n",
       "      <td>489.0</td>\n",
       "      <td>673.0</td>\n",
       "      <td>882.0</td>\n",
       "      <td>887.000000</td>\n",
       "      <td>788.0</td>\n",
       "      <td>321.000000</td>\n",
       "      <td>4310.000000</td>\n",
       "    </tr>\n",
       "    <tr>\n",
       "      <th>3</th>\n",
       "      <td>285.000000</td>\n",
       "      <td>636.0</td>\n",
       "      <td>655.0</td>\n",
       "      <td>758.0</td>\n",
       "      <td>595.000000</td>\n",
       "      <td>583.0</td>\n",
       "      <td>401.000000</td>\n",
       "      <td>3913.000000</td>\n",
       "    </tr>\n",
       "    <tr>\n",
       "      <th>mean</th>\n",
       "      <td>273.333333</td>\n",
       "      <td>583.0</td>\n",
       "      <td>656.0</td>\n",
       "      <td>787.0</td>\n",
       "      <td>686.666667</td>\n",
       "      <td>740.0</td>\n",
       "      <td>330.666667</td>\n",
       "      <td>4056.666667</td>\n",
       "    </tr>\n",
       "  </tbody>\n",
       "</table>\n",
       "</div>"
      ],
      "text/plain": [
       "              WA    WA1    WA2    WA3         WA4    WA5         WA6  \\\n",
       "1     265.000000  624.0  640.0  721.0  578.000000  849.0  270.000000   \n",
       "2     270.000000  489.0  673.0  882.0  887.000000  788.0  321.000000   \n",
       "3     285.000000  636.0  655.0  758.0  595.000000  583.0  401.000000   \n",
       "mean  273.333333  583.0  656.0  787.0  686.666667  740.0  330.666667   \n",
       "\n",
       "            Total  \n",
       "1     3947.000000  \n",
       "2     4310.000000  \n",
       "3     3913.000000  \n",
       "mean  4056.666667  "
      ]
     },
     "execution_count": 72,
     "metadata": {},
     "output_type": "execute_result"
    }
   ],
   "source": [
    "pac_count_wa"
   ]
  },
  {
   "cell_type": "code",
   "execution_count": 73,
   "metadata": {},
   "outputs": [
    {
     "data": {
      "text/html": [
       "<div>\n",
       "<style scoped>\n",
       "    .dataframe tbody tr th:only-of-type {\n",
       "        vertical-align: middle;\n",
       "    }\n",
       "\n",
       "    .dataframe tbody tr th {\n",
       "        vertical-align: top;\n",
       "    }\n",
       "\n",
       "    .dataframe thead th {\n",
       "        text-align: right;\n",
       "    }\n",
       "</style>\n",
       "<table border=\"1\" class=\"dataframe\">\n",
       "  <thead>\n",
       "    <tr style=\"text-align: right;\">\n",
       "      <th></th>\n",
       "      <th>2WA</th>\n",
       "      <th>2WA1</th>\n",
       "      <th>2WA2</th>\n",
       "      <th>2WA3</th>\n",
       "      <th>2WA4</th>\n",
       "      <th>2WA5</th>\n",
       "      <th>2WA6</th>\n",
       "      <th>Total</th>\n",
       "    </tr>\n",
       "  </thead>\n",
       "  <tbody>\n",
       "    <tr>\n",
       "      <th>1</th>\n",
       "      <td>235.000000</td>\n",
       "      <td>564.000000</td>\n",
       "      <td>659.0</td>\n",
       "      <td>638.000000</td>\n",
       "      <td>692.000000</td>\n",
       "      <td>635.000000</td>\n",
       "      <td>286.0</td>\n",
       "      <td>3709.000000</td>\n",
       "    </tr>\n",
       "    <tr>\n",
       "      <th>2</th>\n",
       "      <td>315.000000</td>\n",
       "      <td>658.000000</td>\n",
       "      <td>644.0</td>\n",
       "      <td>487.000000</td>\n",
       "      <td>694.000000</td>\n",
       "      <td>600.000000</td>\n",
       "      <td>253.0</td>\n",
       "      <td>3651.000000</td>\n",
       "    </tr>\n",
       "    <tr>\n",
       "      <th>3</th>\n",
       "      <td>316.000000</td>\n",
       "      <td>522.000000</td>\n",
       "      <td>536.0</td>\n",
       "      <td>623.000000</td>\n",
       "      <td>565.000000</td>\n",
       "      <td>534.000000</td>\n",
       "      <td>325.0</td>\n",
       "      <td>3421.000000</td>\n",
       "    </tr>\n",
       "    <tr>\n",
       "      <th>mean</th>\n",
       "      <td>288.666667</td>\n",
       "      <td>581.333333</td>\n",
       "      <td>613.0</td>\n",
       "      <td>582.666667</td>\n",
       "      <td>650.333333</td>\n",
       "      <td>589.666667</td>\n",
       "      <td>288.0</td>\n",
       "      <td>3593.666667</td>\n",
       "    </tr>\n",
       "  </tbody>\n",
       "</table>\n",
       "</div>"
      ],
      "text/plain": [
       "             2WA        2WA1   2WA2        2WA3        2WA4        2WA5  \\\n",
       "1     235.000000  564.000000  659.0  638.000000  692.000000  635.000000   \n",
       "2     315.000000  658.000000  644.0  487.000000  694.000000  600.000000   \n",
       "3     316.000000  522.000000  536.0  623.000000  565.000000  534.000000   \n",
       "mean  288.666667  581.333333  613.0  582.666667  650.333333  589.666667   \n",
       "\n",
       "       2WA6        Total  \n",
       "1     286.0  3709.000000  \n",
       "2     253.0  3651.000000  \n",
       "3     325.0  3421.000000  \n",
       "mean  288.0  3593.666667  "
      ]
     },
     "execution_count": 73,
     "metadata": {},
     "output_type": "execute_result"
    }
   ],
   "source": [
    "pac_count_2wa"
   ]
  },
  {
   "cell_type": "code",
   "execution_count": 74,
   "metadata": {},
   "outputs": [
    {
     "data": {
      "text/html": [
       "<div>\n",
       "<style scoped>\n",
       "    .dataframe tbody tr th:only-of-type {\n",
       "        vertical-align: middle;\n",
       "    }\n",
       "\n",
       "    .dataframe tbody tr th {\n",
       "        vertical-align: top;\n",
       "    }\n",
       "\n",
       "    .dataframe thead th {\n",
       "        text-align: right;\n",
       "    }\n",
       "</style>\n",
       "<table border=\"1\" class=\"dataframe\">\n",
       "  <thead>\n",
       "    <tr style=\"text-align: right;\">\n",
       "      <th></th>\n",
       "      <th>Date</th>\n",
       "      <th>State</th>\n",
       "      <th>Timezone</th>\n",
       "    </tr>\n",
       "  </thead>\n",
       "  <tbody>\n",
       "    <tr>\n",
       "      <th>1082</th>\n",
       "      <td>2019-03-03</td>\n",
       "      <td>AZ</td>\n",
       "      <td>US/Mountain</td>\n",
       "    </tr>\n",
       "    <tr>\n",
       "      <th>1083</th>\n",
       "      <td>2019-03-03</td>\n",
       "      <td>AZ</td>\n",
       "      <td>US/Mountain</td>\n",
       "    </tr>\n",
       "    <tr>\n",
       "      <th>1084</th>\n",
       "      <td>2019-03-03</td>\n",
       "      <td>AZ</td>\n",
       "      <td>US/Mountain</td>\n",
       "    </tr>\n",
       "    <tr>\n",
       "      <th>1085</th>\n",
       "      <td>2019-03-03</td>\n",
       "      <td>AZ</td>\n",
       "      <td>US/Mountain</td>\n",
       "    </tr>\n",
       "    <tr>\n",
       "      <th>1086</th>\n",
       "      <td>2019-03-03</td>\n",
       "      <td>AZ</td>\n",
       "      <td>US/Mountain</td>\n",
       "    </tr>\n",
       "  </tbody>\n",
       "</table>\n",
       "</div>"
      ],
      "text/plain": [
       "           Date State     Timezone\n",
       "1082 2019-03-03    AZ  US/Mountain\n",
       "1083 2019-03-03    AZ  US/Mountain\n",
       "1084 2019-03-03    AZ  US/Mountain\n",
       "1085 2019-03-03    AZ  US/Mountain\n",
       "1086 2019-03-03    AZ  US/Mountain"
      ]
     },
     "execution_count": 74,
     "metadata": {},
     "output_type": "execute_result"
    }
   ],
   "source": [
    "az.head()"
   ]
  },
  {
   "cell_type": "code",
   "execution_count": 75,
   "metadata": {},
   "outputs": [],
   "source": [
    "az_count_ds=ds.copy(deep=True)\n",
    "az_count_wa=wa.copy(deep=True)\n",
    "az_count_wb=wb.copy(deep=True)\n",
    "az_count_2wa=two_wa.copy(deep=True)\n",
    "az_count_2wb=two_wb.copy(deep=True)"
   ]
  },
  {
   "cell_type": "code",
   "execution_count": 76,
   "metadata": {},
   "outputs": [],
   "source": [
    "#count the number of accidents for the Week Before Daylight savings week \n",
    "for i in range(4):\n",
    "    for j in wb.columns:\n",
    "        az_count_wb.loc[i,j]=len(az[az['Date']==wb.loc[i,j]])"
   ]
  },
  {
   "cell_type": "code",
   "execution_count": 77,
   "metadata": {},
   "outputs": [],
   "source": [
    "#count the number of accidents for the Daylight savings \n",
    "for i in range(4):\n",
    "    for j in ds.columns:\n",
    "        az_count_ds.loc[i,j]=len(az[az['Date']==ds.loc[i,j]])"
   ]
  },
  {
   "cell_type": "code",
   "execution_count": 78,
   "metadata": {},
   "outputs": [],
   "source": [
    "#count the number of accidents for the Week After Daylight savings \n",
    "for i in range(4):\n",
    "    for j in wa.columns:\n",
    "        az_count_wa.loc[i,(j)]=len(az[az['Date']==wa.loc[i,j]])"
   ]
  },
  {
   "cell_type": "code",
   "execution_count": 79,
   "metadata": {},
   "outputs": [],
   "source": [
    "#count the number of accidents for the Week 2 weeks Before Daylight savings\n",
    "for i in range(4):\n",
    "    for j in two_wb.columns:\n",
    "        az_count_2wb.loc[i,j]=len(az[az['Date']==two_wb.loc[i,j]])"
   ]
  },
  {
   "cell_type": "code",
   "execution_count": 80,
   "metadata": {},
   "outputs": [],
   "source": [
    "#count the number of accidents for the Week 2 weeks After Daylight savings\n",
    "for i in range(4):\n",
    "    for j in two_wa.columns:\n",
    "        az_count_2wa.loc[i,j]=len(az[az['Date']==two_wa.loc[i,j]])"
   ]
  },
  {
   "cell_type": "code",
   "execution_count": 81,
   "metadata": {},
   "outputs": [],
   "source": [
    "#Convert the entries to integers so that we can perform calculations on the dataframe\n",
    "az_count_wb=az_count_wb.apply(pd.to_numeric)\n",
    "az_count_ds=az_count_ds.apply(pd.to_numeric)\n",
    "az_count_wa=az_count_wa.apply(pd.to_numeric)\n",
    "az_count_2wa=az_count_2wa.apply(pd.to_numeric)\n",
    "az_count_2wb=az_count_2wb.apply(pd.to_numeric)\n",
    "#Create a total column to find the sum of all accidents for a given week\n",
    "az_count_wb['Total']=az_count_wb.sum(axis=1)\n",
    "az_count_ds['Total']=az_count_ds.sum(axis=1)\n",
    "az_count_wa['Total']=az_count_wa.sum(axis=1)\n",
    "az_count_2wb['Total']=az_count_2wb.sum(axis=1)\n",
    "az_count_2wa['Total']=az_count_2wa.sum(axis=1)"
   ]
  },
  {
   "cell_type": "code",
   "execution_count": 82,
   "metadata": {},
   "outputs": [],
   "source": [
    "az_count_wa=az_count_wa.loc[[1,2,3],:].copy(deep=True)\n",
    "az_count_2wa=az_count_2wa.loc[[1,2,3],:].copy(deep=True)\n",
    "az_count_ds=az_count_ds.loc[[1,2,3],:].copy(deep=True)\n",
    "az_count_wb=az_count_wb.loc[[1,2,3],:].copy(deep=True)\n",
    "az_count_2wb=az_count_2wb.loc[[1,2,3],:].copy(deep=True)"
   ]
  },
  {
   "cell_type": "code",
   "execution_count": 83,
   "metadata": {},
   "outputs": [],
   "source": [
    "az_count_wb.loc['mean'] = az_count_wb.mean()\n",
    "az_count_ds.loc['mean'] = az_count_ds.mean()\n",
    "az_count_wa.loc['mean'] = az_count_wa.mean()\n",
    "az_count_2wb.loc['mean'] = az_count_2wb.mean()\n",
    "az_count_2wa.loc['mean'] = az_count_2wa.mean()"
   ]
  },
  {
   "cell_type": "code",
   "execution_count": 84,
   "metadata": {},
   "outputs": [
    {
     "data": {
      "text/html": [
       "<div>\n",
       "<style scoped>\n",
       "    .dataframe tbody tr th:only-of-type {\n",
       "        vertical-align: middle;\n",
       "    }\n",
       "\n",
       "    .dataframe tbody tr th {\n",
       "        vertical-align: top;\n",
       "    }\n",
       "\n",
       "    .dataframe thead th {\n",
       "        text-align: right;\n",
       "    }\n",
       "</style>\n",
       "<table border=\"1\" class=\"dataframe\">\n",
       "  <thead>\n",
       "    <tr style=\"text-align: right;\">\n",
       "      <th></th>\n",
       "      <th>WB</th>\n",
       "      <th>WB1</th>\n",
       "      <th>WB2</th>\n",
       "      <th>WB3</th>\n",
       "      <th>WB4</th>\n",
       "      <th>WB5</th>\n",
       "      <th>WB6</th>\n",
       "      <th>Total</th>\n",
       "    </tr>\n",
       "  </thead>\n",
       "  <tbody>\n",
       "    <tr>\n",
       "      <th>1</th>\n",
       "      <td>2.000000</td>\n",
       "      <td>7.000000</td>\n",
       "      <td>15.000000</td>\n",
       "      <td>15.000000</td>\n",
       "      <td>13.000000</td>\n",
       "      <td>22.000000</td>\n",
       "      <td>0.000000</td>\n",
       "      <td>74.000000</td>\n",
       "    </tr>\n",
       "    <tr>\n",
       "      <th>2</th>\n",
       "      <td>16.000000</td>\n",
       "      <td>81.000000</td>\n",
       "      <td>76.000000</td>\n",
       "      <td>77.000000</td>\n",
       "      <td>57.000000</td>\n",
       "      <td>99.000000</td>\n",
       "      <td>34.000000</td>\n",
       "      <td>440.000000</td>\n",
       "    </tr>\n",
       "    <tr>\n",
       "      <th>3</th>\n",
       "      <td>8.000000</td>\n",
       "      <td>79.000000</td>\n",
       "      <td>127.000000</td>\n",
       "      <td>108.000000</td>\n",
       "      <td>79.000000</td>\n",
       "      <td>97.000000</td>\n",
       "      <td>21.000000</td>\n",
       "      <td>519.000000</td>\n",
       "    </tr>\n",
       "    <tr>\n",
       "      <th>mean</th>\n",
       "      <td>8.666667</td>\n",
       "      <td>55.666667</td>\n",
       "      <td>72.666667</td>\n",
       "      <td>66.666667</td>\n",
       "      <td>49.666667</td>\n",
       "      <td>72.666667</td>\n",
       "      <td>18.333333</td>\n",
       "      <td>344.333333</td>\n",
       "    </tr>\n",
       "  </tbody>\n",
       "</table>\n",
       "</div>"
      ],
      "text/plain": [
       "             WB        WB1         WB2         WB3        WB4        WB5  \\\n",
       "1      2.000000   7.000000   15.000000   15.000000  13.000000  22.000000   \n",
       "2     16.000000  81.000000   76.000000   77.000000  57.000000  99.000000   \n",
       "3      8.000000  79.000000  127.000000  108.000000  79.000000  97.000000   \n",
       "mean   8.666667  55.666667   72.666667   66.666667  49.666667  72.666667   \n",
       "\n",
       "            WB6       Total  \n",
       "1      0.000000   74.000000  \n",
       "2     34.000000  440.000000  \n",
       "3     21.000000  519.000000  \n",
       "mean  18.333333  344.333333  "
      ]
     },
     "execution_count": 84,
     "metadata": {},
     "output_type": "execute_result"
    }
   ],
   "source": [
    "az_count_wb"
   ]
  },
  {
   "cell_type": "code",
   "execution_count": 85,
   "metadata": {},
   "outputs": [
    {
     "data": {
      "text/html": [
       "<div>\n",
       "<style scoped>\n",
       "    .dataframe tbody tr th:only-of-type {\n",
       "        vertical-align: middle;\n",
       "    }\n",
       "\n",
       "    .dataframe tbody tr th {\n",
       "        vertical-align: top;\n",
       "    }\n",
       "\n",
       "    .dataframe thead th {\n",
       "        text-align: right;\n",
       "    }\n",
       "</style>\n",
       "<table border=\"1\" class=\"dataframe\">\n",
       "  <thead>\n",
       "    <tr style=\"text-align: right;\">\n",
       "      <th></th>\n",
       "      <th>DS</th>\n",
       "      <th>DS1</th>\n",
       "      <th>DS2</th>\n",
       "      <th>DS3</th>\n",
       "      <th>DS4</th>\n",
       "      <th>DS5</th>\n",
       "      <th>DS6</th>\n",
       "      <th>Total</th>\n",
       "    </tr>\n",
       "  </thead>\n",
       "  <tbody>\n",
       "    <tr>\n",
       "      <th>1</th>\n",
       "      <td>2.000000</td>\n",
       "      <td>14.0</td>\n",
       "      <td>11.000000</td>\n",
       "      <td>13.000000</td>\n",
       "      <td>10.000000</td>\n",
       "      <td>19.0</td>\n",
       "      <td>3.000000</td>\n",
       "      <td>72.000000</td>\n",
       "    </tr>\n",
       "    <tr>\n",
       "      <th>2</th>\n",
       "      <td>29.000000</td>\n",
       "      <td>68.0</td>\n",
       "      <td>31.000000</td>\n",
       "      <td>16.000000</td>\n",
       "      <td>13.000000</td>\n",
       "      <td>23.0</td>\n",
       "      <td>24.000000</td>\n",
       "      <td>204.000000</td>\n",
       "    </tr>\n",
       "    <tr>\n",
       "      <th>3</th>\n",
       "      <td>9.000000</td>\n",
       "      <td>83.0</td>\n",
       "      <td>56.000000</td>\n",
       "      <td>60.000000</td>\n",
       "      <td>81.000000</td>\n",
       "      <td>51.0</td>\n",
       "      <td>16.000000</td>\n",
       "      <td>356.000000</td>\n",
       "    </tr>\n",
       "    <tr>\n",
       "      <th>mean</th>\n",
       "      <td>13.333333</td>\n",
       "      <td>55.0</td>\n",
       "      <td>32.666667</td>\n",
       "      <td>29.666667</td>\n",
       "      <td>34.666667</td>\n",
       "      <td>31.0</td>\n",
       "      <td>14.333333</td>\n",
       "      <td>210.666667</td>\n",
       "    </tr>\n",
       "  </tbody>\n",
       "</table>\n",
       "</div>"
      ],
      "text/plain": [
       "             DS   DS1        DS2        DS3        DS4   DS5        DS6  \\\n",
       "1      2.000000  14.0  11.000000  13.000000  10.000000  19.0   3.000000   \n",
       "2     29.000000  68.0  31.000000  16.000000  13.000000  23.0  24.000000   \n",
       "3      9.000000  83.0  56.000000  60.000000  81.000000  51.0  16.000000   \n",
       "mean  13.333333  55.0  32.666667  29.666667  34.666667  31.0  14.333333   \n",
       "\n",
       "           Total  \n",
       "1      72.000000  \n",
       "2     204.000000  \n",
       "3     356.000000  \n",
       "mean  210.666667  "
      ]
     },
     "execution_count": 85,
     "metadata": {},
     "output_type": "execute_result"
    }
   ],
   "source": [
    "az_count_ds"
   ]
  },
  {
   "cell_type": "code",
   "execution_count": 86,
   "metadata": {},
   "outputs": [
    {
     "data": {
      "text/html": [
       "<div>\n",
       "<style scoped>\n",
       "    .dataframe tbody tr th:only-of-type {\n",
       "        vertical-align: middle;\n",
       "    }\n",
       "\n",
       "    .dataframe tbody tr th {\n",
       "        vertical-align: top;\n",
       "    }\n",
       "\n",
       "    .dataframe thead th {\n",
       "        text-align: right;\n",
       "    }\n",
       "</style>\n",
       "<table border=\"1\" class=\"dataframe\">\n",
       "  <thead>\n",
       "    <tr style=\"text-align: right;\">\n",
       "      <th></th>\n",
       "      <th>WA</th>\n",
       "      <th>WA1</th>\n",
       "      <th>WA2</th>\n",
       "      <th>WA3</th>\n",
       "      <th>WA4</th>\n",
       "      <th>WA5</th>\n",
       "      <th>WA6</th>\n",
       "      <th>Total</th>\n",
       "    </tr>\n",
       "  </thead>\n",
       "  <tbody>\n",
       "    <tr>\n",
       "      <th>1</th>\n",
       "      <td>7.000000</td>\n",
       "      <td>12.000000</td>\n",
       "      <td>11.0</td>\n",
       "      <td>20.0</td>\n",
       "      <td>17.000000</td>\n",
       "      <td>17.000000</td>\n",
       "      <td>9.000000</td>\n",
       "      <td>93.000000</td>\n",
       "    </tr>\n",
       "    <tr>\n",
       "      <th>2</th>\n",
       "      <td>11.000000</td>\n",
       "      <td>79.000000</td>\n",
       "      <td>106.0</td>\n",
       "      <td>63.0</td>\n",
       "      <td>54.000000</td>\n",
       "      <td>70.000000</td>\n",
       "      <td>25.000000</td>\n",
       "      <td>408.000000</td>\n",
       "    </tr>\n",
       "    <tr>\n",
       "      <th>3</th>\n",
       "      <td>17.000000</td>\n",
       "      <td>66.000000</td>\n",
       "      <td>69.0</td>\n",
       "      <td>64.0</td>\n",
       "      <td>80.000000</td>\n",
       "      <td>92.000000</td>\n",
       "      <td>13.000000</td>\n",
       "      <td>401.000000</td>\n",
       "    </tr>\n",
       "    <tr>\n",
       "      <th>mean</th>\n",
       "      <td>11.666667</td>\n",
       "      <td>52.333333</td>\n",
       "      <td>62.0</td>\n",
       "      <td>49.0</td>\n",
       "      <td>50.333333</td>\n",
       "      <td>59.666667</td>\n",
       "      <td>15.666667</td>\n",
       "      <td>300.666667</td>\n",
       "    </tr>\n",
       "  </tbody>\n",
       "</table>\n",
       "</div>"
      ],
      "text/plain": [
       "             WA        WA1    WA2   WA3        WA4        WA5        WA6  \\\n",
       "1      7.000000  12.000000   11.0  20.0  17.000000  17.000000   9.000000   \n",
       "2     11.000000  79.000000  106.0  63.0  54.000000  70.000000  25.000000   \n",
       "3     17.000000  66.000000   69.0  64.0  80.000000  92.000000  13.000000   \n",
       "mean  11.666667  52.333333   62.0  49.0  50.333333  59.666667  15.666667   \n",
       "\n",
       "           Total  \n",
       "1      93.000000  \n",
       "2     408.000000  \n",
       "3     401.000000  \n",
       "mean  300.666667  "
      ]
     },
     "execution_count": 86,
     "metadata": {},
     "output_type": "execute_result"
    }
   ],
   "source": [
    "az_count_wa"
   ]
  },
  {
   "cell_type": "code",
   "execution_count": 87,
   "metadata": {},
   "outputs": [
    {
     "data": {
      "text/html": [
       "<div>\n",
       "<style scoped>\n",
       "    .dataframe tbody tr th:only-of-type {\n",
       "        vertical-align: middle;\n",
       "    }\n",
       "\n",
       "    .dataframe tbody tr th {\n",
       "        vertical-align: top;\n",
       "    }\n",
       "\n",
       "    .dataframe thead th {\n",
       "        text-align: right;\n",
       "    }\n",
       "</style>\n",
       "<table border=\"1\" class=\"dataframe\">\n",
       "  <thead>\n",
       "    <tr style=\"text-align: right;\">\n",
       "      <th></th>\n",
       "      <th>2WA</th>\n",
       "      <th>2WA1</th>\n",
       "      <th>2WA2</th>\n",
       "      <th>2WA3</th>\n",
       "      <th>2WA4</th>\n",
       "      <th>2WA5</th>\n",
       "      <th>2WA6</th>\n",
       "      <th>Total</th>\n",
       "    </tr>\n",
       "  </thead>\n",
       "  <tbody>\n",
       "    <tr>\n",
       "      <th>1</th>\n",
       "      <td>10.000000</td>\n",
       "      <td>18.000000</td>\n",
       "      <td>18.0</td>\n",
       "      <td>9.0</td>\n",
       "      <td>17.000000</td>\n",
       "      <td>20.000000</td>\n",
       "      <td>7.000000</td>\n",
       "      <td>99.0</td>\n",
       "    </tr>\n",
       "    <tr>\n",
       "      <th>2</th>\n",
       "      <td>23.000000</td>\n",
       "      <td>69.000000</td>\n",
       "      <td>77.0</td>\n",
       "      <td>44.0</td>\n",
       "      <td>78.000000</td>\n",
       "      <td>89.000000</td>\n",
       "      <td>26.000000</td>\n",
       "      <td>406.0</td>\n",
       "    </tr>\n",
       "    <tr>\n",
       "      <th>3</th>\n",
       "      <td>20.000000</td>\n",
       "      <td>83.000000</td>\n",
       "      <td>85.0</td>\n",
       "      <td>61.0</td>\n",
       "      <td>74.000000</td>\n",
       "      <td>61.000000</td>\n",
       "      <td>23.000000</td>\n",
       "      <td>407.0</td>\n",
       "    </tr>\n",
       "    <tr>\n",
       "      <th>mean</th>\n",
       "      <td>17.666667</td>\n",
       "      <td>56.666667</td>\n",
       "      <td>60.0</td>\n",
       "      <td>38.0</td>\n",
       "      <td>56.333333</td>\n",
       "      <td>56.666667</td>\n",
       "      <td>18.666667</td>\n",
       "      <td>304.0</td>\n",
       "    </tr>\n",
       "  </tbody>\n",
       "</table>\n",
       "</div>"
      ],
      "text/plain": [
       "            2WA       2WA1  2WA2  2WA3       2WA4       2WA5       2WA6  Total\n",
       "1     10.000000  18.000000  18.0   9.0  17.000000  20.000000   7.000000   99.0\n",
       "2     23.000000  69.000000  77.0  44.0  78.000000  89.000000  26.000000  406.0\n",
       "3     20.000000  83.000000  85.0  61.0  74.000000  61.000000  23.000000  407.0\n",
       "mean  17.666667  56.666667  60.0  38.0  56.333333  56.666667  18.666667  304.0"
      ]
     },
     "execution_count": 87,
     "metadata": {},
     "output_type": "execute_result"
    }
   ],
   "source": [
    "az_count_2wa"
   ]
  },
  {
   "cell_type": "code",
   "execution_count": 88,
   "metadata": {},
   "outputs": [
    {
     "data": {
      "text/html": [
       "<div>\n",
       "<style scoped>\n",
       "    .dataframe tbody tr th:only-of-type {\n",
       "        vertical-align: middle;\n",
       "    }\n",
       "\n",
       "    .dataframe tbody tr th {\n",
       "        vertical-align: top;\n",
       "    }\n",
       "\n",
       "    .dataframe thead th {\n",
       "        text-align: right;\n",
       "    }\n",
       "</style>\n",
       "<table border=\"1\" class=\"dataframe\">\n",
       "  <thead>\n",
       "    <tr style=\"text-align: right;\">\n",
       "      <th></th>\n",
       "      <th>WB</th>\n",
       "      <th>WB1</th>\n",
       "      <th>WB2</th>\n",
       "      <th>WB3</th>\n",
       "      <th>WB4</th>\n",
       "      <th>WB5</th>\n",
       "      <th>WB6</th>\n",
       "      <th>Total</th>\n",
       "    </tr>\n",
       "  </thead>\n",
       "  <tbody>\n",
       "    <tr>\n",
       "      <th>1</th>\n",
       "      <td>2.000000</td>\n",
       "      <td>7.000000</td>\n",
       "      <td>15.000000</td>\n",
       "      <td>15.000000</td>\n",
       "      <td>13.000000</td>\n",
       "      <td>22.000000</td>\n",
       "      <td>0.000000</td>\n",
       "      <td>74.000000</td>\n",
       "    </tr>\n",
       "    <tr>\n",
       "      <th>2</th>\n",
       "      <td>16.000000</td>\n",
       "      <td>81.000000</td>\n",
       "      <td>76.000000</td>\n",
       "      <td>77.000000</td>\n",
       "      <td>57.000000</td>\n",
       "      <td>99.000000</td>\n",
       "      <td>34.000000</td>\n",
       "      <td>440.000000</td>\n",
       "    </tr>\n",
       "    <tr>\n",
       "      <th>3</th>\n",
       "      <td>8.000000</td>\n",
       "      <td>79.000000</td>\n",
       "      <td>127.000000</td>\n",
       "      <td>108.000000</td>\n",
       "      <td>79.000000</td>\n",
       "      <td>97.000000</td>\n",
       "      <td>21.000000</td>\n",
       "      <td>519.000000</td>\n",
       "    </tr>\n",
       "    <tr>\n",
       "      <th>mean</th>\n",
       "      <td>8.666667</td>\n",
       "      <td>55.666667</td>\n",
       "      <td>72.666667</td>\n",
       "      <td>66.666667</td>\n",
       "      <td>49.666667</td>\n",
       "      <td>72.666667</td>\n",
       "      <td>18.333333</td>\n",
       "      <td>344.333333</td>\n",
       "    </tr>\n",
       "  </tbody>\n",
       "</table>\n",
       "</div>"
      ],
      "text/plain": [
       "             WB        WB1         WB2         WB3        WB4        WB5  \\\n",
       "1      2.000000   7.000000   15.000000   15.000000  13.000000  22.000000   \n",
       "2     16.000000  81.000000   76.000000   77.000000  57.000000  99.000000   \n",
       "3      8.000000  79.000000  127.000000  108.000000  79.000000  97.000000   \n",
       "mean   8.666667  55.666667   72.666667   66.666667  49.666667  72.666667   \n",
       "\n",
       "            WB6       Total  \n",
       "1      0.000000   74.000000  \n",
       "2     34.000000  440.000000  \n",
       "3     21.000000  519.000000  \n",
       "mean  18.333333  344.333333  "
      ]
     },
     "execution_count": 88,
     "metadata": {},
     "output_type": "execute_result"
    }
   ],
   "source": [
    "az_count_wb"
   ]
  },
  {
   "cell_type": "code",
   "execution_count": 89,
   "metadata": {},
   "outputs": [
    {
     "data": {
      "text/html": [
       "<div>\n",
       "<style scoped>\n",
       "    .dataframe tbody tr th:only-of-type {\n",
       "        vertical-align: middle;\n",
       "    }\n",
       "\n",
       "    .dataframe tbody tr th {\n",
       "        vertical-align: top;\n",
       "    }\n",
       "\n",
       "    .dataframe thead th {\n",
       "        text-align: right;\n",
       "    }\n",
       "</style>\n",
       "<table border=\"1\" class=\"dataframe\">\n",
       "  <thead>\n",
       "    <tr style=\"text-align: right;\">\n",
       "      <th></th>\n",
       "      <th>2WA</th>\n",
       "      <th>2WA1</th>\n",
       "      <th>2WA2</th>\n",
       "      <th>2WA3</th>\n",
       "      <th>2WA4</th>\n",
       "      <th>2WA5</th>\n",
       "      <th>2WA6</th>\n",
       "      <th>Total</th>\n",
       "    </tr>\n",
       "  </thead>\n",
       "  <tbody>\n",
       "    <tr>\n",
       "      <th>1</th>\n",
       "      <td>601.000000</td>\n",
       "      <td>1939.000000</td>\n",
       "      <td>2191.000000</td>\n",
       "      <td>2280.000000</td>\n",
       "      <td>2134.000000</td>\n",
       "      <td>2118.000000</td>\n",
       "      <td>667.000000</td>\n",
       "      <td>11930.000000</td>\n",
       "    </tr>\n",
       "    <tr>\n",
       "      <th>2</th>\n",
       "      <td>795.000000</td>\n",
       "      <td>3104.000000</td>\n",
       "      <td>2948.000000</td>\n",
       "      <td>1768.000000</td>\n",
       "      <td>3324.000000</td>\n",
       "      <td>2853.000000</td>\n",
       "      <td>693.000000</td>\n",
       "      <td>15485.000000</td>\n",
       "    </tr>\n",
       "    <tr>\n",
       "      <th>3</th>\n",
       "      <td>865.000000</td>\n",
       "      <td>2543.000000</td>\n",
       "      <td>2744.000000</td>\n",
       "      <td>2866.000000</td>\n",
       "      <td>2742.000000</td>\n",
       "      <td>2731.000000</td>\n",
       "      <td>1056.000000</td>\n",
       "      <td>15547.000000</td>\n",
       "    </tr>\n",
       "    <tr>\n",
       "      <th>mean</th>\n",
       "      <td>753.666667</td>\n",
       "      <td>2528.666667</td>\n",
       "      <td>2627.666667</td>\n",
       "      <td>2304.666667</td>\n",
       "      <td>2733.333333</td>\n",
       "      <td>2567.333333</td>\n",
       "      <td>805.333333</td>\n",
       "      <td>14320.666667</td>\n",
       "    </tr>\n",
       "  </tbody>\n",
       "</table>\n",
       "</div>"
      ],
      "text/plain": [
       "             2WA         2WA1         2WA2         2WA3         2WA4  \\\n",
       "1     601.000000  1939.000000  2191.000000  2280.000000  2134.000000   \n",
       "2     795.000000  3104.000000  2948.000000  1768.000000  3324.000000   \n",
       "3     865.000000  2543.000000  2744.000000  2866.000000  2742.000000   \n",
       "mean  753.666667  2528.666667  2627.666667  2304.666667  2733.333333   \n",
       "\n",
       "             2WA5         2WA6         Total  \n",
       "1     2118.000000   667.000000  11930.000000  \n",
       "2     2853.000000   693.000000  15485.000000  \n",
       "3     2731.000000  1056.000000  15547.000000  \n",
       "mean  2567.333333   805.333333  14320.666667  "
      ]
     },
     "execution_count": 89,
     "metadata": {},
     "output_type": "execute_result"
    }
   ],
   "source": [
    "count_2wa"
   ]
  },
  {
   "cell_type": "code",
   "execution_count": 90,
   "metadata": {},
   "outputs": [],
   "source": [
    "#create the moving average table for 3 days (Sunday-Tuesday) for the weeks of interest\n",
    "ma=pd.DataFrame()\n",
    "ma['2WB']=\"\"\n",
    "ma['WB']=\"\"\n",
    "ma['DS']=\"\"\n",
    "ma['WA']=\"\"\n",
    "ma['2WA']=\"\""
   ]
  },
  {
   "cell_type": "code",
   "execution_count": 91,
   "metadata": {},
   "outputs": [],
   "source": [
    "ma.loc[0,'2WB']=(count_2wb.loc['mean','2WB']+count_2wb.loc['mean','2WB1']+count_2wb.loc['mean','2WB2'])/3\n",
    "ma.loc[0,'WB']=(count_wb.loc['mean','WB']+count_wb.loc['mean','WB1']+count_wb.loc['mean','WB2'])/3\n",
    "ma.loc[0,'DS']=(count_ds.loc['mean','DS']+count_ds.loc['mean','DS1']+count_ds.loc['mean','DS2'])/3\n",
    "ma.loc[0,'WA']=(count_wa.loc['mean','WA']+count_wa.loc['mean','WA1']+count_wa.loc['mean','WA2'])/3\n",
    "ma.loc[0,'2WA']=(count_2wa.loc['mean','2WA']+count_2wa.loc['mean','2WA1']+count_2wa.loc['mean','2WA2'])/3\n"
   ]
  },
  {
   "cell_type": "code",
   "execution_count": 92,
   "metadata": {},
   "outputs": [
    {
     "data": {
      "text/html": [
       "<div>\n",
       "<style scoped>\n",
       "    .dataframe tbody tr th:only-of-type {\n",
       "        vertical-align: middle;\n",
       "    }\n",
       "\n",
       "    .dataframe tbody tr th {\n",
       "        vertical-align: top;\n",
       "    }\n",
       "\n",
       "    .dataframe thead th {\n",
       "        text-align: right;\n",
       "    }\n",
       "</style>\n",
       "<table border=\"1\" class=\"dataframe\">\n",
       "  <thead>\n",
       "    <tr style=\"text-align: right;\">\n",
       "      <th></th>\n",
       "      <th>2WB</th>\n",
       "      <th>WB</th>\n",
       "      <th>DS</th>\n",
       "      <th>WA</th>\n",
       "      <th>2WA</th>\n",
       "    </tr>\n",
       "  </thead>\n",
       "  <tbody>\n",
       "    <tr>\n",
       "      <th>0</th>\n",
       "      <td>2127.78</td>\n",
       "      <td>2041</td>\n",
       "      <td>2103</td>\n",
       "      <td>2028.67</td>\n",
       "      <td>1970</td>\n",
       "    </tr>\n",
       "  </tbody>\n",
       "</table>\n",
       "</div>"
      ],
      "text/plain": [
       "       2WB    WB    DS       WA   2WA\n",
       "0  2127.78  2041  2103  2028.67  1970"
      ]
     },
     "execution_count": 92,
     "metadata": {},
     "output_type": "execute_result"
    }
   ],
   "source": [
    "ma"
   ]
  },
  {
   "cell_type": "code",
   "execution_count": 93,
   "metadata": {},
   "outputs": [],
   "source": [
    "#create the moving average table for 3 days (Sunday-Tuesday) for the weeks of interest for the Pacific Data\n",
    "pac_ma=pd.DataFrame()\n",
    "pac_ma['2WB']=\"\"\n",
    "pac_ma['WB']=\"\"\n",
    "pac_ma['DS']=\"\"\n",
    "pac_ma['WA']=\"\"\n",
    "pac_ma['2WA']=\"\""
   ]
  },
  {
   "cell_type": "code",
   "execution_count": 94,
   "metadata": {},
   "outputs": [],
   "source": [
    "pac_ma.loc[0,'2WB']=(pac_count_2wb.loc['mean','2WB']+pac_count_2wb.loc['mean','2WB1']+pac_count_2wb.loc['mean','2WB2'])/3\n",
    "pac_ma.loc[0,'WB']=(pac_count_wb.loc['mean','WB']+pac_count_wb.loc['mean','WB1']+pac_count_wb.loc['mean','WB2'])/3\n",
    "pac_ma.loc[0,'DS']=(pac_count_ds.loc['mean','DS']+pac_count_ds.loc['mean','DS1']+pac_count_ds.loc['mean','DS2'])/3\n",
    "pac_ma.loc[0,'WA']=(pac_count_wa.loc['mean','WA']+pac_count_wa.loc['mean','WA1']+pac_count_wa.loc['mean','WA2'])/3\n",
    "pac_ma.loc[0,'2WA']=(pac_count_2wa.loc['mean','2WA']+pac_count_2wa.loc['mean','2WA1']+pac_count_2wa.loc['mean','2WA2'])/3"
   ]
  },
  {
   "cell_type": "code",
   "execution_count": 95,
   "metadata": {},
   "outputs": [
    {
     "data": {
      "text/html": [
       "<div>\n",
       "<style scoped>\n",
       "    .dataframe tbody tr th:only-of-type {\n",
       "        vertical-align: middle;\n",
       "    }\n",
       "\n",
       "    .dataframe tbody tr th {\n",
       "        vertical-align: top;\n",
       "    }\n",
       "\n",
       "    .dataframe thead th {\n",
       "        text-align: right;\n",
       "    }\n",
       "</style>\n",
       "<table border=\"1\" class=\"dataframe\">\n",
       "  <thead>\n",
       "    <tr style=\"text-align: right;\">\n",
       "      <th></th>\n",
       "      <th>2WB</th>\n",
       "      <th>WB</th>\n",
       "      <th>DS</th>\n",
       "      <th>WA</th>\n",
       "      <th>2WA</th>\n",
       "    </tr>\n",
       "  </thead>\n",
       "  <tbody>\n",
       "    <tr>\n",
       "      <th>0</th>\n",
       "      <td>643.667</td>\n",
       "      <td>503.889</td>\n",
       "      <td>498</td>\n",
       "      <td>504.111</td>\n",
       "      <td>494.333</td>\n",
       "    </tr>\n",
       "  </tbody>\n",
       "</table>\n",
       "</div>"
      ],
      "text/plain": [
       "       2WB       WB   DS       WA      2WA\n",
       "0  643.667  503.889  498  504.111  494.333"
      ]
     },
     "execution_count": 95,
     "metadata": {},
     "output_type": "execute_result"
    }
   ],
   "source": [
    "pac_ma"
   ]
  },
  {
   "cell_type": "code",
   "execution_count": 96,
   "metadata": {},
   "outputs": [],
   "source": [
    "#create the moving average table for 3 days (Sunday-Tuesday) for the weeks of interest for the Arizona Data\n",
    "az_ma=pd.DataFrame()\n",
    "az_ma['2WB']=\"\"\n",
    "az_ma['WB']=\"\"\n",
    "az_ma['DS']=\"\"\n",
    "az_ma['WA']=\"\"\n",
    "az_ma['2WA']=\"\""
   ]
  },
  {
   "cell_type": "code",
   "execution_count": 97,
   "metadata": {},
   "outputs": [],
   "source": [
    "az_ma.loc[0,'2WB']=(az_count_2wb.loc['mean','2WB']+az_count_2wb.loc['mean','2WB1']+az_count_2wb.loc['mean','2WB2'])/3\n",
    "az_ma.loc[0,'WB']=(az_count_wb.loc['mean','WB']+az_count_wb.loc['mean','WB1']+az_count_wb.loc['mean','WB2'])/3\n",
    "az_ma.loc[0,'DS']=(az_count_ds.loc['mean','DS']+az_count_ds.loc['mean','DS1']+az_count_ds.loc['mean','DS2'])/3\n",
    "az_ma.loc[0,'WA']=(az_count_wa.loc['mean','WA']+az_count_wa.loc['mean','WA1']+az_count_wa.loc['mean','WA2'])/3\n",
    "az_ma.loc[0,'2WA']=(az_count_2wa.loc['mean','2WA']+az_count_2wa.loc['mean','2WA1']+az_count_2wa.loc['mean','2WA2'])/3"
   ]
  },
  {
   "cell_type": "code",
   "execution_count": 98,
   "metadata": {},
   "outputs": [
    {
     "data": {
      "text/html": [
       "<div>\n",
       "<style scoped>\n",
       "    .dataframe tbody tr th:only-of-type {\n",
       "        vertical-align: middle;\n",
       "    }\n",
       "\n",
       "    .dataframe tbody tr th {\n",
       "        vertical-align: top;\n",
       "    }\n",
       "\n",
       "    .dataframe thead th {\n",
       "        text-align: right;\n",
       "    }\n",
       "</style>\n",
       "<table border=\"1\" class=\"dataframe\">\n",
       "  <thead>\n",
       "    <tr style=\"text-align: right;\">\n",
       "      <th></th>\n",
       "      <th>2WB</th>\n",
       "      <th>WB</th>\n",
       "      <th>DS</th>\n",
       "      <th>WA</th>\n",
       "      <th>2WA</th>\n",
       "    </tr>\n",
       "  </thead>\n",
       "  <tbody>\n",
       "    <tr>\n",
       "      <th>0</th>\n",
       "      <td>2127.78</td>\n",
       "      <td>2041</td>\n",
       "      <td>2103</td>\n",
       "      <td>2028.67</td>\n",
       "      <td>1970</td>\n",
       "    </tr>\n",
       "  </tbody>\n",
       "</table>\n",
       "</div>"
      ],
      "text/plain": [
       "       2WB    WB    DS       WA   2WA\n",
       "0  2127.78  2041  2103  2028.67  1970"
      ]
     },
     "execution_count": 98,
     "metadata": {},
     "output_type": "execute_result"
    }
   ],
   "source": [
    "ma"
   ]
  },
  {
   "cell_type": "code",
   "execution_count": 99,
   "metadata": {},
   "outputs": [
    {
     "data": {
      "text/html": [
       "<div>\n",
       "<style scoped>\n",
       "    .dataframe tbody tr th:only-of-type {\n",
       "        vertical-align: middle;\n",
       "    }\n",
       "\n",
       "    .dataframe tbody tr th {\n",
       "        vertical-align: top;\n",
       "    }\n",
       "\n",
       "    .dataframe thead th {\n",
       "        text-align: right;\n",
       "    }\n",
       "</style>\n",
       "<table border=\"1\" class=\"dataframe\">\n",
       "  <thead>\n",
       "    <tr style=\"text-align: right;\">\n",
       "      <th></th>\n",
       "      <th>2WB</th>\n",
       "      <th>WB</th>\n",
       "      <th>DS</th>\n",
       "      <th>WA</th>\n",
       "      <th>2WA</th>\n",
       "    </tr>\n",
       "  </thead>\n",
       "  <tbody>\n",
       "    <tr>\n",
       "      <th>0</th>\n",
       "      <td>643.667</td>\n",
       "      <td>503.889</td>\n",
       "      <td>498</td>\n",
       "      <td>504.111</td>\n",
       "      <td>494.333</td>\n",
       "    </tr>\n",
       "  </tbody>\n",
       "</table>\n",
       "</div>"
      ],
      "text/plain": [
       "       2WB       WB   DS       WA      2WA\n",
       "0  643.667  503.889  498  504.111  494.333"
      ]
     },
     "execution_count": 99,
     "metadata": {},
     "output_type": "execute_result"
    }
   ],
   "source": [
    "pac_ma"
   ]
  },
  {
   "cell_type": "code",
   "execution_count": 100,
   "metadata": {},
   "outputs": [
    {
     "data": {
      "text/html": [
       "<div>\n",
       "<style scoped>\n",
       "    .dataframe tbody tr th:only-of-type {\n",
       "        vertical-align: middle;\n",
       "    }\n",
       "\n",
       "    .dataframe tbody tr th {\n",
       "        vertical-align: top;\n",
       "    }\n",
       "\n",
       "    .dataframe thead th {\n",
       "        text-align: right;\n",
       "    }\n",
       "</style>\n",
       "<table border=\"1\" class=\"dataframe\">\n",
       "  <thead>\n",
       "    <tr style=\"text-align: right;\">\n",
       "      <th></th>\n",
       "      <th>2WB</th>\n",
       "      <th>WB</th>\n",
       "      <th>DS</th>\n",
       "      <th>WA</th>\n",
       "      <th>2WA</th>\n",
       "    </tr>\n",
       "  </thead>\n",
       "  <tbody>\n",
       "    <tr>\n",
       "      <th>0</th>\n",
       "      <td>48.1111</td>\n",
       "      <td>45.6667</td>\n",
       "      <td>33.6667</td>\n",
       "      <td>42</td>\n",
       "      <td>44.7778</td>\n",
       "    </tr>\n",
       "  </tbody>\n",
       "</table>\n",
       "</div>"
      ],
      "text/plain": [
       "       2WB       WB       DS  WA      2WA\n",
       "0  48.1111  45.6667  33.6667  42  44.7778"
      ]
     },
     "execution_count": 100,
     "metadata": {},
     "output_type": "execute_result"
    }
   ],
   "source": [
    "az_ma"
   ]
  },
  {
   "cell_type": "code",
   "execution_count": 101,
   "metadata": {},
   "outputs": [],
   "source": [
    "ca=df[df['State']=='CA'].copy(deep=True)"
   ]
  },
  {
   "cell_type": "code",
   "execution_count": 102,
   "metadata": {},
   "outputs": [
    {
     "data": {
      "text/html": [
       "<div>\n",
       "<style scoped>\n",
       "    .dataframe tbody tr th:only-of-type {\n",
       "        vertical-align: middle;\n",
       "    }\n",
       "\n",
       "    .dataframe tbody tr th {\n",
       "        vertical-align: top;\n",
       "    }\n",
       "\n",
       "    .dataframe thead th {\n",
       "        text-align: right;\n",
       "    }\n",
       "</style>\n",
       "<table border=\"1\" class=\"dataframe\">\n",
       "  <thead>\n",
       "    <tr style=\"text-align: right;\">\n",
       "      <th></th>\n",
       "      <th>Date</th>\n",
       "      <th>State</th>\n",
       "      <th>Timezone</th>\n",
       "    </tr>\n",
       "  </thead>\n",
       "  <tbody>\n",
       "    <tr>\n",
       "      <th>31113</th>\n",
       "      <td>2016-03-22</td>\n",
       "      <td>CA</td>\n",
       "      <td>US/Pacific</td>\n",
       "    </tr>\n",
       "    <tr>\n",
       "      <th>31114</th>\n",
       "      <td>2016-03-22</td>\n",
       "      <td>CA</td>\n",
       "      <td>US/Pacific</td>\n",
       "    </tr>\n",
       "    <tr>\n",
       "      <th>31115</th>\n",
       "      <td>2016-03-22</td>\n",
       "      <td>CA</td>\n",
       "      <td>US/Pacific</td>\n",
       "    </tr>\n",
       "    <tr>\n",
       "      <th>31116</th>\n",
       "      <td>2016-03-22</td>\n",
       "      <td>CA</td>\n",
       "      <td>US/Pacific</td>\n",
       "    </tr>\n",
       "    <tr>\n",
       "      <th>31117</th>\n",
       "      <td>2016-03-22</td>\n",
       "      <td>CA</td>\n",
       "      <td>US/Pacific</td>\n",
       "    </tr>\n",
       "    <tr>\n",
       "      <th>...</th>\n",
       "      <td>...</td>\n",
       "      <td>...</td>\n",
       "      <td>...</td>\n",
       "    </tr>\n",
       "    <tr>\n",
       "      <th>61535</th>\n",
       "      <td>2018-02-27</td>\n",
       "      <td>CA</td>\n",
       "      <td>US/Pacific</td>\n",
       "    </tr>\n",
       "    <tr>\n",
       "      <th>61536</th>\n",
       "      <td>2018-02-27</td>\n",
       "      <td>CA</td>\n",
       "      <td>US/Pacific</td>\n",
       "    </tr>\n",
       "    <tr>\n",
       "      <th>61537</th>\n",
       "      <td>2018-02-27</td>\n",
       "      <td>CA</td>\n",
       "      <td>US/Pacific</td>\n",
       "    </tr>\n",
       "    <tr>\n",
       "      <th>61538</th>\n",
       "      <td>2018-02-27</td>\n",
       "      <td>CA</td>\n",
       "      <td>US/Pacific</td>\n",
       "    </tr>\n",
       "    <tr>\n",
       "      <th>61539</th>\n",
       "      <td>2018-02-27</td>\n",
       "      <td>CA</td>\n",
       "      <td>US/Pacific</td>\n",
       "    </tr>\n",
       "  </tbody>\n",
       "</table>\n",
       "<p>51442 rows × 3 columns</p>\n",
       "</div>"
      ],
      "text/plain": [
       "            Date State    Timezone\n",
       "31113 2016-03-22    CA  US/Pacific\n",
       "31114 2016-03-22    CA  US/Pacific\n",
       "31115 2016-03-22    CA  US/Pacific\n",
       "31116 2016-03-22    CA  US/Pacific\n",
       "31117 2016-03-22    CA  US/Pacific\n",
       "...          ...   ...         ...\n",
       "61535 2018-02-27    CA  US/Pacific\n",
       "61536 2018-02-27    CA  US/Pacific\n",
       "61537 2018-02-27    CA  US/Pacific\n",
       "61538 2018-02-27    CA  US/Pacific\n",
       "61539 2018-02-27    CA  US/Pacific\n",
       "\n",
       "[51442 rows x 3 columns]"
      ]
     },
     "execution_count": 102,
     "metadata": {},
     "output_type": "execute_result"
    }
   ],
   "source": [
    "ca"
   ]
  },
  {
   "cell_type": "code",
   "execution_count": 103,
   "metadata": {},
   "outputs": [],
   "source": [
    "ca_count_ds=ds.copy(deep=True)\n",
    "ca_count_wa=wa.copy(deep=True)\n",
    "ca_count_wb=wb.copy(deep=True)\n",
    "ca_count_2wa=two_wa.copy(deep=True)\n",
    "ca_count_2wb=two_wb.copy(deep=True)"
   ]
  },
  {
   "cell_type": "code",
   "execution_count": 104,
   "metadata": {},
   "outputs": [],
   "source": [
    "#count the number of accidents for the Week Before Daylight savings week\n",
    "for i in range(4):\n",
    "    for j in wb.columns:\n",
    "        ca_count_wb.loc[i,j]=len(ca[ca['Date']==wb.loc[i,j]])"
   ]
  },
  {
   "cell_type": "code",
   "execution_count": 105,
   "metadata": {},
   "outputs": [],
   "source": [
    "#count the number of accidents for the Daylight savings week \n",
    "for i in range(4):\n",
    "    for j in ds.columns:\n",
    "        ca_count_ds.loc[i,j]=len(ca[ca['Date']==ds.loc[i,j]])"
   ]
  },
  {
   "cell_type": "code",
   "execution_count": 106,
   "metadata": {},
   "outputs": [],
   "source": [
    "#count the number of accidents for the Week After Daylight savings week \n",
    "for i in range(4):\n",
    "    for j in wa.columns:\n",
    "        ca_count_wa.loc[i,(j)]=len(ca[ca['Date']==wa.loc[i,j]])"
   ]
  },
  {
   "cell_type": "code",
   "execution_count": 107,
   "metadata": {},
   "outputs": [],
   "source": [
    "#count the number of accidents for the Week 2 weeks Before Daylight savings \n",
    "for i in range(4):\n",
    "    for j in two_wb.columns:\n",
    "        ca_count_2wb.loc[i,j]=len(ca[ca['Date']==two_wb.loc[i,j]])"
   ]
  },
  {
   "cell_type": "code",
   "execution_count": 108,
   "metadata": {},
   "outputs": [],
   "source": [
    "#count the number of accidents for the Week 2 weeks After Daylight savings \n",
    "for i in range(4):\n",
    "    for j in two_wa.columns:\n",
    "        ca_count_2wa.loc[i,j]=len(ca[ca['Date']==two_wa.loc[i,j]])"
   ]
  },
  {
   "cell_type": "code",
   "execution_count": 109,
   "metadata": {},
   "outputs": [],
   "source": [
    "#Convert the entries to integers so that we can perform calculations on the dataframe\n",
    "ca_count_wb=ca_count_wb.apply(pd.to_numeric)\n",
    "ca_count_ds=ca_count_ds.apply(pd.to_numeric)\n",
    "ca_count_wa=ca_count_wa.apply(pd.to_numeric)\n",
    "ca_count_2wa=ca_count_2wa.apply(pd.to_numeric)\n",
    "ca_count_2wb=ca_count_2wb.apply(pd.to_numeric)\n",
    "#Create a total column to find the sum of all accidents for a given week\n",
    "ca_count_wb['Total']=ca_count_wb.sum(axis=1)\n",
    "ca_count_ds['Total']=ca_count_ds.sum(axis=1)\n",
    "ca_count_wa['Total']=ca_count_wa.sum(axis=1)\n",
    "ca_count_2wb['Total']=ca_count_2wb.sum(axis=1)\n",
    "ca_count_2wa['Total']=ca_count_2wa.sum(axis=1)"
   ]
  },
  {
   "cell_type": "code",
   "execution_count": 110,
   "metadata": {},
   "outputs": [],
   "source": [
    "ca_count_wa=ca_count_wa.loc[[1,2,3],:].copy(deep=True)\n",
    "ca_count_2wa=ca_count_2wa.loc[[1,2,3],:].copy(deep=True)\n",
    "ca_count_ds=ca_count_ds.loc[[1,2,3],:].copy(deep=True)\n",
    "ca_count_wb=ca_count_wb.loc[[1,2,3],:].copy(deep=True)\n",
    "ca_count_2wb=ca_count_2wb.loc[[1,2,3],:].copy(deep=True)"
   ]
  },
  {
   "cell_type": "code",
   "execution_count": 111,
   "metadata": {},
   "outputs": [],
   "source": [
    "ca_count_wb.loc['mean'] = ca_count_wb.mean()\n",
    "ca_count_ds.loc['mean'] = ca_count_ds.mean()\n",
    "ca_count_wa.loc['mean'] = ca_count_wa.mean()\n",
    "ca_count_2wb.loc['mean'] = ca_count_2wb.mean()\n",
    "ca_count_2wa.loc['mean'] = ca_count_2wa.mean()"
   ]
  },
  {
   "cell_type": "code",
   "execution_count": 112,
   "metadata": {},
   "outputs": [],
   "source": [
    "#create the moving average table for 3 days (Sunday-Tuesday) for the weeks of interest for the California Data\n",
    "ca_ma=pd.DataFrame()\n",
    "ca_ma['2WB']=\"\"\n",
    "ca_ma['WB']=\"\"\n",
    "ca_ma['DS']=\"\"\n",
    "ca_ma['WA']=\"\"\n",
    "ca_ma['2WA']=\"\""
   ]
  },
  {
   "cell_type": "code",
   "execution_count": 113,
   "metadata": {},
   "outputs": [],
   "source": [
    "ca_ma.loc[0,'2WB']=(ca_count_2wb.loc['mean','2WB']+ca_count_2wb.loc['mean','2WB1']+ca_count_2wb.loc['mean','2WB2'])/3\n",
    "ca_ma.loc[0,'WB']=(ca_count_wb.loc['mean','WB']+ca_count_wb.loc['mean','WB1']+ca_count_wb.loc['mean','WB2'])/3\n",
    "ca_ma.loc[0,'DS']=(ca_count_ds.loc['mean','DS']+ca_count_ds.loc['mean','DS1']+ca_count_ds.loc['mean','DS2'])/3\n",
    "ca_ma.loc[0,'WA']=(ca_count_wa.loc['mean','WA']+ca_count_wa.loc['mean','WA1']+ca_count_wa.loc['mean','WA2'])/3\n",
    "ca_ma.loc[0,'2WA']=(ca_count_2wa.loc['mean','2WA']+ca_count_2wa.loc['mean','2WA1']+ca_count_2wa.loc['mean','2WA2'])/3"
   ]
  },
  {
   "cell_type": "code",
   "execution_count": 114,
   "metadata": {},
   "outputs": [
    {
     "data": {
      "text/html": [
       "<div>\n",
       "<style scoped>\n",
       "    .dataframe tbody tr th:only-of-type {\n",
       "        vertical-align: middle;\n",
       "    }\n",
       "\n",
       "    .dataframe tbody tr th {\n",
       "        vertical-align: top;\n",
       "    }\n",
       "\n",
       "    .dataframe thead th {\n",
       "        text-align: right;\n",
       "    }\n",
       "</style>\n",
       "<table border=\"1\" class=\"dataframe\">\n",
       "  <thead>\n",
       "    <tr style=\"text-align: right;\">\n",
       "      <th></th>\n",
       "      <th>2WB</th>\n",
       "      <th>WB</th>\n",
       "      <th>DS</th>\n",
       "      <th>WA</th>\n",
       "      <th>2WA</th>\n",
       "    </tr>\n",
       "  </thead>\n",
       "  <tbody>\n",
       "    <tr>\n",
       "      <th>0</th>\n",
       "      <td>405</td>\n",
       "      <td>409.889</td>\n",
       "      <td>406.889</td>\n",
       "      <td>421.889</td>\n",
       "      <td>415.889</td>\n",
       "    </tr>\n",
       "  </tbody>\n",
       "</table>\n",
       "</div>"
      ],
      "text/plain": [
       "   2WB       WB       DS       WA      2WA\n",
       "0  405  409.889  406.889  421.889  415.889"
      ]
     },
     "execution_count": 114,
     "metadata": {},
     "output_type": "execute_result"
    }
   ],
   "source": [
    "ca_ma"
   ]
  },
  {
   "cell_type": "code",
   "execution_count": 115,
   "metadata": {},
   "outputs": [
    {
     "data": {
      "text/html": [
       "<div>\n",
       "<style scoped>\n",
       "    .dataframe tbody tr th:only-of-type {\n",
       "        vertical-align: middle;\n",
       "    }\n",
       "\n",
       "    .dataframe tbody tr th {\n",
       "        vertical-align: top;\n",
       "    }\n",
       "\n",
       "    .dataframe thead th {\n",
       "        text-align: right;\n",
       "    }\n",
       "</style>\n",
       "<table border=\"1\" class=\"dataframe\">\n",
       "  <thead>\n",
       "    <tr style=\"text-align: right;\">\n",
       "      <th></th>\n",
       "      <th>2WB</th>\n",
       "      <th>WB</th>\n",
       "      <th>DS</th>\n",
       "      <th>WA</th>\n",
       "      <th>2WA</th>\n",
       "    </tr>\n",
       "  </thead>\n",
       "  <tbody>\n",
       "    <tr>\n",
       "      <th>0</th>\n",
       "      <td>48.1111</td>\n",
       "      <td>45.6667</td>\n",
       "      <td>33.6667</td>\n",
       "      <td>42</td>\n",
       "      <td>44.7778</td>\n",
       "    </tr>\n",
       "  </tbody>\n",
       "</table>\n",
       "</div>"
      ],
      "text/plain": [
       "       2WB       WB       DS  WA      2WA\n",
       "0  48.1111  45.6667  33.6667  42  44.7778"
      ]
     },
     "execution_count": 115,
     "metadata": {},
     "output_type": "execute_result"
    }
   ],
   "source": [
    "az_ma"
   ]
  },
  {
   "cell_type": "code",
   "execution_count": 116,
   "metadata": {},
   "outputs": [
    {
     "data": {
      "text/html": [
       "<div>\n",
       "<style scoped>\n",
       "    .dataframe tbody tr th:only-of-type {\n",
       "        vertical-align: middle;\n",
       "    }\n",
       "\n",
       "    .dataframe tbody tr th {\n",
       "        vertical-align: top;\n",
       "    }\n",
       "\n",
       "    .dataframe thead th {\n",
       "        text-align: right;\n",
       "    }\n",
       "</style>\n",
       "<table border=\"1\" class=\"dataframe\">\n",
       "  <thead>\n",
       "    <tr style=\"text-align: right;\">\n",
       "      <th></th>\n",
       "      <th>2WB</th>\n",
       "      <th>WB</th>\n",
       "      <th>DS</th>\n",
       "      <th>WA</th>\n",
       "      <th>2WA</th>\n",
       "    </tr>\n",
       "  </thead>\n",
       "  <tbody>\n",
       "    <tr>\n",
       "      <th>0</th>\n",
       "      <td>2127.78</td>\n",
       "      <td>2041</td>\n",
       "      <td>2103</td>\n",
       "      <td>2028.67</td>\n",
       "      <td>1970</td>\n",
       "    </tr>\n",
       "  </tbody>\n",
       "</table>\n",
       "</div>"
      ],
      "text/plain": [
       "       2WB    WB    DS       WA   2WA\n",
       "0  2127.78  2041  2103  2028.67  1970"
      ]
     },
     "execution_count": 116,
     "metadata": {},
     "output_type": "execute_result"
    }
   ],
   "source": [
    "ma"
   ]
  },
  {
   "cell_type": "code",
   "execution_count": 117,
   "metadata": {},
   "outputs": [
    {
     "data": {
      "text/html": [
       "<div>\n",
       "<style scoped>\n",
       "    .dataframe tbody tr th:only-of-type {\n",
       "        vertical-align: middle;\n",
       "    }\n",
       "\n",
       "    .dataframe tbody tr th {\n",
       "        vertical-align: top;\n",
       "    }\n",
       "\n",
       "    .dataframe thead th {\n",
       "        text-align: right;\n",
       "    }\n",
       "</style>\n",
       "<table border=\"1\" class=\"dataframe\">\n",
       "  <thead>\n",
       "    <tr style=\"text-align: right;\">\n",
       "      <th></th>\n",
       "      <th>2WB</th>\n",
       "      <th>WB</th>\n",
       "      <th>DS</th>\n",
       "      <th>WA</th>\n",
       "      <th>2WA</th>\n",
       "    </tr>\n",
       "  </thead>\n",
       "  <tbody>\n",
       "    <tr>\n",
       "      <th>0</th>\n",
       "      <td>643.667</td>\n",
       "      <td>503.889</td>\n",
       "      <td>498</td>\n",
       "      <td>504.111</td>\n",
       "      <td>494.333</td>\n",
       "    </tr>\n",
       "  </tbody>\n",
       "</table>\n",
       "</div>"
      ],
      "text/plain": [
       "       2WB       WB   DS       WA      2WA\n",
       "0  643.667  503.889  498  504.111  494.333"
      ]
     },
     "execution_count": 117,
     "metadata": {},
     "output_type": "execute_result"
    }
   ],
   "source": [
    "pac_ma"
   ]
  },
  {
   "cell_type": "code",
   "execution_count": 118,
   "metadata": {},
   "outputs": [],
   "source": [
    "#Eastern TimeZone Dataset\n",
    "east=df[(df['Timezone']=='US/Eastern')|(df['State']=='FL')|(df['State']=='SC')|(df['State']=='MD')].copy(deep=True)"
   ]
  },
  {
   "cell_type": "code",
   "execution_count": 119,
   "metadata": {},
   "outputs": [
    {
     "data": {
      "text/plain": [
       "(104842, 3)"
      ]
     },
     "execution_count": 119,
     "metadata": {},
     "output_type": "execute_result"
    }
   ],
   "source": [
    "east.shape"
   ]
  },
  {
   "cell_type": "code",
   "execution_count": 120,
   "metadata": {},
   "outputs": [],
   "source": [
    "east_count_ds=ds.copy(deep=True)\n",
    "east_count_wa=wa.copy(deep=True)\n",
    "east_count_wb=wb.copy(deep=True)\n",
    "east_count_2wa=two_wa.copy(deep=True)\n",
    "east_count_2wb=two_wb.copy(deep=True)\n"
   ]
  },
  {
   "cell_type": "code",
   "execution_count": 121,
   "metadata": {},
   "outputs": [],
   "source": [
    "#count the number of accidents for the Week Before Daylight savings week \n",
    "for i in range(4):\n",
    "    for j in wb.columns:\n",
    "        east_count_wb.loc[i,j]=len(east[east['Date']==wb.loc[i,j]])\n",
    "#count the number of accidents for the Daylight savings week \n",
    "for i in range(4):\n",
    "    for j in ds.columns:\n",
    "        east_count_ds.loc[i,j]=len(east[east['Date']==ds.loc[i,j]])\n",
    "#count the number of accidents for the Week After Daylight savings week \n",
    "for i in range(4):\n",
    "    for j in wa.columns:\n",
    "        east_count_wa.loc[i,(j)]=len(east[east['Date']==wa.loc[i,j]])\n",
    "#count the number of accidents for the Week 2 weeks Before Daylight savings \n",
    "for i in range(4):\n",
    "    for j in two_wb.columns:\n",
    "        east_count_2wb.loc[i,j]=len(east[east['Date']==two_wb.loc[i,j]])\n",
    "#count the number of accidents for the Week 2 weeks After Daylight savings \n",
    "for i in range(4):\n",
    "    for j in two_wa.columns:\n",
    "        east_count_2wa.loc[i,j]=len(east[east['Date']==two_wa.loc[i,j]])\n"
   ]
  },
  {
   "cell_type": "code",
   "execution_count": 122,
   "metadata": {},
   "outputs": [],
   "source": [
    "#Convert the entries to integers so that we can perform calculations on the dataframe\n",
    "east_count_wb=east_count_wb.apply(pd.to_numeric)\n",
    "east_count_ds=east_count_ds.apply(pd.to_numeric)\n",
    "east_count_wa=east_count_wa.apply(pd.to_numeric)\n",
    "east_count_2wa=east_count_2wa.apply(pd.to_numeric)\n",
    "east_count_2wb=east_count_2wb.apply(pd.to_numeric)\n",
    "#Create a total column to find the sum of all accidents for a given week\n",
    "east_count_wb['Total']=east_count_wb.sum(axis=1)\n",
    "east_count_ds['Total']=east_count_ds.sum(axis=1)\n",
    "east_count_wa['Total']=east_count_wa.sum(axis=1)\n",
    "east_count_2wb['Total']=east_count_2wb.sum(axis=1)\n",
    "east_count_2wa['Total']=east_count_2wa.sum(axis=1)\n"
   ]
  },
  {
   "cell_type": "code",
   "execution_count": 123,
   "metadata": {},
   "outputs": [],
   "source": [
    "east_count_wa=east_count_wa.loc[[1,2,3],:].copy(deep=True)\n",
    "east_count_2wa=east_count_2wa.loc[[1,2,3],:].copy(deep=True)\n",
    "east_count_ds=east_count_ds.loc[[1,2,3],:].copy(deep=True)\n",
    "east_count_wb=east_count_wb.loc[[1,2,3],:].copy(deep=True)\n",
    "east_count_2wb=east_count_2wb.loc[[1,2,3],:].copy(deep=True)\n"
   ]
  },
  {
   "cell_type": "code",
   "execution_count": 124,
   "metadata": {},
   "outputs": [],
   "source": [
    "east_count_wb.loc['mean'] = east_count_wb.mean()\n",
    "east_count_ds.loc['mean'] = east_count_ds.mean()\n",
    "east_count_wa.loc['mean'] = east_count_wa.mean()\n",
    "east_count_2wb.loc['mean'] = east_count_2wb.mean()\n",
    "east_count_2wa.loc['mean'] = east_count_2wa.mean()"
   ]
  },
  {
   "cell_type": "code",
   "execution_count": 125,
   "metadata": {},
   "outputs": [
    {
     "data": {
      "text/html": [
       "<div>\n",
       "<style scoped>\n",
       "    .dataframe tbody tr th:only-of-type {\n",
       "        vertical-align: middle;\n",
       "    }\n",
       "\n",
       "    .dataframe tbody tr th {\n",
       "        vertical-align: top;\n",
       "    }\n",
       "\n",
       "    .dataframe thead th {\n",
       "        text-align: right;\n",
       "    }\n",
       "</style>\n",
       "<table border=\"1\" class=\"dataframe\">\n",
       "  <thead>\n",
       "    <tr style=\"text-align: right;\">\n",
       "      <th></th>\n",
       "      <th>2WA</th>\n",
       "      <th>2WA1</th>\n",
       "      <th>2WA2</th>\n",
       "      <th>2WA3</th>\n",
       "      <th>2WA4</th>\n",
       "      <th>2WA5</th>\n",
       "      <th>2WA6</th>\n",
       "      <th>Total</th>\n",
       "    </tr>\n",
       "  </thead>\n",
       "  <tbody>\n",
       "    <tr>\n",
       "      <th>1</th>\n",
       "      <td>241.000000</td>\n",
       "      <td>855.000000</td>\n",
       "      <td>1037.000000</td>\n",
       "      <td>1062.000000</td>\n",
       "      <td>910.000000</td>\n",
       "      <td>960.000000</td>\n",
       "      <td>226.0</td>\n",
       "      <td>5291.000000</td>\n",
       "    </tr>\n",
       "    <tr>\n",
       "      <th>2</th>\n",
       "      <td>330.000000</td>\n",
       "      <td>1430.000000</td>\n",
       "      <td>1396.000000</td>\n",
       "      <td>699.000000</td>\n",
       "      <td>1476.000000</td>\n",
       "      <td>1363.000000</td>\n",
       "      <td>255.0</td>\n",
       "      <td>6949.000000</td>\n",
       "    </tr>\n",
       "    <tr>\n",
       "      <th>3</th>\n",
       "      <td>352.000000</td>\n",
       "      <td>1179.000000</td>\n",
       "      <td>1355.000000</td>\n",
       "      <td>1426.000000</td>\n",
       "      <td>1350.000000</td>\n",
       "      <td>1255.000000</td>\n",
       "      <td>407.0</td>\n",
       "      <td>7324.000000</td>\n",
       "    </tr>\n",
       "    <tr>\n",
       "      <th>mean</th>\n",
       "      <td>307.666667</td>\n",
       "      <td>1154.666667</td>\n",
       "      <td>1262.666667</td>\n",
       "      <td>1062.333333</td>\n",
       "      <td>1245.333333</td>\n",
       "      <td>1192.666667</td>\n",
       "      <td>296.0</td>\n",
       "      <td>6521.333333</td>\n",
       "    </tr>\n",
       "  </tbody>\n",
       "</table>\n",
       "</div>"
      ],
      "text/plain": [
       "             2WA         2WA1         2WA2         2WA3         2WA4  \\\n",
       "1     241.000000   855.000000  1037.000000  1062.000000   910.000000   \n",
       "2     330.000000  1430.000000  1396.000000   699.000000  1476.000000   \n",
       "3     352.000000  1179.000000  1355.000000  1426.000000  1350.000000   \n",
       "mean  307.666667  1154.666667  1262.666667  1062.333333  1245.333333   \n",
       "\n",
       "             2WA5   2WA6        Total  \n",
       "1      960.000000  226.0  5291.000000  \n",
       "2     1363.000000  255.0  6949.000000  \n",
       "3     1255.000000  407.0  7324.000000  \n",
       "mean  1192.666667  296.0  6521.333333  "
      ]
     },
     "execution_count": 125,
     "metadata": {},
     "output_type": "execute_result"
    }
   ],
   "source": [
    "east_count_2wa"
   ]
  },
  {
   "cell_type": "code",
   "execution_count": 126,
   "metadata": {},
   "outputs": [],
   "source": [
    "east_ma=pd.DataFrame()\n",
    "east_ma['2WB']=\"\"\n",
    "east_ma['WB']=\"\"\n",
    "east_ma['DS']=\"\"\n",
    "east_ma['WA']=\"\"\n",
    "east_ma['2WA']=\"\""
   ]
  },
  {
   "cell_type": "code",
   "execution_count": 127,
   "metadata": {},
   "outputs": [],
   "source": [
    "east_ma.loc[0,'2WB']=(east_count_2wb.loc['mean','2WB']+east_count_2wb.loc['mean','2WB1']+east_count_2wb.loc['mean','2WB2'])/3\n",
    "east_ma.loc[0,'WB']=(east_count_wb.loc['mean','WB']+east_count_wb.loc['mean','WB1']+east_count_wb.loc['mean','WB2'])/3\n",
    "east_ma.loc[0,'DS']=(east_count_ds.loc['mean','DS']+east_count_ds.loc['mean','DS1']+east_count_ds.loc['mean','DS2'])/3\n",
    "east_ma.loc[0,'WA']=(east_count_wa.loc['mean','WA']+east_count_wa.loc['mean','WA1']+east_count_wa.loc['mean','WA2'])/3\n",
    "east_ma.loc[0,'2WA']=(east_count_2wa.loc['mean','2WA']+east_count_2wa.loc['mean','2WA1']+east_count_2wa.loc['mean','2WA2'])/3\n"
   ]
  },
  {
   "cell_type": "code",
   "execution_count": 128,
   "metadata": {},
   "outputs": [
    {
     "data": {
      "text/html": [
       "<div>\n",
       "<style scoped>\n",
       "    .dataframe tbody tr th:only-of-type {\n",
       "        vertical-align: middle;\n",
       "    }\n",
       "\n",
       "    .dataframe tbody tr th {\n",
       "        vertical-align: top;\n",
       "    }\n",
       "\n",
       "    .dataframe thead th {\n",
       "        text-align: right;\n",
       "    }\n",
       "</style>\n",
       "<table border=\"1\" class=\"dataframe\">\n",
       "  <thead>\n",
       "    <tr style=\"text-align: right;\">\n",
       "      <th></th>\n",
       "      <th>2WB</th>\n",
       "      <th>WB</th>\n",
       "      <th>DS</th>\n",
       "      <th>WA</th>\n",
       "      <th>2WA</th>\n",
       "    </tr>\n",
       "  </thead>\n",
       "  <tbody>\n",
       "    <tr>\n",
       "      <th>0</th>\n",
       "      <td>911.222</td>\n",
       "      <td>925.333</td>\n",
       "      <td>1015.78</td>\n",
       "      <td>962.333</td>\n",
       "      <td>908.333</td>\n",
       "    </tr>\n",
       "  </tbody>\n",
       "</table>\n",
       "</div>"
      ],
      "text/plain": [
       "       2WB       WB       DS       WA      2WA\n",
       "0  911.222  925.333  1015.78  962.333  908.333"
      ]
     },
     "execution_count": 128,
     "metadata": {},
     "output_type": "execute_result"
    }
   ],
   "source": [
    "east_ma"
   ]
  },
  {
   "cell_type": "code",
   "execution_count": 129,
   "metadata": {},
   "outputs": [
    {
     "data": {
      "text/html": [
       "<div>\n",
       "<style scoped>\n",
       "    .dataframe tbody tr th:only-of-type {\n",
       "        vertical-align: middle;\n",
       "    }\n",
       "\n",
       "    .dataframe tbody tr th {\n",
       "        vertical-align: top;\n",
       "    }\n",
       "\n",
       "    .dataframe thead th {\n",
       "        text-align: right;\n",
       "    }\n",
       "</style>\n",
       "<table border=\"1\" class=\"dataframe\">\n",
       "  <thead>\n",
       "    <tr style=\"text-align: right;\">\n",
       "      <th></th>\n",
       "      <th>2WB</th>\n",
       "      <th>WB</th>\n",
       "      <th>DS</th>\n",
       "      <th>WA</th>\n",
       "      <th>2WA</th>\n",
       "    </tr>\n",
       "  </thead>\n",
       "  <tbody>\n",
       "    <tr>\n",
       "      <th>0</th>\n",
       "      <td>48.1111</td>\n",
       "      <td>45.6667</td>\n",
       "      <td>33.6667</td>\n",
       "      <td>42</td>\n",
       "      <td>44.7778</td>\n",
       "    </tr>\n",
       "  </tbody>\n",
       "</table>\n",
       "</div>"
      ],
      "text/plain": [
       "       2WB       WB       DS  WA      2WA\n",
       "0  48.1111  45.6667  33.6667  42  44.7778"
      ]
     },
     "execution_count": 129,
     "metadata": {},
     "output_type": "execute_result"
    }
   ],
   "source": [
    "az_ma"
   ]
  },
  {
   "cell_type": "code",
   "execution_count": 130,
   "metadata": {},
   "outputs": [
    {
     "data": {
      "text/html": [
       "<div>\n",
       "<style scoped>\n",
       "    .dataframe tbody tr th:only-of-type {\n",
       "        vertical-align: middle;\n",
       "    }\n",
       "\n",
       "    .dataframe tbody tr th {\n",
       "        vertical-align: top;\n",
       "    }\n",
       "\n",
       "    .dataframe thead th {\n",
       "        text-align: right;\n",
       "    }\n",
       "</style>\n",
       "<table border=\"1\" class=\"dataframe\">\n",
       "  <thead>\n",
       "    <tr style=\"text-align: right;\">\n",
       "      <th></th>\n",
       "      <th>2WB</th>\n",
       "      <th>WB</th>\n",
       "      <th>DS</th>\n",
       "      <th>WA</th>\n",
       "      <th>2WA</th>\n",
       "    </tr>\n",
       "  </thead>\n",
       "  <tbody>\n",
       "    <tr>\n",
       "      <th>0</th>\n",
       "      <td>2127.78</td>\n",
       "      <td>2041</td>\n",
       "      <td>2103</td>\n",
       "      <td>2028.67</td>\n",
       "      <td>1970</td>\n",
       "    </tr>\n",
       "  </tbody>\n",
       "</table>\n",
       "</div>"
      ],
      "text/plain": [
       "       2WB    WB    DS       WA   2WA\n",
       "0  2127.78  2041  2103  2028.67  1970"
      ]
     },
     "execution_count": 130,
     "metadata": {},
     "output_type": "execute_result"
    }
   ],
   "source": [
    "ma"
   ]
  },
  {
   "cell_type": "code",
   "execution_count": 131,
   "metadata": {},
   "outputs": [
    {
     "data": {
      "text/html": [
       "<div>\n",
       "<style scoped>\n",
       "    .dataframe tbody tr th:only-of-type {\n",
       "        vertical-align: middle;\n",
       "    }\n",
       "\n",
       "    .dataframe tbody tr th {\n",
       "        vertical-align: top;\n",
       "    }\n",
       "\n",
       "    .dataframe thead th {\n",
       "        text-align: right;\n",
       "    }\n",
       "</style>\n",
       "<table border=\"1\" class=\"dataframe\">\n",
       "  <thead>\n",
       "    <tr style=\"text-align: right;\">\n",
       "      <th></th>\n",
       "      <th>2WB</th>\n",
       "      <th>WB</th>\n",
       "      <th>DS</th>\n",
       "      <th>WA</th>\n",
       "      <th>2WA</th>\n",
       "    </tr>\n",
       "  </thead>\n",
       "  <tbody>\n",
       "    <tr>\n",
       "      <th>0</th>\n",
       "      <td>643.667</td>\n",
       "      <td>503.889</td>\n",
       "      <td>498</td>\n",
       "      <td>504.111</td>\n",
       "      <td>494.333</td>\n",
       "    </tr>\n",
       "  </tbody>\n",
       "</table>\n",
       "</div>"
      ],
      "text/plain": [
       "       2WB       WB   DS       WA      2WA\n",
       "0  643.667  503.889  498  504.111  494.333"
      ]
     },
     "execution_count": 131,
     "metadata": {},
     "output_type": "execute_result"
    }
   ],
   "source": [
    "pac_ma"
   ]
  },
  {
   "cell_type": "code",
   "execution_count": 132,
   "metadata": {},
   "outputs": [
    {
     "data": {
      "text/html": [
       "<div>\n",
       "<style scoped>\n",
       "    .dataframe tbody tr th:only-of-type {\n",
       "        vertical-align: middle;\n",
       "    }\n",
       "\n",
       "    .dataframe tbody tr th {\n",
       "        vertical-align: top;\n",
       "    }\n",
       "\n",
       "    .dataframe thead th {\n",
       "        text-align: right;\n",
       "    }\n",
       "</style>\n",
       "<table border=\"1\" class=\"dataframe\">\n",
       "  <thead>\n",
       "    <tr style=\"text-align: right;\">\n",
       "      <th></th>\n",
       "      <th>2WB</th>\n",
       "      <th>WB</th>\n",
       "      <th>DS</th>\n",
       "      <th>WA</th>\n",
       "      <th>2WA</th>\n",
       "    </tr>\n",
       "  </thead>\n",
       "  <tbody>\n",
       "    <tr>\n",
       "      <th>0</th>\n",
       "      <td>405</td>\n",
       "      <td>409.889</td>\n",
       "      <td>406.889</td>\n",
       "      <td>421.889</td>\n",
       "      <td>415.889</td>\n",
       "    </tr>\n",
       "  </tbody>\n",
       "</table>\n",
       "</div>"
      ],
      "text/plain": [
       "   2WB       WB       DS       WA      2WA\n",
       "0  405  409.889  406.889  421.889  415.889"
      ]
     },
     "execution_count": 132,
     "metadata": {},
     "output_type": "execute_result"
    }
   ],
   "source": [
    "ca_ma"
   ]
  },
  {
   "cell_type": "code",
   "execution_count": 133,
   "metadata": {},
   "outputs": [
    {
     "data": {
      "text/html": [
       "<div>\n",
       "<style scoped>\n",
       "    .dataframe tbody tr th:only-of-type {\n",
       "        vertical-align: middle;\n",
       "    }\n",
       "\n",
       "    .dataframe tbody tr th {\n",
       "        vertical-align: top;\n",
       "    }\n",
       "\n",
       "    .dataframe thead th {\n",
       "        text-align: right;\n",
       "    }\n",
       "</style>\n",
       "<table border=\"1\" class=\"dataframe\">\n",
       "  <thead>\n",
       "    <tr style=\"text-align: right;\">\n",
       "      <th></th>\n",
       "      <th>2WB</th>\n",
       "      <th>WB</th>\n",
       "      <th>DS</th>\n",
       "      <th>WA</th>\n",
       "      <th>2WA</th>\n",
       "    </tr>\n",
       "  </thead>\n",
       "  <tbody>\n",
       "    <tr>\n",
       "      <th>Total</th>\n",
       "      <td>2127.78</td>\n",
       "      <td>2041</td>\n",
       "      <td>2103</td>\n",
       "      <td>2028.67</td>\n",
       "      <td>1970</td>\n",
       "    </tr>\n",
       "  </tbody>\n",
       "</table>\n",
       "</div>"
      ],
      "text/plain": [
       "           2WB    WB    DS       WA   2WA\n",
       "Total  2127.78  2041  2103  2028.67  1970"
      ]
     },
     "execution_count": 133,
     "metadata": {},
     "output_type": "execute_result"
    }
   ],
   "source": [
    "ma.rename(index={0: \"Total\"})"
   ]
  },
  {
   "cell_type": "code",
   "execution_count": 134,
   "metadata": {},
   "outputs": [],
   "source": [
    "#create a dataframe for the moving average for the regions and states of interest\n",
    "ma=ma.append(az_ma).append(pac_ma).append(east_ma).append(ca_ma)\n",
    "ma.reset_index(inplace=True)\n",
    "ma.drop(columns=['index'],inplace=True)\n",
    "ma.rename(index={0: \"Total\",1:\"AZ\",2:\"Pacific\",3:\"Eastern\",4:\"CA\"},inplace=True)"
   ]
  },
  {
   "cell_type": "code",
   "execution_count": 135,
   "metadata": {},
   "outputs": [
    {
     "data": {
      "text/html": [
       "<div>\n",
       "<style scoped>\n",
       "    .dataframe tbody tr th:only-of-type {\n",
       "        vertical-align: middle;\n",
       "    }\n",
       "\n",
       "    .dataframe tbody tr th {\n",
       "        vertical-align: top;\n",
       "    }\n",
       "\n",
       "    .dataframe thead th {\n",
       "        text-align: right;\n",
       "    }\n",
       "</style>\n",
       "<table border=\"1\" class=\"dataframe\">\n",
       "  <thead>\n",
       "    <tr style=\"text-align: right;\">\n",
       "      <th></th>\n",
       "      <th>2WB</th>\n",
       "      <th>WB</th>\n",
       "      <th>DS</th>\n",
       "      <th>WA</th>\n",
       "      <th>2WA</th>\n",
       "    </tr>\n",
       "  </thead>\n",
       "  <tbody>\n",
       "    <tr>\n",
       "      <th>Total</th>\n",
       "      <td>2127.78</td>\n",
       "      <td>2041</td>\n",
       "      <td>2103</td>\n",
       "      <td>2028.67</td>\n",
       "      <td>1970</td>\n",
       "    </tr>\n",
       "    <tr>\n",
       "      <th>AZ</th>\n",
       "      <td>48.1111</td>\n",
       "      <td>45.6667</td>\n",
       "      <td>33.6667</td>\n",
       "      <td>42</td>\n",
       "      <td>44.7778</td>\n",
       "    </tr>\n",
       "    <tr>\n",
       "      <th>Pacific</th>\n",
       "      <td>643.667</td>\n",
       "      <td>503.889</td>\n",
       "      <td>498</td>\n",
       "      <td>504.111</td>\n",
       "      <td>494.333</td>\n",
       "    </tr>\n",
       "    <tr>\n",
       "      <th>Eastern</th>\n",
       "      <td>911.222</td>\n",
       "      <td>925.333</td>\n",
       "      <td>1015.78</td>\n",
       "      <td>962.333</td>\n",
       "      <td>908.333</td>\n",
       "    </tr>\n",
       "    <tr>\n",
       "      <th>CA</th>\n",
       "      <td>405</td>\n",
       "      <td>409.889</td>\n",
       "      <td>406.889</td>\n",
       "      <td>421.889</td>\n",
       "      <td>415.889</td>\n",
       "    </tr>\n",
       "  </tbody>\n",
       "</table>\n",
       "</div>"
      ],
      "text/plain": [
       "             2WB       WB       DS       WA      2WA\n",
       "Total    2127.78     2041     2103  2028.67     1970\n",
       "AZ       48.1111  45.6667  33.6667       42  44.7778\n",
       "Pacific  643.667  503.889      498  504.111  494.333\n",
       "Eastern  911.222  925.333  1015.78  962.333  908.333\n",
       "CA           405  409.889  406.889  421.889  415.889"
      ]
     },
     "execution_count": 135,
     "metadata": {},
     "output_type": "execute_result"
    }
   ],
   "source": [
    "ma"
   ]
  },
  {
   "cell_type": "code",
   "execution_count": 136,
   "metadata": {},
   "outputs": [],
   "source": [
    "import matplotlib.pyplot as plt"
   ]
  },
  {
   "cell_type": "code",
   "execution_count": 137,
   "metadata": {},
   "outputs": [
    {
     "data": {
      "image/png": "[encoded data removed]",
      "text/plain": [
       "<Figure size 432x288 with 1 Axes>"
      ]
     },
     "metadata": {
      "needs_background": "light"
     },
     "output_type": "display_data"
    }
   ],
   "source": [
    "fig,ax=plt.subplots()\n",
    "line=ax.plot(ma.columns,ma.loc['Total'],label='Total',marker='o')\n",
    "ax.set_xlabel('Date Relative to Daylight Saving(DS) Time')\n",
    "ax.set_ylabel('Number of Accidents (Total)')\n",
    "ax.figure.legend()\n",
    "plt.ylim(1800,2140)\n",
    "plt.show()"
   ]
  },
  {
   "cell_type": "code",
   "execution_count": 138,
   "metadata": {},
   "outputs": [
    {
     "data": {
      "image/png": "[encoded data removed]",
      "text/plain": [
       "<Figure size 432x288 with 2 Axes>"
      ]
     },
     "metadata": {
      "needs_background": "light"
     },
     "output_type": "display_data"
    }
   ],
   "source": [
    "fig,ax=plt.subplots()\n",
    "line=ax.plot(ma.columns,ma.loc['Total'],label='Total',marker='o')\n",
    "ax.set_xlabel('Date Relative to Daylight Saving(DS) Time')\n",
    "ax.set_ylabel('Number of Accidents (Total)')\n",
    "plt.ylim(1800,2140)\n",
    "ax2=ax.twinx()\n",
    "ax2.plot(ma.columns,ma.loc['AZ'], color='r',label='AZ',marker='o')\n",
    "ax2.set_ylabel('Number of Accidents (AZ)')\n",
    "ax2.set_ylim(25,50)\n",
    "ax.figure.legend()\n",
    "plt.show()"
   ]
  },
  {
   "cell_type": "code",
   "execution_count": 139,
   "metadata": {},
   "outputs": [
    {
     "data": {
      "image/png": "[encoded data removed]",
      "text/plain": [
       "<Figure size 432x288 with 2 Axes>"
      ]
     },
     "metadata": {
      "needs_background": "light"
     },
     "output_type": "display_data"
    }
   ],
   "source": [
    "fig,ax=plt.subplots()\n",
    "line=ax.plot(ma.columns,ma.loc['Pacific'],label='Pacific',marker='o')\n",
    "ax.set_xlabel('Date Relative to Daylight Saving(DS) Time')\n",
    "ax.set_ylabel('Number of Accidents (Pacific)')\n",
    "plt.ylim(300,650)\n",
    "ax2=ax.twinx()\n",
    "ax2.plot(ma.columns,ma.loc['AZ'], color='r',label='AZ',marker='o')\n",
    "ax2.set_ylabel('Number of Accidents (AZ)')\n",
    "ax2.set_ylim(25,50)\n",
    "ax.figure.legend()\n",
    "plt.show()"
   ]
  },
  {
   "cell_type": "code",
   "execution_count": 140,
   "metadata": {},
   "outputs": [
    {
     "data": {
      "image/png": "[encoded data removed]",
      "text/plain": [
       "<Figure size 432x288 with 2 Axes>"
      ]
     },
     "metadata": {
      "needs_background": "light"
     },
     "output_type": "display_data"
    }
   ],
   "source": [
    "fig,ax=plt.subplots()\n",
    "line=ax.plot(ma.columns,ma.loc['Eastern'],label='Eastern',marker='o')\n",
    "ax.set_xlabel('Date Relative to Daylight Saving(DS) Time')\n",
    "ax.set_ylabel('Number of Accidents (Eastern)')\n",
    "plt.ylim(700,1020)\n",
    "ax2=ax.twinx()\n",
    "ax2.plot(ma.columns,ma.loc['AZ'], color='r',label='AZ',marker='o')\n",
    "ax2.set_ylabel('Number of Accidents (AZ)')\n",
    "ax2.set_ylim(25,50)\n",
    "ax.figure.legend()\n",
    "plt.show()"
   ]
  },
  {
   "cell_type": "code",
   "execution_count": 141,
   "metadata": {},
   "outputs": [
    {
     "data": {
      "image/png": "[encoded data removed]",
      "text/plain": [
       "<Figure size 432x288 with 2 Axes>"
      ]
     },
     "metadata": {
      "needs_background": "light"
     },
     "output_type": "display_data"
    }
   ],
   "source": [
    "fig,ax=plt.subplots()\n",
    "ax.plot(ma.columns,ma.loc['CA'],label='CA',marker='o')\n",
    "ax.set_xlabel('Date Relative to Daylight Saving(DS) Time')\n",
    "ax.set_ylabel('Number of Accidents (CA)')\n",
    "plt.ylim(300,425)\n",
    "ax2=ax.twinx()\n",
    "line=ax2.plot(ma.columns,ma.loc['AZ'], color='r',label='AZ',marker='o')\n",
    "ax2.set_ylabel('Number of Accidents (AZ)')\n",
    "ax2.set_ylim(25,50)\n",
    "ax.figure.legend()\n",
    "plt.show()"
   ]
  },
  {
   "cell_type": "code",
   "execution_count": 143,
   "metadata": {},
   "outputs": [
    {
     "data": {
      "text/html": [
       "<div>\n",
       "<style scoped>\n",
       "    .dataframe tbody tr th:only-of-type {\n",
       "        vertical-align: middle;\n",
       "    }\n",
       "\n",
       "    .dataframe tbody tr th {\n",
       "        vertical-align: top;\n",
       "    }\n",
       "\n",
       "    .dataframe thead th {\n",
       "        text-align: right;\n",
       "    }\n",
       "</style>\n",
       "<table border=\"1\" class=\"dataframe\">\n",
       "  <thead>\n",
       "    <tr style=\"text-align: right;\">\n",
       "      <th></th>\n",
       "      <th>2WB</th>\n",
       "      <th>WB</th>\n",
       "      <th>DS</th>\n",
       "      <th>WA</th>\n",
       "      <th>2WA</th>\n",
       "    </tr>\n",
       "  </thead>\n",
       "  <tbody>\n",
       "    <tr>\n",
       "      <th>Total</th>\n",
       "      <td>2127.78</td>\n",
       "      <td>2041</td>\n",
       "      <td>2103</td>\n",
       "      <td>2028.67</td>\n",
       "      <td>1970</td>\n",
       "    </tr>\n",
       "    <tr>\n",
       "      <th>AZ</th>\n",
       "      <td>48.1111</td>\n",
       "      <td>45.6667</td>\n",
       "      <td>33.6667</td>\n",
       "      <td>42</td>\n",
       "      <td>44.7778</td>\n",
       "    </tr>\n",
       "    <tr>\n",
       "      <th>Pacific</th>\n",
       "      <td>643.667</td>\n",
       "      <td>503.889</td>\n",
       "      <td>498</td>\n",
       "      <td>504.111</td>\n",
       "      <td>494.333</td>\n",
       "    </tr>\n",
       "    <tr>\n",
       "      <th>Eastern</th>\n",
       "      <td>911.222</td>\n",
       "      <td>925.333</td>\n",
       "      <td>1015.78</td>\n",
       "      <td>962.333</td>\n",
       "      <td>908.333</td>\n",
       "    </tr>\n",
       "    <tr>\n",
       "      <th>CA</th>\n",
       "      <td>405</td>\n",
       "      <td>409.889</td>\n",
       "      <td>406.889</td>\n",
       "      <td>421.889</td>\n",
       "      <td>415.889</td>\n",
       "    </tr>\n",
       "  </tbody>\n",
       "</table>\n",
       "</div>"
      ],
      "text/plain": [
       "             2WB       WB       DS       WA      2WA\n",
       "Total    2127.78     2041     2103  2028.67     1970\n",
       "AZ       48.1111  45.6667  33.6667       42  44.7778\n",
       "Pacific  643.667  503.889      498  504.111  494.333\n",
       "Eastern  911.222  925.333  1015.78  962.333  908.333\n",
       "CA           405  409.889  406.889  421.889  415.889"
      ]
     },
     "execution_count": 143,
     "metadata": {},
     "output_type": "execute_result"
    }
   ],
   "source": [
    "ma"
   ]
  },
  {
   "cell_type": "code",
   "execution_count": 144,
   "metadata": {},
   "outputs": [],
   "source": [
    "#Find the average number of car accidents for all the different states/regions, not including the Daylight Saving entry\n",
    "avg_total=(ma.loc['Total','2WB']+ma.loc['Total','WB']+ma.loc['Total','WA']+ma.loc['Total','2WA'])/4\n",
    "avg_az=(ma.loc['AZ','2WB']+ma.loc['AZ','WB']+ma.loc['AZ','WA']+ma.loc['AZ','2WA'])/4\n",
    "avg_pac=(ma.loc['Pacific','2WB']+ma.loc['Pacific','WB']+ma.loc['Pacific','WA']+ma.loc['Pacific','2WA'])/4\n",
    "avg_east=(ma.loc['Eastern','2WB']+ma.loc['Eastern','WB']+ma.loc['Eastern','WA']+ma.loc['Eastern','2WA'])/4\n",
    "avg_ca=(ma.loc['CA','2WB']+ma.loc['CA','WB']+ma.loc['CA','WA']+ma.loc['CA','2WA'])/4"
   ]
  },
  {
   "cell_type": "code",
   "execution_count": 145,
   "metadata": {},
   "outputs": [],
   "source": [
    "#create a dataframe with all the averages so that we can plot it on the charts to compare the DS entry\n",
    "averages=pd.DataFrame()\n",
    "averages['2WB']=\"\"\n",
    "averages['WB']=\"\"\n",
    "averages['DS']=\"\"\n",
    "averages['WA']=\"\"\n",
    "averages['2WA']=\"\"\n",
    "averages.loc[0,'2WB']=averages.loc[0,'WB']=averages.loc[0,'DS']=averages.loc[0,'WA']=averages.loc[0,'2WA']=avg_total\n",
    "averages.loc[1,'2WB']=averages.loc[1,'WB']=averages.loc[1,'DS']=averages.loc[1,'WA']=averages.loc[1,'2WA']=avg_az\n",
    "averages.loc[2,'2WB']=averages.loc[2,'WB']=averages.loc[2,'DS']=averages.loc[2,'WA']=averages.loc[2,'2WA']=avg_pac\n",
    "averages.loc[3,'2WB']=averages.loc[3,'WB']=averages.loc[3,'DS']=averages.loc[3,'WA']=averages.loc[3,'2WA']=avg_east\n",
    "averages.loc[4,'2WB']=averages.loc[4,'WB']=averages.loc[4,'DS']=averages.loc[4,'WA']=averages.loc[4,'2WA']=avg_ca\n",
    "averages.rename(index={0: \"Total\",1:\"AZ\",2:\"Pacific\",3:\"Eastern\",4:\"CA\"},inplace=True)"
   ]
  },
  {
   "cell_type": "code",
   "execution_count": 146,
   "metadata": {},
   "outputs": [
    {
     "data": {
      "text/html": [
       "<div>\n",
       "<style scoped>\n",
       "    .dataframe tbody tr th:only-of-type {\n",
       "        vertical-align: middle;\n",
       "    }\n",
       "\n",
       "    .dataframe tbody tr th {\n",
       "        vertical-align: top;\n",
       "    }\n",
       "\n",
       "    .dataframe thead th {\n",
       "        text-align: right;\n",
       "    }\n",
       "</style>\n",
       "<table border=\"1\" class=\"dataframe\">\n",
       "  <thead>\n",
       "    <tr style=\"text-align: right;\">\n",
       "      <th></th>\n",
       "      <th>2WB</th>\n",
       "      <th>WB</th>\n",
       "      <th>DS</th>\n",
       "      <th>WA</th>\n",
       "      <th>2WA</th>\n",
       "    </tr>\n",
       "  </thead>\n",
       "  <tbody>\n",
       "    <tr>\n",
       "      <th>Total</th>\n",
       "      <td>2041.86</td>\n",
       "      <td>2041.86</td>\n",
       "      <td>2041.86</td>\n",
       "      <td>2041.86</td>\n",
       "      <td>2041.86</td>\n",
       "    </tr>\n",
       "    <tr>\n",
       "      <th>AZ</th>\n",
       "      <td>45.1389</td>\n",
       "      <td>45.1389</td>\n",
       "      <td>45.1389</td>\n",
       "      <td>45.1389</td>\n",
       "      <td>45.1389</td>\n",
       "    </tr>\n",
       "    <tr>\n",
       "      <th>Pacific</th>\n",
       "      <td>536.5</td>\n",
       "      <td>536.5</td>\n",
       "      <td>536.5</td>\n",
       "      <td>536.5</td>\n",
       "      <td>536.5</td>\n",
       "    </tr>\n",
       "    <tr>\n",
       "      <th>Eastern</th>\n",
       "      <td>926.806</td>\n",
       "      <td>926.806</td>\n",
       "      <td>926.806</td>\n",
       "      <td>926.806</td>\n",
       "      <td>926.806</td>\n",
       "    </tr>\n",
       "    <tr>\n",
       "      <th>CA</th>\n",
       "      <td>413.167</td>\n",
       "      <td>413.167</td>\n",
       "      <td>413.167</td>\n",
       "      <td>413.167</td>\n",
       "      <td>413.167</td>\n",
       "    </tr>\n",
       "  </tbody>\n",
       "</table>\n",
       "</div>"
      ],
      "text/plain": [
       "             2WB       WB       DS       WA      2WA\n",
       "Total    2041.86  2041.86  2041.86  2041.86  2041.86\n",
       "AZ       45.1389  45.1389  45.1389  45.1389  45.1389\n",
       "Pacific    536.5    536.5    536.5    536.5    536.5\n",
       "Eastern  926.806  926.806  926.806  926.806  926.806\n",
       "CA       413.167  413.167  413.167  413.167  413.167"
      ]
     },
     "execution_count": 146,
     "metadata": {},
     "output_type": "execute_result"
    }
   ],
   "source": [
    "averages"
   ]
  },
  {
   "cell_type": "code",
   "execution_count": 147,
   "metadata": {},
   "outputs": [],
   "source": [
    "#create a function that finds the offset between the 2 numbers and returns as a decimal point and as a string in percentage format\n",
    "def offset(x, y):\n",
    "    z=(y-x)/x\n",
    "    p=round(z*100,1)\n",
    "    return p, str(p)+'%'"
   ]
  },
  {
   "cell_type": "code",
   "execution_count": 148,
   "metadata": {},
   "outputs": [],
   "source": [
    "total_number,total_string=offset(averages.loc['Total','DS'],ma.loc['Total','DS'])\n",
    "az_number,az_string=offset(averages.loc['AZ','DS'],ma.loc['AZ','DS'])\n",
    "pac_number,pac_string=offset(averages.loc['Pacific','DS'],ma.loc['Pacific','DS'])\n",
    "east_number,east_string=offset(averages.loc['Eastern','DS'],ma.loc['Eastern','DS'])\n",
    "ca_number,ca_string=offset(averages.loc['CA','DS'],ma.loc['CA','DS'])"
   ]
  },
  {
   "cell_type": "code",
   "execution_count": 149,
   "metadata": {},
   "outputs": [
    {
     "data": {
      "text/plain": [
       "3.0"
      ]
     },
     "execution_count": 149,
     "metadata": {},
     "output_type": "execute_result"
    }
   ],
   "source": [
    "total_number"
   ]
  },
  {
   "cell_type": "code",
   "execution_count": 150,
   "metadata": {},
   "outputs": [
    {
     "data": {
      "text/html": [
       "<div>\n",
       "<style scoped>\n",
       "    .dataframe tbody tr th:only-of-type {\n",
       "        vertical-align: middle;\n",
       "    }\n",
       "\n",
       "    .dataframe tbody tr th {\n",
       "        vertical-align: top;\n",
       "    }\n",
       "\n",
       "    .dataframe thead th {\n",
       "        text-align: right;\n",
       "    }\n",
       "</style>\n",
       "<table border=\"1\" class=\"dataframe\">\n",
       "  <thead>\n",
       "    <tr style=\"text-align: right;\">\n",
       "      <th></th>\n",
       "      <th>2WB</th>\n",
       "      <th>WB</th>\n",
       "      <th>DS</th>\n",
       "      <th>WA</th>\n",
       "      <th>2WA</th>\n",
       "    </tr>\n",
       "  </thead>\n",
       "  <tbody>\n",
       "    <tr>\n",
       "      <th>Total</th>\n",
       "      <td>2127.78</td>\n",
       "      <td>2041</td>\n",
       "      <td>2103</td>\n",
       "      <td>2028.67</td>\n",
       "      <td>1970</td>\n",
       "    </tr>\n",
       "    <tr>\n",
       "      <th>AZ</th>\n",
       "      <td>48.1111</td>\n",
       "      <td>45.6667</td>\n",
       "      <td>33.6667</td>\n",
       "      <td>42</td>\n",
       "      <td>44.7778</td>\n",
       "    </tr>\n",
       "    <tr>\n",
       "      <th>Pacific</th>\n",
       "      <td>643.667</td>\n",
       "      <td>503.889</td>\n",
       "      <td>498</td>\n",
       "      <td>504.111</td>\n",
       "      <td>494.333</td>\n",
       "    </tr>\n",
       "    <tr>\n",
       "      <th>Eastern</th>\n",
       "      <td>911.222</td>\n",
       "      <td>925.333</td>\n",
       "      <td>1015.78</td>\n",
       "      <td>962.333</td>\n",
       "      <td>908.333</td>\n",
       "    </tr>\n",
       "    <tr>\n",
       "      <th>CA</th>\n",
       "      <td>405</td>\n",
       "      <td>409.889</td>\n",
       "      <td>406.889</td>\n",
       "      <td>421.889</td>\n",
       "      <td>415.889</td>\n",
       "    </tr>\n",
       "  </tbody>\n",
       "</table>\n",
       "</div>"
      ],
      "text/plain": [
       "             2WB       WB       DS       WA      2WA\n",
       "Total    2127.78     2041     2103  2028.67     1970\n",
       "AZ       48.1111  45.6667  33.6667       42  44.7778\n",
       "Pacific  643.667  503.889      498  504.111  494.333\n",
       "Eastern  911.222  925.333  1015.78  962.333  908.333\n",
       "CA           405  409.889  406.889  421.889  415.889"
      ]
     },
     "execution_count": 150,
     "metadata": {},
     "output_type": "execute_result"
    }
   ],
   "source": [
    "ma"
   ]
  },
  {
   "cell_type": "code",
   "execution_count": 151,
   "metadata": {},
   "outputs": [
    {
     "data": {
      "image/png": "[encoded data removed]",
      "text/plain": [
       "<Figure size 432x288 with 1 Axes>"
      ]
     },
     "metadata": {
      "needs_background": "light"
     },
     "output_type": "display_data"
    }
   ],
   "source": [
    "fig,ax=plt.subplots()\n",
    "line=ax.plot(ma.columns,ma.loc['Total'],label='Total',marker='o')\n",
    "ax.set_xlabel('Date Relative to Daylight Saving(DS) Time')\n",
    "ax.set_ylabel('Number of Accidents (Total)')\n",
    "ax.plot(averages.columns,averages.loc['Total'],label='Average',color='r')\n",
    "ax.figure.legend()\n",
    "plt.ylim(1800,2140)\n",
    "plt.plot(['DS','DS'],[averages.loc['Total','DS'],ma.loc['Total','DS']])\n",
    "plt.annotate(total_string,xy=('DS',(averages.loc['Total','DS']+ma.loc['Total','DS'])/2),xytext=('WA',(averages.loc['Total','DS']+ma.loc['Total','DS'])/2-1),arrowprops={'color':'red'})\n",
    "plt.show()"
   ]
  },
  {
   "cell_type": "code",
   "execution_count": 152,
   "metadata": {},
   "outputs": [
    {
     "data": {
      "image/png": "[encoded data removed]",
      "text/plain": [
       "<Figure size 432x288 with 1 Axes>"
      ]
     },
     "metadata": {
      "needs_background": "light"
     },
     "output_type": "display_data"
    }
   ],
   "source": [
    "fig,ax=plt.subplots()\n",
    "line=ax.plot(ma.columns,ma.loc['AZ'],label='AZ',marker='o')\n",
    "ax.set_xlabel('Date Relative to Daylight Saving(DS) Time')\n",
    "ax.set_ylabel('Number of Accidents')\n",
    "ax.figure.legend()\n",
    "ax.plot(averages.columns,averages.loc['AZ'],label='Average',color='r')\n",
    "plt.ylim(25,50)\n",
    "plt.plot(['DS','DS'],[averages.loc['AZ','DS'],ma.loc['AZ','DS']])\n",
    "plt.annotate(az_string,xy=('DS',(averages.loc['AZ','DS']+ma.loc['AZ','DS'])/2),xytext=('WA',(averages.loc['AZ','DS']+ma.loc['AZ','DS'])/2-1),arrowprops={'color':'red'})\n",
    "plt.show()"
   ]
  },
  {
   "cell_type": "code",
   "execution_count": 153,
   "metadata": {},
   "outputs": [
    {
     "data": {
      "image/png": "[encoded data removed]",
      "text/plain": [
       "<Figure size 432x288 with 1 Axes>"
      ]
     },
     "metadata": {
      "needs_background": "light"
     },
     "output_type": "display_data"
    }
   ],
   "source": [
    "fig,ax=plt.subplots()\n",
    "line=ax.plot(ma.columns,ma.loc['Pacific'],label='Pacific',marker='o')\n",
    "ax.set_xlabel('Date Relative to Daylight Saving(DS) Time')\n",
    "ax.set_ylabel('Number of Accidents')\n",
    "ax.plot(averages.columns,averages.loc['Pacific'],label='Average',color='r')\n",
    "ax.figure.legend()\n",
    "plt.ylim(300,650)\n",
    "plt.plot(['DS','DS'],[averages.loc['Pacific','DS'],ma.loc['Pacific','DS']])\n",
    "plt.annotate(pac_string,xy=('DS',(averages.loc['Pacific','DS']+ma.loc['Pacific','DS'])/2),xytext=('WA',(averages.loc['Pacific','DS']+ma.loc['Pacific','DS'])/2-1),arrowprops={'color':'red'})\n",
    "plt.show()\n",
    "plt.show()"
   ]
  },
  {
   "cell_type": "code",
   "execution_count": 154,
   "metadata": {},
   "outputs": [
    {
     "data": {
      "image/png": "[encoded data removed]",
      "text/plain": [
       "<Figure size 432x288 with 1 Axes>"
      ]
     },
     "metadata": {
      "needs_background": "light"
     },
     "output_type": "display_data"
    }
   ],
   "source": [
    "fig,ax=plt.subplots()\n",
    "line=ax.plot(ma.columns,ma.loc['Eastern'],label='Eastern',marker='o')\n",
    "ax.set_xlabel('Date Relative to Daylight Saving(DS) Time')\n",
    "ax.set_ylabel('Number of Accidents')\n",
    "ax.plot(averages.columns,averages.loc['Eastern'],label='Average',color='r')\n",
    "ax.figure.legend()\n",
    "plt.ylim(700,1020)\n",
    "plt.plot(['DS','DS'],[averages.loc['Eastern','DS'],ma.loc['Eastern','DS']])\n",
    "plt.annotate(east_string,xy=('DS',(averages.loc['Eastern','DS']+ma.loc['Eastern','DS'])/2),xytext=('WA',(averages.loc['Eastern','DS']+ma.loc['Eastern','DS'])/2-1),arrowprops={'color':'red'})\n",
    "plt.show()"
   ]
  },
  {
   "cell_type": "code",
   "execution_count": 155,
   "metadata": {},
   "outputs": [
    {
     "data": {
      "image/png": "[encoded data removed]",
      "text/plain": [
       "<Figure size 432x288 with 1 Axes>"
      ]
     },
     "metadata": {
      "needs_background": "light"
     },
     "output_type": "display_data"
    }
   ],
   "source": [
    "fig,ax=plt.subplots()\n",
    "line=ax.plot(ma.columns,ma.loc['CA'],label='CA',marker='o')\n",
    "ax.set_xlabel('Date Relative to Daylight Saving(DS) Time')\n",
    "ax.set_ylabel('Number of Accidents')\n",
    "ax.plot(averages.columns,averages.loc['CA'],label='Average',color='r')\n",
    "ax.figure.legend()\n",
    "plt.ylim(350,425)\n",
    "plt.plot(['DS','DS'],[averages.loc['CA','DS'],ma.loc['CA','DS']])\n",
    "plt.annotate(ca_string,xy=('DS',(averages.loc['CA','DS']+ma.loc['CA','DS'])/2),xytext=('WA',(averages.loc['CA','DS']+ma.loc['CA','DS'])/2-1),arrowprops={'color':'red'})\n",
    "plt.show()"
   ]
  },
  {
   "cell_type": "code",
   "execution_count": 156,
   "metadata": {},
   "outputs": [
    {
     "data": {
      "text/html": [
       "<div>\n",
       "<style scoped>\n",
       "    .dataframe tbody tr th:only-of-type {\n",
       "        vertical-align: middle;\n",
       "    }\n",
       "\n",
       "    .dataframe tbody tr th {\n",
       "        vertical-align: top;\n",
       "    }\n",
       "\n",
       "    .dataframe thead th {\n",
       "        text-align: right;\n",
       "    }\n",
       "</style>\n",
       "<table border=\"1\" class=\"dataframe\">\n",
       "  <thead>\n",
       "    <tr style=\"text-align: right;\">\n",
       "      <th></th>\n",
       "      <th>2WB</th>\n",
       "      <th>WB</th>\n",
       "      <th>DS</th>\n",
       "      <th>WA</th>\n",
       "      <th>2WA</th>\n",
       "    </tr>\n",
       "  </thead>\n",
       "  <tbody>\n",
       "    <tr>\n",
       "      <th>Total</th>\n",
       "      <td>2127.78</td>\n",
       "      <td>2041</td>\n",
       "      <td>2103</td>\n",
       "      <td>2028.67</td>\n",
       "      <td>1970</td>\n",
       "    </tr>\n",
       "    <tr>\n",
       "      <th>AZ</th>\n",
       "      <td>48.1111</td>\n",
       "      <td>45.6667</td>\n",
       "      <td>33.6667</td>\n",
       "      <td>42</td>\n",
       "      <td>44.7778</td>\n",
       "    </tr>\n",
       "    <tr>\n",
       "      <th>Pacific</th>\n",
       "      <td>643.667</td>\n",
       "      <td>503.889</td>\n",
       "      <td>498</td>\n",
       "      <td>504.111</td>\n",
       "      <td>494.333</td>\n",
       "    </tr>\n",
       "    <tr>\n",
       "      <th>Eastern</th>\n",
       "      <td>911.222</td>\n",
       "      <td>925.333</td>\n",
       "      <td>1015.78</td>\n",
       "      <td>962.333</td>\n",
       "      <td>908.333</td>\n",
       "    </tr>\n",
       "    <tr>\n",
       "      <th>CA</th>\n",
       "      <td>405</td>\n",
       "      <td>409.889</td>\n",
       "      <td>406.889</td>\n",
       "      <td>421.889</td>\n",
       "      <td>415.889</td>\n",
       "    </tr>\n",
       "  </tbody>\n",
       "</table>\n",
       "</div>"
      ],
      "text/plain": [
       "             2WB       WB       DS       WA      2WA\n",
       "Total    2127.78     2041     2103  2028.67     1970\n",
       "AZ       48.1111  45.6667  33.6667       42  44.7778\n",
       "Pacific  643.667  503.889      498  504.111  494.333\n",
       "Eastern  911.222  925.333  1015.78  962.333  908.333\n",
       "CA           405  409.889  406.889  421.889  415.889"
      ]
     },
     "execution_count": 156,
     "metadata": {},
     "output_type": "execute_result"
    }
   ],
   "source": [
    "ma"
   ]
  },
  {
   "cell_type": "code",
   "execution_count": 157,
   "metadata": {},
   "outputs": [],
   "source": [
    "#Create a datframe for the percentages to plot bar chart comparisons\n",
    "percentages=pd.DataFrame({'AZ':[az_number,az_number,az_number,az_number],'Region':[total_number,pac_number,east_number,ca_number]},index=['Total','Pacific','Eastern','CA'])\n"
   ]
  },
  {
   "cell_type": "code",
   "execution_count": 158,
   "metadata": {},
   "outputs": [
    {
     "data": {
      "text/html": [
       "<div>\n",
       "<style scoped>\n",
       "    .dataframe tbody tr th:only-of-type {\n",
       "        vertical-align: middle;\n",
       "    }\n",
       "\n",
       "    .dataframe tbody tr th {\n",
       "        vertical-align: top;\n",
       "    }\n",
       "\n",
       "    .dataframe thead th {\n",
       "        text-align: right;\n",
       "    }\n",
       "</style>\n",
       "<table border=\"1\" class=\"dataframe\">\n",
       "  <thead>\n",
       "    <tr style=\"text-align: right;\">\n",
       "      <th></th>\n",
       "      <th>AZ</th>\n",
       "      <th>Region</th>\n",
       "    </tr>\n",
       "  </thead>\n",
       "  <tbody>\n",
       "    <tr>\n",
       "      <th>Total</th>\n",
       "      <td>-25.4</td>\n",
       "      <td>3.0</td>\n",
       "    </tr>\n",
       "    <tr>\n",
       "      <th>Pacific</th>\n",
       "      <td>-25.4</td>\n",
       "      <td>-7.2</td>\n",
       "    </tr>\n",
       "    <tr>\n",
       "      <th>Eastern</th>\n",
       "      <td>-25.4</td>\n",
       "      <td>9.6</td>\n",
       "    </tr>\n",
       "    <tr>\n",
       "      <th>CA</th>\n",
       "      <td>-25.4</td>\n",
       "      <td>-1.5</td>\n",
       "    </tr>\n",
       "  </tbody>\n",
       "</table>\n",
       "</div>"
      ],
      "text/plain": [
       "           AZ  Region\n",
       "Total   -25.4     3.0\n",
       "Pacific -25.4    -7.2\n",
       "Eastern -25.4     9.6\n",
       "CA      -25.4    -1.5"
      ]
     },
     "execution_count": 158,
     "metadata": {},
     "output_type": "execute_result"
    }
   ],
   "source": [
    "percentages"
   ]
  },
  {
   "cell_type": "code",
   "execution_count": 159,
   "metadata": {},
   "outputs": [
    {
     "data": {
      "image/png": "[encoded data removed]",
      "text/plain": [
       "<Figure size 720x504 with 1 Axes>"
      ]
     },
     "metadata": {
      "needs_background": "light"
     },
     "output_type": "display_data"
    }
   ],
   "source": [
    "from matplotlib.pyplot import figure\n",
    "labels=list(percentages.index)\n",
    "x=np.arange(len(labels))\n",
    "width=0.25\n",
    "fig, ax = plt.subplots()\n",
    "plot1=ax.bar(x-width/2,percentages['AZ'],width,label='AZ')\n",
    "plot2=ax.bar(x+width/2,percentages['Region'],width,label='Region')\n",
    "plt.style.use('ggplot')\n",
    "ax.set_ylabel('%Difference From 4 Week Mean')\n",
    "ax.set_title('Regional Comparison to AZ')\n",
    "ax.set_xticks(x)\n",
    "ax.set_xticklabels(labels)\n",
    "ax.legend()\n",
    "\n",
    "plt.plot([width+0.02,width+0.02],[az_number,total_number],'r:')\n",
    "plt.annotate(str(total_number-az_number)+'%',xy=(width+0.06,(az_number+total_number)/2))\n",
    "\n",
    "plt.plot([width+1.02,width+1.02],[az_number,pac_number],'r:')\n",
    "plt.annotate(str(pac_number-az_number)+'%',xy=(width+1.06,(pac_number+az_number)/2))\n",
    "\n",
    "plt.plot([width+2.02,width+2.02],[az_number,east_number],'r:')\n",
    "plt.annotate(str(east_number-az_number)+'%',xy=(width+2.06,(east_number+az_number)/2))\n",
    "\n",
    "plt.plot([width+3.02,width+3.02],[az_number,ca_number],'r:')\n",
    "plt.annotate(str(ca_number-az_number)+'%',xy=(width+3.06,(pac_number+az_number)/2))\n",
    "plt.style.use('ggplot')\n",
    "fig.set_size_inches(10, 7)\n",
    "plt.show()"
   ]
  },
  {
   "cell_type": "code",
   "execution_count": 160,
   "metadata": {},
   "outputs": [],
   "source": [
    "#find the difference between each region and arizona \n",
    "total_diff=total_number-az_number\n",
    "pac_diff=pac_number-az_number\n",
    "east_diff=east_number-az_number\n",
    "ca_diff=ca_number-az_number"
   ]
  },
  {
   "cell_type": "markdown",
   "metadata": {},
   "source": [
    "Assuming the 2019 accident number is a fair projection of future accidents, we can calculate the number of annual avoidable accidents assuming that if states no longer have daylight saving then their % difference from the 4 week mean would be similar to Arizona"
   ]
  },
  {
   "cell_type": "code",
   "execution_count": 161,
   "metadata": {},
   "outputs": [
    {
     "name": "stdout",
     "output_type": "stream",
     "text": [
      "The potentail avoidable accidents for the entire US is 59725.0 accidents\n",
      "The potentail avoidable accidents for the Pacific region is 9064.0 accidents\n",
      "The potentail avoidable accidents for the Eastern region is 35552.0 accidents\n",
      "The potentail avoidable accidents for the State of California is 9725.0 accidents\n"
     ]
    }
   ],
   "source": [
    "total_avoidable=round(total_diff*ma.loc['Total','DS'],0)\n",
    "pac_avoidable=round(pac_diff*ma.loc['Pacific','DS'],0)\n",
    "east_avoidable=round(east_diff*ma.loc['Eastern','DS'],0)\n",
    "ca_avoidable=round(ca_diff*ma.loc['CA','DS'],0)\n",
    "print('The potentail avoidable accidents for the entire US is '+str(total_avoidable)+' accidents')\n",
    "print('The potentail avoidable accidents for the Pacific region is '+str(pac_avoidable)+' accidents')\n",
    "print('The potentail avoidable accidents for the Eastern region is '+str(east_avoidable)+' accidents')\n",
    "print('The potentail avoidable accidents for the State of California is '+str(ca_avoidable)+' accidents')"
   ]
  },
  {
   "cell_type": "code",
   "execution_count": 162,
   "metadata": {},
   "outputs": [
    {
     "data": {
      "text/plain": [
       "59725.0"
      ]
     },
     "execution_count": 162,
     "metadata": {},
     "output_type": "execute_result"
    }
   ],
   "source": [
    "total_avoidable"
   ]
  },
  {
   "cell_type": "markdown",
   "metadata": {},
   "source": [
    "<h1>The fall time change</h1>"
   ]
  },
  {
   "cell_type": "code",
   "execution_count": 163,
   "metadata": {},
   "outputs": [],
   "source": [
    "l=[datetime.datetime(2017, 11, 5),datetime.datetime(2018, 11, 4),datetime.datetime(2019, 11, 3)]\n",
    "ft=pd.DataFrame(l,columns=['FT'])"
   ]
  },
  {
   "cell_type": "code",
   "execution_count": 164,
   "metadata": {},
   "outputs": [],
   "source": [
    "ft['FT1']=\"\"\n",
    "ft['FT2']=\"\""
   ]
  },
  {
   "cell_type": "code",
   "execution_count": 165,
   "metadata": {},
   "outputs": [],
   "source": [
    "#fill the dataframe with the 2 subsequent days \n",
    "for i in range(3):\n",
    "    for j in range (1,3):\n",
    "        ft.loc[i,'FT'+str(j)]=ft.loc[i,'FT']+timedelta(days=j)"
   ]
  },
  {
   "cell_type": "code",
   "execution_count": 166,
   "metadata": {},
   "outputs": [
    {
     "data": {
      "text/html": [
       "<div>\n",
       "<style scoped>\n",
       "    .dataframe tbody tr th:only-of-type {\n",
       "        vertical-align: middle;\n",
       "    }\n",
       "\n",
       "    .dataframe tbody tr th {\n",
       "        vertical-align: top;\n",
       "    }\n",
       "\n",
       "    .dataframe thead th {\n",
       "        text-align: right;\n",
       "    }\n",
       "</style>\n",
       "<table border=\"1\" class=\"dataframe\">\n",
       "  <thead>\n",
       "    <tr style=\"text-align: right;\">\n",
       "      <th></th>\n",
       "      <th>FT</th>\n",
       "      <th>FT1</th>\n",
       "      <th>FT2</th>\n",
       "    </tr>\n",
       "  </thead>\n",
       "  <tbody>\n",
       "    <tr>\n",
       "      <th>0</th>\n",
       "      <td>2017-11-05</td>\n",
       "      <td>2017-11-06 00:00:00</td>\n",
       "      <td>2017-11-07 00:00:00</td>\n",
       "    </tr>\n",
       "    <tr>\n",
       "      <th>1</th>\n",
       "      <td>2018-11-04</td>\n",
       "      <td>2018-11-05 00:00:00</td>\n",
       "      <td>2018-11-06 00:00:00</td>\n",
       "    </tr>\n",
       "    <tr>\n",
       "      <th>2</th>\n",
       "      <td>2019-11-03</td>\n",
       "      <td>2019-11-04 00:00:00</td>\n",
       "      <td>2019-11-05 00:00:00</td>\n",
       "    </tr>\n",
       "  </tbody>\n",
       "</table>\n",
       "</div>"
      ],
      "text/plain": [
       "          FT                  FT1                  FT2\n",
       "0 2017-11-05  2017-11-06 00:00:00  2017-11-07 00:00:00\n",
       "1 2018-11-04  2018-11-05 00:00:00  2018-11-06 00:00:00\n",
       "2 2019-11-03  2019-11-04 00:00:00  2019-11-05 00:00:00"
      ]
     },
     "execution_count": 166,
     "metadata": {},
     "output_type": "execute_result"
    }
   ],
   "source": [
    "ft"
   ]
  },
  {
   "cell_type": "code",
   "execution_count": 167,
   "metadata": {},
   "outputs": [],
   "source": [
    "#create the Datframe of the entries for the week before Fall Time\n",
    "fwb=ft.copy(deep=True)\n",
    "fwb=ft+timedelta(days=-7)\n",
    "\n",
    "#create the Dataframe of the entreies for the week after Fall Time\n",
    "fwa=ft.copy(deep=True)\n",
    "fwa=ft+timedelta(days=7)\n",
    "\n",
    "#create the Datframe of the entries for two weeks before Fall Time\n",
    "two_fwb=ft.copy(deep=True)\n",
    "two_fwb=ft+timedelta(days=-14)\n",
    "\n",
    "#create the Datframe of the entries for two weeks after Fall Time\n",
    "two_fwa=ft.copy(deep=True)\n",
    "two_fwa=ft+timedelta(days=14)\n"
   ]
  },
  {
   "cell_type": "code",
   "execution_count": 168,
   "metadata": {},
   "outputs": [
    {
     "data": {
      "text/plain": [
       "0   2017-11-12\n",
       "1   2018-11-11\n",
       "2   2019-11-10\n",
       "Name: FT, dtype: datetime64[ns]"
      ]
     },
     "execution_count": 168,
     "metadata": {},
     "output_type": "execute_result"
    }
   ],
   "source": [
    "fwa['FT']"
   ]
  },
  {
   "cell_type": "code",
   "execution_count": 169,
   "metadata": {},
   "outputs": [],
   "source": [
    "fall=d[((d['Date']>=two_fwb['FT'][0])&(d['Date']<=two_fwa['FT2'][0]))|((d['Date']>=two_fwb['FT'][1])&(d['Date']<=two_fwa['FT2'][1]))|((d['Date']>=two_fwb['FT'][2])&(d['Date']<=two_fwa['FT2'][2]))]"
   ]
  },
  {
   "cell_type": "code",
   "execution_count": 170,
   "metadata": {},
   "outputs": [],
   "source": [
    "#Exclude entries from the State of Arizona since Arizona does not use daylight saving time\n",
    "#create a seperate dataframe for the entries from Arizona for reference\n",
    "faz=fall[fall['State']=='AZ'].copy(deep=True)\n",
    "fall=fall[fall['State']!='AZ'].copy(deep=True)"
   ]
  },
  {
   "cell_type": "code",
   "execution_count": 171,
   "metadata": {},
   "outputs": [],
   "source": [
    "faz_count_ft=ft.copy(deep=True)\n",
    "faz_count_wa=fwa.copy(deep=True)\n",
    "faz_count_wb=fwb.copy(deep=True)\n",
    "faz_count_2wa=two_fwa.copy(deep=True)\n",
    "faz_count_2wb=two_fwb.copy(deep=True)\n"
   ]
  },
  {
   "cell_type": "code",
   "execution_count": 172,
   "metadata": {},
   "outputs": [],
   "source": [
    "#count the number of accidents for the Week Before Fall Time\n",
    "for i in range(3):\n",
    "    for j in fwb.columns:\n",
    "        faz_count_wb.loc[i,j]=len(faz[faz['Date']==fwb.loc[i,j]])\n",
    "#count the number of accidents for the Fall Time \n",
    "for i in range(3):\n",
    "    for j in ft.columns:\n",
    "        faz_count_ft.loc[i,j]=len(faz[faz['Date']==ft.loc[i,j]])\n",
    "#count the number of accidents for the Week After Fall Time week \n",
    "for i in range(3):\n",
    "    for j in fwa.columns:\n",
    "        faz_count_wa.loc[i,(j)]=len(faz[faz['Date']==fwa.loc[i,j]])\n",
    "#count the number of accidents for the Week 2 weeks Before Fall Time \n",
    "for i in range(3):\n",
    "    for j in two_fwb.columns:\n",
    "        faz_count_2wb.loc[i,j]=len(faz[faz['Date']==two_fwb.loc[i,j]])\n",
    "#count the number of accidents for the Week 2 weeks After Fall Time \n",
    "for i in range(3):\n",
    "    for j in two_fwa.columns:\n",
    "        faz_count_2wa.loc[i,j]=len(faz[faz['Date']==two_fwa.loc[i,j]])\n"
   ]
  },
  {
   "cell_type": "code",
   "execution_count": 173,
   "metadata": {},
   "outputs": [],
   "source": [
    "#Convert the entries to integers so that we can perform calculations on the dataframe\n",
    "faz_count_wb=faz_count_wb.apply(pd.to_numeric)\n",
    "faz_count_ft=faz_count_ft.apply(pd.to_numeric)\n",
    "faz_count_wa=faz_count_wa.apply(pd.to_numeric)\n",
    "faz_count_2wa=faz_count_2wa.apply(pd.to_numeric)\n",
    "faz_count_2wb=faz_count_2wb.apply(pd.to_numeric)\n",
    "#Create a total column to find the sum of all accidents for a given week\n",
    "faz_count_wb['Total']=faz_count_wb.sum(axis=1)\n",
    "faz_count_ft['Total']=faz_count_ft.sum(axis=1)\n",
    "faz_count_wa['Total']=faz_count_wa.sum(axis=1)\n",
    "faz_count_2wb['Total']=faz_count_2wb.sum(axis=1)\n",
    "faz_count_2wa['Total']=faz_count_2wa.sum(axis=1)\n"
   ]
  },
  {
   "cell_type": "code",
   "execution_count": 174,
   "metadata": {},
   "outputs": [],
   "source": [
    "faz_count_wb.loc['mean'] = faz_count_wb.mean()\n",
    "faz_count_ft.loc['mean'] = faz_count_ft.mean()\n",
    "faz_count_wa.loc['mean'] = faz_count_wa.mean()\n",
    "faz_count_2wb.loc['mean'] = faz_count_2wb.mean()\n",
    "faz_count_2wa.loc['mean'] = faz_count_2wa.mean()\n"
   ]
  },
  {
   "cell_type": "code",
   "execution_count": null,
   "metadata": {},
   "outputs": [],
   "source": []
  },
  {
   "cell_type": "code",
   "execution_count": 175,
   "metadata": {},
   "outputs": [],
   "source": [
    "#create the moving average table for 3 days (Sunday-Tuesday) for the weeks of interest for the Arizona Data\n",
    "faz_ma=pd.DataFrame()\n",
    "faz_ma['2WB']=\"\"\n",
    "faz_ma['WB']=\"\"\n",
    "faz_ma['FT']=\"\"\n",
    "faz_ma['WA']=\"\"\n",
    "faz_ma['2WA']=\"\"\n",
    "\n",
    "faz_ma.loc[0,'2WB']=(faz_count_2wb.loc['mean','FT']+faz_count_2wb.loc['mean','FT1']+faz_count_2wb.loc['mean','FT2'])/3\n",
    "faz_ma.loc[0,'WB']=(faz_count_wb.loc['mean','FT']+faz_count_wb.loc['mean','FT1']+faz_count_wb.loc['mean','FT2'])/3\n",
    "faz_ma.loc[0,'FT']=(faz_count_ft.loc['mean','FT']+faz_count_ft.loc['mean','FT1']+faz_count_ft.loc['mean','FT2'])/3\n",
    "faz_ma.loc[0,'WA']=(faz_count_wa.loc['mean','FT']+faz_count_wa.loc['mean','FT1']+faz_count_wa.loc['mean','FT2'])/3\n",
    "faz_ma.loc[0,'2WA']=(faz_count_2wa.loc['mean','FT']+faz_count_2wa.loc['mean','FT1']+faz_count_2wa.loc['mean','FT2'])/3\n"
   ]
  },
  {
   "cell_type": "code",
   "execution_count": 176,
   "metadata": {},
   "outputs": [],
   "source": [
    "faz_count_ft=ft.copy(deep=True)\n",
    "faz_count_wa=fwa.copy(deep=True)\n",
    "faz_count_wb=fwb.copy(deep=True)\n",
    "faz_count_2wa=two_fwa.copy(deep=True)\n",
    "faz_count_2wb=two_fwb.copy(deep=True)\n"
   ]
  },
  {
   "cell_type": "code",
   "execution_count": 177,
   "metadata": {},
   "outputs": [
    {
     "data": {
      "text/plain": [
       "array(['CA', 'SC', 'UT', 'FL', 'OR', 'LA', 'WA', 'MD', 'ME'], dtype=object)"
      ]
     },
     "execution_count": 177,
     "metadata": {},
     "output_type": "execute_result"
    }
   ],
   "source": [
    "fall[(fall['Timezone']!='US/Eastern')&(fall['Timezone']!='US/Pacific')&(fall['Timezone']!='US/Central')&(fall['Timezone']!='US/Mountain')].State.unique()"
   ]
  },
  {
   "cell_type": "code",
   "execution_count": 178,
   "metadata": {},
   "outputs": [],
   "source": [
    "fpacific=fall[(fall['Timezone']=='US/Pacific')&(fall['State']!='LA')|(fall['State']=='CA')|(fall['State']=='OR')|(fall['State']=='WA')].copy(deep=True)"
   ]
  },
  {
   "cell_type": "code",
   "execution_count": 179,
   "metadata": {},
   "outputs": [],
   "source": [
    "feastern=fall[(fall['Timezone']=='US/Eastern')|(fall['State']=='FL')|(fall['State']=='SC')|(fall['State']=='MD')|(fall['State']=='ME')].copy(deep=True)"
   ]
  },
  {
   "cell_type": "code",
   "execution_count": 180,
   "metadata": {},
   "outputs": [],
   "source": [
    "fca=fall[fall['State']=='CA'].copy(deep=True)"
   ]
  },
  {
   "cell_type": "code",
   "execution_count": 181,
   "metadata": {},
   "outputs": [],
   "source": [
    "fpac_count_ft=ft.copy(deep=True)\n",
    "fpac_count_wa=fwa.copy(deep=True)\n",
    "fpac_count_wb=fwb.copy(deep=True)\n",
    "fpac_count_2wa=two_fwa.copy(deep=True)\n",
    "fpac_count_2wb=two_fwb.copy(deep=True)\n"
   ]
  },
  {
   "cell_type": "code",
   "execution_count": 182,
   "metadata": {},
   "outputs": [],
   "source": [
    "#count the number of accidents for the Week Before Fall Time\n",
    "for i in range(3):\n",
    "    for j in fwb.columns:\n",
    "        fpac_count_wb.loc[i,j]=len(fpacific[fpacific['Date']==fwb.loc[i,j]])\n",
    "#count the number of accidents for the Fall Time \n",
    "for i in range(3):\n",
    "    for j in ft.columns:\n",
    "        fpac_count_ft.loc[i,j]=len(fpacific[fpacific['Date']==ft.loc[i,j]])\n",
    "#count the number of accidents for the Week After Fall Time week \n",
    "for i in range(3):\n",
    "    for j in fwa.columns:\n",
    "        fpac_count_wa.loc[i,(j)]=len(fpacific[fpacific['Date']==fwa.loc[i,j]])\n",
    "#count the number of accidents for the Week 2 weeks Before Fall Time \n",
    "for i in range(3):\n",
    "    for j in two_fwb.columns:\n",
    "        fpac_count_2wb.loc[i,j]=len(fpacific[fpacific['Date']==two_fwb.loc[i,j]])\n",
    "#count the number of accidents for the Week 2 weeks After Fall Time \n",
    "for i in range(3):\n",
    "    for j in two_fwa.columns:\n",
    "        fpac_count_2wa.loc[i,j]=len(fpacific[fpacific['Date']==two_fwa.loc[i,j]])\n"
   ]
  },
  {
   "cell_type": "code",
   "execution_count": 183,
   "metadata": {},
   "outputs": [],
   "source": [
    "#Convert the entries to integers so that we can perform calculations on the dataframe\n",
    "fpac_count_wb=fpac_count_wb.apply(pd.to_numeric)\n",
    "fpac_count_ft=fpac_count_ft.apply(pd.to_numeric)\n",
    "fpac_count_wa=fpac_count_wa.apply(pd.to_numeric)\n",
    "fpac_count_2wa=fpac_count_2wa.apply(pd.to_numeric)\n",
    "fpac_count_2wb=fpac_count_2wb.apply(pd.to_numeric)\n",
    "#Create a total column to find the sum of all accidents for a given week\n",
    "fpac_count_wb['Total']=fpac_count_wb.sum(axis=1)\n",
    "fpac_count_ft['Total']=fpac_count_ft.sum(axis=1)\n",
    "fpac_count_wa['Total']=fpac_count_wa.sum(axis=1)\n",
    "fpac_count_2wb['Total']=fpac_count_2wb.sum(axis=1)\n",
    "fpac_count_2wa['Total']=fpac_count_2wa.sum(axis=1)\n"
   ]
  },
  {
   "cell_type": "code",
   "execution_count": 184,
   "metadata": {},
   "outputs": [],
   "source": [
    "fpac_count_wb.loc['mean'] = fpac_count_wb.mean()\n",
    "fpac_count_ft.loc['mean'] = fpac_count_ft.mean()\n",
    "fpac_count_wa.loc['mean'] = fpac_count_wa.mean()\n",
    "fpac_count_2wb.loc['mean'] = fpac_count_2wb.mean()\n",
    "fpac_count_2wa.loc['mean'] = fpac_count_2wa.mean()\n"
   ]
  },
  {
   "cell_type": "code",
   "execution_count": 185,
   "metadata": {},
   "outputs": [],
   "source": [
    "#create the moving average table for 3 days (Sunday-Tuesday) for the weeks of interest for the  Data\n",
    "fpac_ma=pd.DataFrame()\n",
    "fpac_ma['2WB']=\"\"\n",
    "fpac_ma['WB']=\"\"\n",
    "fpac_ma['FT']=\"\"\n",
    "fpac_ma['WA']=\"\"\n",
    "fpac_ma['2WA']=\"\"\n",
    "\n",
    "fpac_ma.loc[0,'2WB']=(fpac_count_2wb.loc['mean','FT']+fpac_count_2wb.loc['mean','FT1']+fpac_count_2wb.loc['mean','FT2'])/3\n",
    "fpac_ma.loc[0,'WB']=(fpac_count_wb.loc['mean','FT']+fpac_count_wb.loc['mean','FT1']+fpac_count_wb.loc['mean','FT2'])/3\n",
    "fpac_ma.loc[0,'FT']=(fpac_count_ft.loc['mean','FT']+fpac_count_ft.loc['mean','FT1']+fpac_count_ft.loc['mean','FT2'])/3\n",
    "fpac_ma.loc[0,'WA']=(fpac_count_wa.loc['mean','FT']+fpac_count_wa.loc['mean','FT1']+fpac_count_wa.loc['mean','FT2'])/3\n",
    "fpac_ma.loc[0,'2WA']=(fpac_count_2wa.loc['mean','FT']+fpac_count_2wa.loc['mean','FT1']+fpac_count_2wa.loc['mean','FT2'])/3\n"
   ]
  },
  {
   "cell_type": "code",
   "execution_count": 186,
   "metadata": {},
   "outputs": [
    {
     "data": {
      "text/html": [
       "<div>\n",
       "<style scoped>\n",
       "    .dataframe tbody tr th:only-of-type {\n",
       "        vertical-align: middle;\n",
       "    }\n",
       "\n",
       "    .dataframe tbody tr th {\n",
       "        vertical-align: top;\n",
       "    }\n",
       "\n",
       "    .dataframe thead th {\n",
       "        text-align: right;\n",
       "    }\n",
       "</style>\n",
       "<table border=\"1\" class=\"dataframe\">\n",
       "  <thead>\n",
       "    <tr style=\"text-align: right;\">\n",
       "      <th></th>\n",
       "      <th>2WB</th>\n",
       "      <th>WB</th>\n",
       "      <th>FT</th>\n",
       "      <th>WA</th>\n",
       "      <th>2WA</th>\n",
       "    </tr>\n",
       "  </thead>\n",
       "  <tbody>\n",
       "    <tr>\n",
       "      <th>0</th>\n",
       "      <td>61.3333</td>\n",
       "      <td>57.5556</td>\n",
       "      <td>67.3333</td>\n",
       "      <td>70.6667</td>\n",
       "      <td>70.8889</td>\n",
       "    </tr>\n",
       "  </tbody>\n",
       "</table>\n",
       "</div>"
      ],
      "text/plain": [
       "       2WB       WB       FT       WA      2WA\n",
       "0  61.3333  57.5556  67.3333  70.6667  70.8889"
      ]
     },
     "execution_count": 186,
     "metadata": {},
     "output_type": "execute_result"
    }
   ],
   "source": [
    "faz_ma"
   ]
  },
  {
   "cell_type": "code",
   "execution_count": 187,
   "metadata": {},
   "outputs": [],
   "source": [
    "feast_count_ft=ft.copy(deep=True)\n",
    "feast_count_wa=fwa.copy(deep=True)\n",
    "feast_count_wb=fwb.copy(deep=True)\n",
    "feast_count_2wa=two_fwa.copy(deep=True)\n",
    "feast_count_2wb=two_fwb.copy(deep=True)\n"
   ]
  },
  {
   "cell_type": "code",
   "execution_count": 188,
   "metadata": {},
   "outputs": [],
   "source": [
    "#count the number of accidents for the Week Before Fall Time\n",
    "for i in range(3):\n",
    "    for j in fwb.columns:\n",
    "        feast_count_wb.loc[i,j]=len(feastern[feastern['Date']==fwb.loc[i,j]])\n",
    "#count the number of accidents for the Fall Time \n",
    "for i in range(3):\n",
    "    for j in ft.columns:\n",
    "        feast_count_ft.loc[i,j]=len(feastern[feastern['Date']==ft.loc[i,j]])\n",
    "#count the number of accidents for the Week After Fall Time week \n",
    "for i in range(3):\n",
    "    for j in fwa.columns:\n",
    "        feast_count_wa.loc[i,(j)]=len(feastern[feastern['Date']==fwa.loc[i,j]])\n",
    "#count the number of accidents for the Week 2 weeks Before Fall Time \n",
    "for i in range(3):\n",
    "    for j in two_fwb.columns:\n",
    "        feast_count_2wb.loc[i,j]=len(feastern[feastern['Date']==two_fwb.loc[i,j]])\n",
    "#count the number of accidents for the Week 2 weeks After Fall Time \n",
    "for i in range(3):\n",
    "    for j in two_fwa.columns:\n",
    "        feast_count_2wa.loc[i,j]=len(feastern[feastern['Date']==two_fwa.loc[i,j]])\n"
   ]
  },
  {
   "cell_type": "code",
   "execution_count": 189,
   "metadata": {},
   "outputs": [],
   "source": [
    "#Convert the entries to integers so that we can perform calculations on the dataframe\n",
    "feast_count_wb=feast_count_wb.apply(pd.to_numeric)\n",
    "feast_count_ft=feast_count_ft.apply(pd.to_numeric)\n",
    "feast_count_wa=feast_count_wa.apply(pd.to_numeric)\n",
    "feast_count_2wa=feast_count_2wa.apply(pd.to_numeric)\n",
    "feast_count_2wb=feast_count_2wb.apply(pd.to_numeric)\n",
    "#Create a total column to find the sum of all accidents for a given week\n",
    "feast_count_wb['Total']=feast_count_wb.sum(axis=1)\n",
    "feast_count_ft['Total']=feast_count_ft.sum(axis=1)\n",
    "feast_count_wa['Total']=feast_count_wa.sum(axis=1)\n",
    "feast_count_2wb['Total']=feast_count_2wb.sum(axis=1)\n",
    "feast_count_2wa['Total']=feast_count_2wa.sum(axis=1)\n"
   ]
  },
  {
   "cell_type": "code",
   "execution_count": 190,
   "metadata": {},
   "outputs": [],
   "source": [
    "feast_count_wb.loc['mean'] = feast_count_wb.mean()\n",
    "feast_count_ft.loc['mean'] = feast_count_ft.mean()\n",
    "feast_count_wa.loc['mean'] = feast_count_wa.mean()\n",
    "feast_count_2wb.loc['mean'] = feast_count_2wb.mean()\n",
    "feast_count_2wa.loc['mean'] = feast_count_2wa.mean()\n"
   ]
  },
  {
   "cell_type": "code",
   "execution_count": 191,
   "metadata": {},
   "outputs": [],
   "source": [
    "#create the moving average table for 3 days (Sunday-Tuesday) for the weeks of interest for the Data\n",
    "feast_ma=pd.DataFrame()\n",
    "feast_ma['2WB']=\"\"\n",
    "feast_ma['WB']=\"\"\n",
    "feast_ma['FT']=\"\"\n",
    "feast_ma['WA']=\"\"\n",
    "feast_ma['2WA']=\"\"\n",
    "\n",
    "feast_ma.loc[0,'2WB']=(feast_count_2wb.loc['mean','FT']+feast_count_2wb.loc['mean','FT1']+feast_count_2wb.loc['mean','FT2'])/3\n",
    "feast_ma.loc[0,'WB']=(feast_count_wb.loc['mean','FT']+feast_count_wb.loc['mean','FT1']+feast_count_wb.loc['mean','FT2'])/3\n",
    "feast_ma.loc[0,'FT']=(feast_count_ft.loc['mean','FT']+feast_count_ft.loc['mean','FT1']+feast_count_ft.loc['mean','FT2'])/3\n",
    "feast_ma.loc[0,'WA']=(feast_count_wa.loc['mean','FT']+feast_count_wa.loc['mean','FT1']+feast_count_wa.loc['mean','FT2'])/3\n",
    "feast_ma.loc[0,'2WA']=(feast_count_2wa.loc['mean','FT']+feast_count_2wa.loc['mean','FT1']+feast_count_2wa.loc['mean','FT2'])/3\n",
    "\n"
   ]
  },
  {
   "cell_type": "code",
   "execution_count": 192,
   "metadata": {},
   "outputs": [],
   "source": [
    "fca_count_ft=ft.copy(deep=True)\n",
    "fca_count_wa=fwa.copy(deep=True)\n",
    "fca_count_wb=fwb.copy(deep=True)\n",
    "fca_count_2wa=two_fwa.copy(deep=True)\n",
    "fca_count_2wb=two_fwb.copy(deep=True)\n"
   ]
  },
  {
   "cell_type": "code",
   "execution_count": 193,
   "metadata": {},
   "outputs": [],
   "source": [
    "#count the number of accidents for the Week Before Fall Time\n",
    "for i in range(3):\n",
    "    for j in fwb.columns:\n",
    "        fca_count_wb.loc[i,j]=len(fca[fca['Date']==fwb.loc[i,j]])\n",
    "#count the number of accidents for the Fall Time \n",
    "for i in range(3):\n",
    "    for j in ft.columns:\n",
    "        fca_count_ft.loc[i,j]=len(fca[fca['Date']==ft.loc[i,j]])\n",
    "#count the number of accidents for the Week After Fall Time week \n",
    "for i in range(3):\n",
    "    for j in fwa.columns:\n",
    "        fca_count_wa.loc[i,(j)]=len(fca[fca['Date']==fwa.loc[i,j]])\n",
    "#count the number of accidents for the Week 2 weeks Before Fall Time \n",
    "for i in range(3):\n",
    "    for j in two_fwb.columns:\n",
    "        fca_count_2wb.loc[i,j]=len(fca[fca['Date']==two_fwb.loc[i,j]])\n",
    "#count the number of accidents for the Week 2 weeks After Fall Time \n",
    "for i in range(3):\n",
    "    for j in two_fwa.columns:\n",
    "        fca_count_2wa.loc[i,j]=len(fca[fca['Date']==two_fwa.loc[i,j]])\n"
   ]
  },
  {
   "cell_type": "code",
   "execution_count": 194,
   "metadata": {},
   "outputs": [],
   "source": [
    "#Convert the entries to integers so that we can perform calculations on the dataframe\n",
    "fca_count_wb=fca_count_wb.apply(pd.to_numeric)\n",
    "fca_count_ft=fca_count_ft.apply(pd.to_numeric)\n",
    "fca_count_wa=fca_count_wa.apply(pd.to_numeric)\n",
    "fca_count_2wa=fca_count_2wa.apply(pd.to_numeric)\n",
    "fca_count_2wb=fca_count_2wb.apply(pd.to_numeric)\n",
    "#Create a total column to find the sum of all accidents for a given week\n",
    "fca_count_wb['Total']=fca_count_wb.sum(axis=1)\n",
    "fca_count_ft['Total']=fca_count_ft.sum(axis=1)\n",
    "fca_count_wa['Total']=fca_count_wa.sum(axis=1)\n",
    "fca_count_2wb['Total']=fca_count_2wb.sum(axis=1)\n",
    "fca_count_2wa['Total']=fca_count_2wa.sum(axis=1)\n"
   ]
  },
  {
   "cell_type": "code",
   "execution_count": 195,
   "metadata": {},
   "outputs": [],
   "source": [
    "fca_count_wb.loc['mean'] = fca_count_wb.mean()\n",
    "fca_count_ft.loc['mean'] = fca_count_ft.mean()\n",
    "fca_count_wa.loc['mean'] = fca_count_wa.mean()\n",
    "fca_count_2wb.loc['mean'] = fca_count_2wb.mean()\n",
    "fca_count_2wa.loc['mean'] = fca_count_2wa.mean()\n"
   ]
  },
  {
   "cell_type": "code",
   "execution_count": 196,
   "metadata": {},
   "outputs": [],
   "source": [
    "#create the moving average table for 3 days (Sunday-Tuesday) for the weeks of interest for the Data\n",
    "fca_ma=pd.DataFrame()\n",
    "fca_ma['2WB']=\"\"\n",
    "fca_ma['WB']=\"\"\n",
    "fca_ma['FT']=\"\"\n",
    "fca_ma['WA']=\"\"\n",
    "fca_ma['2WA']=\"\"\n",
    "\n",
    "fca_ma.loc[0,'2WB']=(fca_count_2wb.loc['mean','FT']+fca_count_2wb.loc['mean','FT1']+fca_count_2wb.loc['mean','FT2'])/3\n",
    "fca_ma.loc[0,'WB']=(fca_count_wb.loc['mean','FT']+fca_count_wb.loc['mean','FT1']+fca_count_wb.loc['mean','FT2'])/3\n",
    "fca_ma.loc[0,'FT']=(fca_count_ft.loc['mean','FT']+fca_count_ft.loc['mean','FT1']+fca_count_ft.loc['mean','FT2'])/3\n",
    "fca_ma.loc[0,'WA']=(fca_count_wa.loc['mean','FT']+fca_count_wa.loc['mean','FT1']+fca_count_wa.loc['mean','FT2'])/3\n",
    "fca_ma.loc[0,'2WA']=(fca_count_2wa.loc['mean','FT']+fca_count_2wa.loc['mean','FT1']+fca_count_2wa.loc['mean','FT2'])/3\n"
   ]
  },
  {
   "cell_type": "code",
   "execution_count": 197,
   "metadata": {},
   "outputs": [],
   "source": [
    "ftotal_count_ft=ft.copy(deep=True)\n",
    "ftotal_count_wa=fwa.copy(deep=True)\n",
    "ftotal_count_wb=fwb.copy(deep=True)\n",
    "ftotal_count_2wa=two_fwa.copy(deep=True)\n",
    "ftotal_count_2wb=two_fwb.copy(deep=True)\n"
   ]
  },
  {
   "cell_type": "code",
   "execution_count": 198,
   "metadata": {},
   "outputs": [],
   "source": [
    "#count the number of accidents for the Week Before Fall Time\n",
    "for i in range(3):\n",
    "    for j in fwb.columns:\n",
    "        ftotal_count_wb.loc[i,j]=len(fall[fall['Date']==fwb.loc[i,j]])\n",
    "#count the number of accidents for the Fall Time data frame\n",
    "for i in range(3):\n",
    "    for j in ft.columns:\n",
    "        ftotal_count_ft.loc[i,j]=len(fall[fall['Date']==ft.loc[i,j]])\n",
    "#count the number of accidents for the Week After Fall Time week \n",
    "for i in range(3):\n",
    "    for j in fwa.columns:\n",
    "        ftotal_count_wa.loc[i,(j)]=len(fall[fall['Date']==fwa.loc[i,j]])\n",
    "#count the number of accidents for the Week 2 weeks Before Fall Time \n",
    "for i in range(3):\n",
    "    for j in two_fwb.columns:\n",
    "        ftotal_count_2wb.loc[i,j]=len(fall[fall['Date']==two_fwb.loc[i,j]])\n",
    "#count the number of accidents for the Week 2 weeks After Fall Time \n",
    "for i in range(3):\n",
    "    for j in two_fwa.columns:\n",
    "        ftotal_count_2wa.loc[i,j]=len(fall[fall['Date']==two_fwa.loc[i,j]])\n"
   ]
  },
  {
   "cell_type": "code",
   "execution_count": 199,
   "metadata": {},
   "outputs": [],
   "source": [
    "#Convert the entries to integers so that we can perform calculations on the dataframe\n",
    "ftotal_count_wb=ftotal_count_wb.apply(pd.to_numeric)\n",
    "ftotal_count_ft=ftotal_count_ft.apply(pd.to_numeric)\n",
    "ftotal_count_wa=ftotal_count_wa.apply(pd.to_numeric)\n",
    "ftotal_count_2wa=ftotal_count_2wa.apply(pd.to_numeric)\n",
    "ftotal_count_2wb=ftotal_count_2wb.apply(pd.to_numeric)\n",
    "#Create a total column to find the sum of all accidents for a given week\n",
    "ftotal_count_wb['Total']=ftotal_count_wb.sum(axis=1)\n",
    "ftotal_count_ft['Total']=ftotal_count_ft.sum(axis=1)\n",
    "ftotal_count_wa['Total']=ftotal_count_wa.sum(axis=1)\n",
    "ftotal_count_2wb['Total']=ftotal_count_2wb.sum(axis=1)\n",
    "ftotal_count_2wa['Total']=ftotal_count_2wa.sum(axis=1)\n"
   ]
  },
  {
   "cell_type": "code",
   "execution_count": 200,
   "metadata": {},
   "outputs": [],
   "source": [
    "ftotal_count_wb.loc['mean'] = ftotal_count_wb.mean()\n",
    "ftotal_count_ft.loc['mean'] = ftotal_count_ft.mean()\n",
    "ftotal_count_wa.loc['mean'] = ftotal_count_wa.mean()\n",
    "ftotal_count_2wb.loc['mean'] = ftotal_count_2wb.mean()\n",
    "ftotal_count_2wa.loc['mean'] = ftotal_count_2wa.mean()\n"
   ]
  },
  {
   "cell_type": "code",
   "execution_count": 201,
   "metadata": {},
   "outputs": [],
   "source": [
    "#create the moving average table for 3 days (Sunday-Tuesday) for the weeks of interest for the Data\n",
    "fma=pd.DataFrame()\n",
    "fma['2WB']=\"\"\n",
    "fma['WB']=\"\"\n",
    "fma['FT']=\"\"\n",
    "fma['WA']=\"\"\n",
    "fma['2WA']=\"\"\n",
    "\n",
    "fma.loc[0,'2WB']=(ftotal_count_2wb.loc['mean','FT']+ftotal_count_2wb.loc['mean','FT1']+ftotal_count_2wb.loc['mean','FT2'])/3\n",
    "fma.loc[0,'WB']=(ftotal_count_wb.loc['mean','FT']+ftotal_count_wb.loc['mean','FT1']+ftotal_count_wb.loc['mean','FT2'])/3\n",
    "fma.loc[0,'FT']=(ftotal_count_ft.loc['mean','FT']+ftotal_count_ft.loc['mean','FT1']+ftotal_count_ft.loc['mean','FT2'])/3\n",
    "fma.loc[0,'WA']=(ftotal_count_wa.loc['mean','FT']+ftotal_count_wa.loc['mean','FT1']+ftotal_count_wa.loc['mean','FT2'])/3\n",
    "fma.loc[0,'2WA']=(ftotal_count_2wa.loc['mean','FT']+ftotal_count_2wa.loc['mean','FT1']+ftotal_count_2wa.loc['mean','FT2'])/3\n"
   ]
  },
  {
   "cell_type": "code",
   "execution_count": 202,
   "metadata": {},
   "outputs": [],
   "source": [
    "#create a dataframe for the moving average for the regions and states of interest\n",
    "fma=fma.append(faz_ma).append(fpac_ma).append(feast_ma).append(fca_ma)\n",
    "fma.reset_index(inplace=True)\n",
    "fma.drop(columns=['index'],inplace=True)\n",
    "fma.rename(index={0: \"Total\",1:\"AZ\",2:\"Pacific\",3:\"Eastern\",4:\"CA\"},inplace=True)"
   ]
  },
  {
   "cell_type": "code",
   "execution_count": 203,
   "metadata": {},
   "outputs": [
    {
     "data": {
      "text/html": [
       "<div>\n",
       "<style scoped>\n",
       "    .dataframe tbody tr th:only-of-type {\n",
       "        vertical-align: middle;\n",
       "    }\n",
       "\n",
       "    .dataframe tbody tr th {\n",
       "        vertical-align: top;\n",
       "    }\n",
       "\n",
       "    .dataframe thead th {\n",
       "        text-align: right;\n",
       "    }\n",
       "</style>\n",
       "<table border=\"1\" class=\"dataframe\">\n",
       "  <thead>\n",
       "    <tr style=\"text-align: right;\">\n",
       "      <th></th>\n",
       "      <th>2WB</th>\n",
       "      <th>WB</th>\n",
       "      <th>FT</th>\n",
       "      <th>WA</th>\n",
       "      <th>2WA</th>\n",
       "    </tr>\n",
       "  </thead>\n",
       "  <tbody>\n",
       "    <tr>\n",
       "      <th>Total</th>\n",
       "      <td>2679.67</td>\n",
       "      <td>2623.22</td>\n",
       "      <td>2697.67</td>\n",
       "      <td>2591</td>\n",
       "      <td>2390.44</td>\n",
       "    </tr>\n",
       "    <tr>\n",
       "      <th>AZ</th>\n",
       "      <td>61.3333</td>\n",
       "      <td>57.5556</td>\n",
       "      <td>67.3333</td>\n",
       "      <td>70.6667</td>\n",
       "      <td>70.8889</td>\n",
       "    </tr>\n",
       "    <tr>\n",
       "      <th>Pacific</th>\n",
       "      <td>737.778</td>\n",
       "      <td>767.222</td>\n",
       "      <td>826.889</td>\n",
       "      <td>708.889</td>\n",
       "      <td>519.556</td>\n",
       "    </tr>\n",
       "    <tr>\n",
       "      <th>Eastern</th>\n",
       "      <td>1204.67</td>\n",
       "      <td>1134</td>\n",
       "      <td>1124.22</td>\n",
       "      <td>1101.56</td>\n",
       "      <td>1195.44</td>\n",
       "    </tr>\n",
       "    <tr>\n",
       "      <th>CA</th>\n",
       "      <td>625</td>\n",
       "      <td>614.111</td>\n",
       "      <td>677.556</td>\n",
       "      <td>571.444</td>\n",
       "      <td>367.444</td>\n",
       "    </tr>\n",
       "  </tbody>\n",
       "</table>\n",
       "</div>"
      ],
      "text/plain": [
       "             2WB       WB       FT       WA      2WA\n",
       "Total    2679.67  2623.22  2697.67     2591  2390.44\n",
       "AZ       61.3333  57.5556  67.3333  70.6667  70.8889\n",
       "Pacific  737.778  767.222  826.889  708.889  519.556\n",
       "Eastern  1204.67     1134  1124.22  1101.56  1195.44\n",
       "CA           625  614.111  677.556  571.444  367.444"
      ]
     },
     "execution_count": 203,
     "metadata": {},
     "output_type": "execute_result"
    }
   ],
   "source": [
    "fma"
   ]
  },
  {
   "cell_type": "code",
   "execution_count": 204,
   "metadata": {},
   "outputs": [
    {
     "data": {
      "image/png": "[encoded data removed]",
      "text/plain": [
       "<Figure size 288x216 with 2 Axes>"
      ]
     },
     "metadata": {},
     "output_type": "display_data"
    }
   ],
   "source": [
    "fig,ax=plt.subplots()\n",
    "plt.style.use('default')\n",
    "ax.plot(fma.columns,fma.loc['Total'],label='Total',marker='o')\n",
    "ax.set_xlabel('Date Relative to Daylight Saving(DS) Time')\n",
    "ax.set_ylabel('Number of Accidents (Total)')\n",
    "plt.ylim(1900,2750)\n",
    "ax2=ax.twinx()\n",
    "ax2.plot(fma.columns,fma.loc['AZ'],color='r',label='AZ',marker='o')\n",
    "ax2.set_ylabel('Number of Accidents (AZ)')\n",
    "ax2.set_ylim(30,75)\n",
    "ax.figure.legend()\n",
    "fig.set_size_inches(4, 3)\n",
    "\n",
    "plt.show()"
   ]
  },
  {
   "cell_type": "code",
   "execution_count": 205,
   "metadata": {},
   "outputs": [
    {
     "data": {
      "image/png": "[encoded data removed]",
      "text/plain": [
       "<Figure size 400x300 with 2 Axes>"
      ]
     },
     "metadata": {},
     "output_type": "display_data"
    }
   ],
   "source": [
    "fig,ax=plt.subplots()\n",
    "plt.style.use('default')\n",
    "line=ax.plot(fma.columns,fma.loc['Pacific'],label='Pacific',marker='o')\n",
    "ax.set_xlabel('Date Relative to Daylight Saving(DS) Time')\n",
    "ax.set_ylabel('Number of Accidents (Pacific)')\n",
    "plt.ylim(100,850)\n",
    "ax2=ax.twinx()\n",
    "ax2.plot(fma.columns,fma.loc['AZ'],color='r',label='AZ',marker='o')\n",
    "ax2.set_ylabel('Number of Accidents (AZ)')\n",
    "ax2.set_ylim(30,75)\n",
    "ax.figure.legend()\n",
    "fig.set_size_inches(4, 3)\n",
    "\n",
    "plt.show()\n"
   ]
  },
  {
   "cell_type": "code",
   "execution_count": 206,
   "metadata": {},
   "outputs": [
    {
     "data": {
      "image/png": "[encoded data removed]",
      "text/plain": [
       "<Figure size 400x300 with 2 Axes>"
      ]
     },
     "metadata": {},
     "output_type": "display_data"
    }
   ],
   "source": [
    "fig,ax=plt.subplots()\n",
    "\n",
    "line=ax.plot(fma.columns,fma.loc['Eastern'],label='Eastern',marker='o')\n",
    "ax.set_xlabel('Date Relative to Daylight Saving(DS) Time')\n",
    "ax.set_ylabel('Number of Accidents (Eastern)')\n",
    "plt.ylim(900,1300)\n",
    "ax2=ax.twinx()\n",
    "ax2.plot(fma.columns,fma.loc['AZ'],color='r',label='AZ',marker='o')\n",
    "ax2.set_ylabel('Number of Accidents (AZ)')\n",
    "ax2.set_ylim(30,75)\n",
    "ax.figure.legend()\n",
    "fig.set_size_inches(4, 3)\n",
    "plt.show()\n"
   ]
  },
  {
   "cell_type": "code",
   "execution_count": 207,
   "metadata": {},
   "outputs": [
    {
     "data": {
      "image/png": "[encoded data removed]",
      "text/plain": [
       "<Figure size 400x300 with 2 Axes>"
      ]
     },
     "metadata": {},
     "output_type": "display_data"
    }
   ],
   "source": [
    "fig,ax=plt.subplots()\n",
    "ax.plot(fma.columns,fma.loc['CA'],label='CA',marker='o')\n",
    "ax.set_xlabel('Date Relative to Daylight Saving(DS) Time')\n",
    "ax.set_ylabel('Number of Accidents (CA)')\n",
    "plt.ylim(0,700)\n",
    "ax2=ax.twinx()\n",
    "line=ax2.plot(fma.columns,fma.loc['AZ'], color='r',label='AZ',marker='o')\n",
    "ax2.set_ylabel('Number of Accidents (AZ)')\n",
    "ax2.set_ylim(30,75)\n",
    "fig.set_size_inches(4, 3)\n",
    "ax.figure.legend()\n",
    "plt.show()\n"
   ]
  },
  {
   "cell_type": "code",
   "execution_count": null,
   "metadata": {},
   "outputs": [],
   "source": []
  }
 ],
 "metadata": {
  "kernelspec": {
   "display_name": "Python 3",
   "language": "python",
   "name": "python3"
  },
  "language_info": {
   "codemirror_mode": {
    "name": "ipython",
    "version": 3
   },
   "file_extension": ".py",
   "mimetype": "text/x-python",
   "name": "python",
   "nbconvert_exporter": "python",
   "pygments_lexer": "ipython3",
   "version": "3.8.5"
  }
 },
 "nbformat": 4,
 "nbformat_minor": 4
}
